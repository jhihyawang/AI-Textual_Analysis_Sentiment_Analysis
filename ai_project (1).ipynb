{
  "nbformat": 4,
  "nbformat_minor": 0,
  "metadata": {
    "colab": {
      "provenance": []
    },
    "kernelspec": {
      "name": "python3",
      "display_name": "Python 3"
    },
    "language_info": {
      "name": "python"
    },
    "widgets": {
      "application/vnd.jupyter.widget-state+json": {
        "6eb6dbf7af9c4702903c7893d2544e10": {
          "model_module": "@jupyter-widgets/controls",
          "model_name": "HBoxModel",
          "model_module_version": "1.5.0",
          "state": {
            "_dom_classes": [],
            "_model_module": "@jupyter-widgets/controls",
            "_model_module_version": "1.5.0",
            "_model_name": "HBoxModel",
            "_view_count": null,
            "_view_module": "@jupyter-widgets/controls",
            "_view_module_version": "1.5.0",
            "_view_name": "HBoxView",
            "box_style": "",
            "children": [
              "IPY_MODEL_b06591ca88c748fa8e38726fd7124c67",
              "IPY_MODEL_ab5077e17e6b4b99baf0dcf0fbb1f02f",
              "IPY_MODEL_3a4b614103f7412c902ad5c3d7db359c"
            ],
            "layout": "IPY_MODEL_4a1aa236fd1d4df49e65d580e986a1db"
          }
        },
        "b06591ca88c748fa8e38726fd7124c67": {
          "model_module": "@jupyter-widgets/controls",
          "model_name": "HTMLModel",
          "model_module_version": "1.5.0",
          "state": {
            "_dom_classes": [],
            "_model_module": "@jupyter-widgets/controls",
            "_model_module_version": "1.5.0",
            "_model_name": "HTMLModel",
            "_view_count": null,
            "_view_module": "@jupyter-widgets/controls",
            "_view_module_version": "1.5.0",
            "_view_name": "HTMLView",
            "description": "",
            "description_tooltip": null,
            "layout": "IPY_MODEL_b3c972b3c9174d5dac0fe78686679d1e",
            "placeholder": "​",
            "style": "IPY_MODEL_558ec5fbd415401cb7c4ec62bddb8920",
            "value": "tokenizer_config.json: 100%"
          }
        },
        "ab5077e17e6b4b99baf0dcf0fbb1f02f": {
          "model_module": "@jupyter-widgets/controls",
          "model_name": "FloatProgressModel",
          "model_module_version": "1.5.0",
          "state": {
            "_dom_classes": [],
            "_model_module": "@jupyter-widgets/controls",
            "_model_module_version": "1.5.0",
            "_model_name": "FloatProgressModel",
            "_view_count": null,
            "_view_module": "@jupyter-widgets/controls",
            "_view_module_version": "1.5.0",
            "_view_name": "ProgressView",
            "bar_style": "success",
            "description": "",
            "description_tooltip": null,
            "layout": "IPY_MODEL_9403ae97561b429c886f88f86eff82b4",
            "max": 48,
            "min": 0,
            "orientation": "horizontal",
            "style": "IPY_MODEL_6f8500b3337646dd9a0aca5132dcbc4e",
            "value": 48
          }
        },
        "3a4b614103f7412c902ad5c3d7db359c": {
          "model_module": "@jupyter-widgets/controls",
          "model_name": "HTMLModel",
          "model_module_version": "1.5.0",
          "state": {
            "_dom_classes": [],
            "_model_module": "@jupyter-widgets/controls",
            "_model_module_version": "1.5.0",
            "_model_name": "HTMLModel",
            "_view_count": null,
            "_view_module": "@jupyter-widgets/controls",
            "_view_module_version": "1.5.0",
            "_view_name": "HTMLView",
            "description": "",
            "description_tooltip": null,
            "layout": "IPY_MODEL_d68faa3af4544e06bcc7609e121ec90c",
            "placeholder": "​",
            "style": "IPY_MODEL_368a242a59454142ac3f76e369d0e7ee",
            "value": " 48.0/48.0 [00:00&lt;00:00, 865B/s]"
          }
        },
        "4a1aa236fd1d4df49e65d580e986a1db": {
          "model_module": "@jupyter-widgets/base",
          "model_name": "LayoutModel",
          "model_module_version": "1.2.0",
          "state": {
            "_model_module": "@jupyter-widgets/base",
            "_model_module_version": "1.2.0",
            "_model_name": "LayoutModel",
            "_view_count": null,
            "_view_module": "@jupyter-widgets/base",
            "_view_module_version": "1.2.0",
            "_view_name": "LayoutView",
            "align_content": null,
            "align_items": null,
            "align_self": null,
            "border": null,
            "bottom": null,
            "display": null,
            "flex": null,
            "flex_flow": null,
            "grid_area": null,
            "grid_auto_columns": null,
            "grid_auto_flow": null,
            "grid_auto_rows": null,
            "grid_column": null,
            "grid_gap": null,
            "grid_row": null,
            "grid_template_areas": null,
            "grid_template_columns": null,
            "grid_template_rows": null,
            "height": null,
            "justify_content": null,
            "justify_items": null,
            "left": null,
            "margin": null,
            "max_height": null,
            "max_width": null,
            "min_height": null,
            "min_width": null,
            "object_fit": null,
            "object_position": null,
            "order": null,
            "overflow": null,
            "overflow_x": null,
            "overflow_y": null,
            "padding": null,
            "right": null,
            "top": null,
            "visibility": null,
            "width": null
          }
        },
        "b3c972b3c9174d5dac0fe78686679d1e": {
          "model_module": "@jupyter-widgets/base",
          "model_name": "LayoutModel",
          "model_module_version": "1.2.0",
          "state": {
            "_model_module": "@jupyter-widgets/base",
            "_model_module_version": "1.2.0",
            "_model_name": "LayoutModel",
            "_view_count": null,
            "_view_module": "@jupyter-widgets/base",
            "_view_module_version": "1.2.0",
            "_view_name": "LayoutView",
            "align_content": null,
            "align_items": null,
            "align_self": null,
            "border": null,
            "bottom": null,
            "display": null,
            "flex": null,
            "flex_flow": null,
            "grid_area": null,
            "grid_auto_columns": null,
            "grid_auto_flow": null,
            "grid_auto_rows": null,
            "grid_column": null,
            "grid_gap": null,
            "grid_row": null,
            "grid_template_areas": null,
            "grid_template_columns": null,
            "grid_template_rows": null,
            "height": null,
            "justify_content": null,
            "justify_items": null,
            "left": null,
            "margin": null,
            "max_height": null,
            "max_width": null,
            "min_height": null,
            "min_width": null,
            "object_fit": null,
            "object_position": null,
            "order": null,
            "overflow": null,
            "overflow_x": null,
            "overflow_y": null,
            "padding": null,
            "right": null,
            "top": null,
            "visibility": null,
            "width": null
          }
        },
        "558ec5fbd415401cb7c4ec62bddb8920": {
          "model_module": "@jupyter-widgets/controls",
          "model_name": "DescriptionStyleModel",
          "model_module_version": "1.5.0",
          "state": {
            "_model_module": "@jupyter-widgets/controls",
            "_model_module_version": "1.5.0",
            "_model_name": "DescriptionStyleModel",
            "_view_count": null,
            "_view_module": "@jupyter-widgets/base",
            "_view_module_version": "1.2.0",
            "_view_name": "StyleView",
            "description_width": ""
          }
        },
        "9403ae97561b429c886f88f86eff82b4": {
          "model_module": "@jupyter-widgets/base",
          "model_name": "LayoutModel",
          "model_module_version": "1.2.0",
          "state": {
            "_model_module": "@jupyter-widgets/base",
            "_model_module_version": "1.2.0",
            "_model_name": "LayoutModel",
            "_view_count": null,
            "_view_module": "@jupyter-widgets/base",
            "_view_module_version": "1.2.0",
            "_view_name": "LayoutView",
            "align_content": null,
            "align_items": null,
            "align_self": null,
            "border": null,
            "bottom": null,
            "display": null,
            "flex": null,
            "flex_flow": null,
            "grid_area": null,
            "grid_auto_columns": null,
            "grid_auto_flow": null,
            "grid_auto_rows": null,
            "grid_column": null,
            "grid_gap": null,
            "grid_row": null,
            "grid_template_areas": null,
            "grid_template_columns": null,
            "grid_template_rows": null,
            "height": null,
            "justify_content": null,
            "justify_items": null,
            "left": null,
            "margin": null,
            "max_height": null,
            "max_width": null,
            "min_height": null,
            "min_width": null,
            "object_fit": null,
            "object_position": null,
            "order": null,
            "overflow": null,
            "overflow_x": null,
            "overflow_y": null,
            "padding": null,
            "right": null,
            "top": null,
            "visibility": null,
            "width": null
          }
        },
        "6f8500b3337646dd9a0aca5132dcbc4e": {
          "model_module": "@jupyter-widgets/controls",
          "model_name": "ProgressStyleModel",
          "model_module_version": "1.5.0",
          "state": {
            "_model_module": "@jupyter-widgets/controls",
            "_model_module_version": "1.5.0",
            "_model_name": "ProgressStyleModel",
            "_view_count": null,
            "_view_module": "@jupyter-widgets/base",
            "_view_module_version": "1.2.0",
            "_view_name": "StyleView",
            "bar_color": null,
            "description_width": ""
          }
        },
        "d68faa3af4544e06bcc7609e121ec90c": {
          "model_module": "@jupyter-widgets/base",
          "model_name": "LayoutModel",
          "model_module_version": "1.2.0",
          "state": {
            "_model_module": "@jupyter-widgets/base",
            "_model_module_version": "1.2.0",
            "_model_name": "LayoutModel",
            "_view_count": null,
            "_view_module": "@jupyter-widgets/base",
            "_view_module_version": "1.2.0",
            "_view_name": "LayoutView",
            "align_content": null,
            "align_items": null,
            "align_self": null,
            "border": null,
            "bottom": null,
            "display": null,
            "flex": null,
            "flex_flow": null,
            "grid_area": null,
            "grid_auto_columns": null,
            "grid_auto_flow": null,
            "grid_auto_rows": null,
            "grid_column": null,
            "grid_gap": null,
            "grid_row": null,
            "grid_template_areas": null,
            "grid_template_columns": null,
            "grid_template_rows": null,
            "height": null,
            "justify_content": null,
            "justify_items": null,
            "left": null,
            "margin": null,
            "max_height": null,
            "max_width": null,
            "min_height": null,
            "min_width": null,
            "object_fit": null,
            "object_position": null,
            "order": null,
            "overflow": null,
            "overflow_x": null,
            "overflow_y": null,
            "padding": null,
            "right": null,
            "top": null,
            "visibility": null,
            "width": null
          }
        },
        "368a242a59454142ac3f76e369d0e7ee": {
          "model_module": "@jupyter-widgets/controls",
          "model_name": "DescriptionStyleModel",
          "model_module_version": "1.5.0",
          "state": {
            "_model_module": "@jupyter-widgets/controls",
            "_model_module_version": "1.5.0",
            "_model_name": "DescriptionStyleModel",
            "_view_count": null,
            "_view_module": "@jupyter-widgets/base",
            "_view_module_version": "1.2.0",
            "_view_name": "StyleView",
            "description_width": ""
          }
        },
        "5aa473ca307f424a977c40ac40d43bb5": {
          "model_module": "@jupyter-widgets/controls",
          "model_name": "HBoxModel",
          "model_module_version": "1.5.0",
          "state": {
            "_dom_classes": [],
            "_model_module": "@jupyter-widgets/controls",
            "_model_module_version": "1.5.0",
            "_model_name": "HBoxModel",
            "_view_count": null,
            "_view_module": "@jupyter-widgets/controls",
            "_view_module_version": "1.5.0",
            "_view_name": "HBoxView",
            "box_style": "",
            "children": [
              "IPY_MODEL_79888c4515cf4a88aa3011dda66e5467",
              "IPY_MODEL_51ccfa71c6e841a68b42cd532e5cba5f",
              "IPY_MODEL_2275beaa52914a62bb1e30d237b4fb10"
            ],
            "layout": "IPY_MODEL_258a91bf2b08427abc673166e58f3235"
          }
        },
        "79888c4515cf4a88aa3011dda66e5467": {
          "model_module": "@jupyter-widgets/controls",
          "model_name": "HTMLModel",
          "model_module_version": "1.5.0",
          "state": {
            "_dom_classes": [],
            "_model_module": "@jupyter-widgets/controls",
            "_model_module_version": "1.5.0",
            "_model_name": "HTMLModel",
            "_view_count": null,
            "_view_module": "@jupyter-widgets/controls",
            "_view_module_version": "1.5.0",
            "_view_name": "HTMLView",
            "description": "",
            "description_tooltip": null,
            "layout": "IPY_MODEL_4c0ab8fa05f948b9805a4a2c9ae6822f",
            "placeholder": "​",
            "style": "IPY_MODEL_114ab2f97688431a83e73b6f28b56aef",
            "value": "vocab.txt: 100%"
          }
        },
        "51ccfa71c6e841a68b42cd532e5cba5f": {
          "model_module": "@jupyter-widgets/controls",
          "model_name": "FloatProgressModel",
          "model_module_version": "1.5.0",
          "state": {
            "_dom_classes": [],
            "_model_module": "@jupyter-widgets/controls",
            "_model_module_version": "1.5.0",
            "_model_name": "FloatProgressModel",
            "_view_count": null,
            "_view_module": "@jupyter-widgets/controls",
            "_view_module_version": "1.5.0",
            "_view_name": "ProgressView",
            "bar_style": "success",
            "description": "",
            "description_tooltip": null,
            "layout": "IPY_MODEL_40bb60c56acc4e8186e167fae8318ec7",
            "max": 231508,
            "min": 0,
            "orientation": "horizontal",
            "style": "IPY_MODEL_19457113e1a2459284afbd3649bab8ff",
            "value": 231508
          }
        },
        "2275beaa52914a62bb1e30d237b4fb10": {
          "model_module": "@jupyter-widgets/controls",
          "model_name": "HTMLModel",
          "model_module_version": "1.5.0",
          "state": {
            "_dom_classes": [],
            "_model_module": "@jupyter-widgets/controls",
            "_model_module_version": "1.5.0",
            "_model_name": "HTMLModel",
            "_view_count": null,
            "_view_module": "@jupyter-widgets/controls",
            "_view_module_version": "1.5.0",
            "_view_name": "HTMLView",
            "description": "",
            "description_tooltip": null,
            "layout": "IPY_MODEL_574c9ff7be08418892443242e39b97ab",
            "placeholder": "​",
            "style": "IPY_MODEL_ce5f83efd02a46178a0e0873caab9a93",
            "value": " 232k/232k [00:00&lt;00:00, 2.34MB/s]"
          }
        },
        "258a91bf2b08427abc673166e58f3235": {
          "model_module": "@jupyter-widgets/base",
          "model_name": "LayoutModel",
          "model_module_version": "1.2.0",
          "state": {
            "_model_module": "@jupyter-widgets/base",
            "_model_module_version": "1.2.0",
            "_model_name": "LayoutModel",
            "_view_count": null,
            "_view_module": "@jupyter-widgets/base",
            "_view_module_version": "1.2.0",
            "_view_name": "LayoutView",
            "align_content": null,
            "align_items": null,
            "align_self": null,
            "border": null,
            "bottom": null,
            "display": null,
            "flex": null,
            "flex_flow": null,
            "grid_area": null,
            "grid_auto_columns": null,
            "grid_auto_flow": null,
            "grid_auto_rows": null,
            "grid_column": null,
            "grid_gap": null,
            "grid_row": null,
            "grid_template_areas": null,
            "grid_template_columns": null,
            "grid_template_rows": null,
            "height": null,
            "justify_content": null,
            "justify_items": null,
            "left": null,
            "margin": null,
            "max_height": null,
            "max_width": null,
            "min_height": null,
            "min_width": null,
            "object_fit": null,
            "object_position": null,
            "order": null,
            "overflow": null,
            "overflow_x": null,
            "overflow_y": null,
            "padding": null,
            "right": null,
            "top": null,
            "visibility": null,
            "width": null
          }
        },
        "4c0ab8fa05f948b9805a4a2c9ae6822f": {
          "model_module": "@jupyter-widgets/base",
          "model_name": "LayoutModel",
          "model_module_version": "1.2.0",
          "state": {
            "_model_module": "@jupyter-widgets/base",
            "_model_module_version": "1.2.0",
            "_model_name": "LayoutModel",
            "_view_count": null,
            "_view_module": "@jupyter-widgets/base",
            "_view_module_version": "1.2.0",
            "_view_name": "LayoutView",
            "align_content": null,
            "align_items": null,
            "align_self": null,
            "border": null,
            "bottom": null,
            "display": null,
            "flex": null,
            "flex_flow": null,
            "grid_area": null,
            "grid_auto_columns": null,
            "grid_auto_flow": null,
            "grid_auto_rows": null,
            "grid_column": null,
            "grid_gap": null,
            "grid_row": null,
            "grid_template_areas": null,
            "grid_template_columns": null,
            "grid_template_rows": null,
            "height": null,
            "justify_content": null,
            "justify_items": null,
            "left": null,
            "margin": null,
            "max_height": null,
            "max_width": null,
            "min_height": null,
            "min_width": null,
            "object_fit": null,
            "object_position": null,
            "order": null,
            "overflow": null,
            "overflow_x": null,
            "overflow_y": null,
            "padding": null,
            "right": null,
            "top": null,
            "visibility": null,
            "width": null
          }
        },
        "114ab2f97688431a83e73b6f28b56aef": {
          "model_module": "@jupyter-widgets/controls",
          "model_name": "DescriptionStyleModel",
          "model_module_version": "1.5.0",
          "state": {
            "_model_module": "@jupyter-widgets/controls",
            "_model_module_version": "1.5.0",
            "_model_name": "DescriptionStyleModel",
            "_view_count": null,
            "_view_module": "@jupyter-widgets/base",
            "_view_module_version": "1.2.0",
            "_view_name": "StyleView",
            "description_width": ""
          }
        },
        "40bb60c56acc4e8186e167fae8318ec7": {
          "model_module": "@jupyter-widgets/base",
          "model_name": "LayoutModel",
          "model_module_version": "1.2.0",
          "state": {
            "_model_module": "@jupyter-widgets/base",
            "_model_module_version": "1.2.0",
            "_model_name": "LayoutModel",
            "_view_count": null,
            "_view_module": "@jupyter-widgets/base",
            "_view_module_version": "1.2.0",
            "_view_name": "LayoutView",
            "align_content": null,
            "align_items": null,
            "align_self": null,
            "border": null,
            "bottom": null,
            "display": null,
            "flex": null,
            "flex_flow": null,
            "grid_area": null,
            "grid_auto_columns": null,
            "grid_auto_flow": null,
            "grid_auto_rows": null,
            "grid_column": null,
            "grid_gap": null,
            "grid_row": null,
            "grid_template_areas": null,
            "grid_template_columns": null,
            "grid_template_rows": null,
            "height": null,
            "justify_content": null,
            "justify_items": null,
            "left": null,
            "margin": null,
            "max_height": null,
            "max_width": null,
            "min_height": null,
            "min_width": null,
            "object_fit": null,
            "object_position": null,
            "order": null,
            "overflow": null,
            "overflow_x": null,
            "overflow_y": null,
            "padding": null,
            "right": null,
            "top": null,
            "visibility": null,
            "width": null
          }
        },
        "19457113e1a2459284afbd3649bab8ff": {
          "model_module": "@jupyter-widgets/controls",
          "model_name": "ProgressStyleModel",
          "model_module_version": "1.5.0",
          "state": {
            "_model_module": "@jupyter-widgets/controls",
            "_model_module_version": "1.5.0",
            "_model_name": "ProgressStyleModel",
            "_view_count": null,
            "_view_module": "@jupyter-widgets/base",
            "_view_module_version": "1.2.0",
            "_view_name": "StyleView",
            "bar_color": null,
            "description_width": ""
          }
        },
        "574c9ff7be08418892443242e39b97ab": {
          "model_module": "@jupyter-widgets/base",
          "model_name": "LayoutModel",
          "model_module_version": "1.2.0",
          "state": {
            "_model_module": "@jupyter-widgets/base",
            "_model_module_version": "1.2.0",
            "_model_name": "LayoutModel",
            "_view_count": null,
            "_view_module": "@jupyter-widgets/base",
            "_view_module_version": "1.2.0",
            "_view_name": "LayoutView",
            "align_content": null,
            "align_items": null,
            "align_self": null,
            "border": null,
            "bottom": null,
            "display": null,
            "flex": null,
            "flex_flow": null,
            "grid_area": null,
            "grid_auto_columns": null,
            "grid_auto_flow": null,
            "grid_auto_rows": null,
            "grid_column": null,
            "grid_gap": null,
            "grid_row": null,
            "grid_template_areas": null,
            "grid_template_columns": null,
            "grid_template_rows": null,
            "height": null,
            "justify_content": null,
            "justify_items": null,
            "left": null,
            "margin": null,
            "max_height": null,
            "max_width": null,
            "min_height": null,
            "min_width": null,
            "object_fit": null,
            "object_position": null,
            "order": null,
            "overflow": null,
            "overflow_x": null,
            "overflow_y": null,
            "padding": null,
            "right": null,
            "top": null,
            "visibility": null,
            "width": null
          }
        },
        "ce5f83efd02a46178a0e0873caab9a93": {
          "model_module": "@jupyter-widgets/controls",
          "model_name": "DescriptionStyleModel",
          "model_module_version": "1.5.0",
          "state": {
            "_model_module": "@jupyter-widgets/controls",
            "_model_module_version": "1.5.0",
            "_model_name": "DescriptionStyleModel",
            "_view_count": null,
            "_view_module": "@jupyter-widgets/base",
            "_view_module_version": "1.2.0",
            "_view_name": "StyleView",
            "description_width": ""
          }
        },
        "593bab33ef964e0b8635d9b0a28acdce": {
          "model_module": "@jupyter-widgets/controls",
          "model_name": "HBoxModel",
          "model_module_version": "1.5.0",
          "state": {
            "_dom_classes": [],
            "_model_module": "@jupyter-widgets/controls",
            "_model_module_version": "1.5.0",
            "_model_name": "HBoxModel",
            "_view_count": null,
            "_view_module": "@jupyter-widgets/controls",
            "_view_module_version": "1.5.0",
            "_view_name": "HBoxView",
            "box_style": "",
            "children": [
              "IPY_MODEL_b426aaf49ecf4abe8e8019c1ef9d2831",
              "IPY_MODEL_f404a86d0621452fa0a496bc28c87991",
              "IPY_MODEL_379d769204b249c1a3e74e22485bab11"
            ],
            "layout": "IPY_MODEL_88d330f2351647bbb3378a6fb5cfaaee"
          }
        },
        "b426aaf49ecf4abe8e8019c1ef9d2831": {
          "model_module": "@jupyter-widgets/controls",
          "model_name": "HTMLModel",
          "model_module_version": "1.5.0",
          "state": {
            "_dom_classes": [],
            "_model_module": "@jupyter-widgets/controls",
            "_model_module_version": "1.5.0",
            "_model_name": "HTMLModel",
            "_view_count": null,
            "_view_module": "@jupyter-widgets/controls",
            "_view_module_version": "1.5.0",
            "_view_name": "HTMLView",
            "description": "",
            "description_tooltip": null,
            "layout": "IPY_MODEL_334251d9f46940ba80d06a9470f81fae",
            "placeholder": "​",
            "style": "IPY_MODEL_5904a6ce734748309e23b701d7ed9033",
            "value": "tokenizer.json: 100%"
          }
        },
        "f404a86d0621452fa0a496bc28c87991": {
          "model_module": "@jupyter-widgets/controls",
          "model_name": "FloatProgressModel",
          "model_module_version": "1.5.0",
          "state": {
            "_dom_classes": [],
            "_model_module": "@jupyter-widgets/controls",
            "_model_module_version": "1.5.0",
            "_model_name": "FloatProgressModel",
            "_view_count": null,
            "_view_module": "@jupyter-widgets/controls",
            "_view_module_version": "1.5.0",
            "_view_name": "ProgressView",
            "bar_style": "success",
            "description": "",
            "description_tooltip": null,
            "layout": "IPY_MODEL_9c56b15874b6439f97c59cd23d46b991",
            "max": 466062,
            "min": 0,
            "orientation": "horizontal",
            "style": "IPY_MODEL_1006bb7a59364da0a7c2cdf5a82ff381",
            "value": 466062
          }
        },
        "379d769204b249c1a3e74e22485bab11": {
          "model_module": "@jupyter-widgets/controls",
          "model_name": "HTMLModel",
          "model_module_version": "1.5.0",
          "state": {
            "_dom_classes": [],
            "_model_module": "@jupyter-widgets/controls",
            "_model_module_version": "1.5.0",
            "_model_name": "HTMLModel",
            "_view_count": null,
            "_view_module": "@jupyter-widgets/controls",
            "_view_module_version": "1.5.0",
            "_view_name": "HTMLView",
            "description": "",
            "description_tooltip": null,
            "layout": "IPY_MODEL_e29e5ae59cce4dafaeb1b35ad9dbdd24",
            "placeholder": "​",
            "style": "IPY_MODEL_6500d028f5f64a30bbce44d58cf79146",
            "value": " 466k/466k [00:00&lt;00:00, 3.56MB/s]"
          }
        },
        "88d330f2351647bbb3378a6fb5cfaaee": {
          "model_module": "@jupyter-widgets/base",
          "model_name": "LayoutModel",
          "model_module_version": "1.2.0",
          "state": {
            "_model_module": "@jupyter-widgets/base",
            "_model_module_version": "1.2.0",
            "_model_name": "LayoutModel",
            "_view_count": null,
            "_view_module": "@jupyter-widgets/base",
            "_view_module_version": "1.2.0",
            "_view_name": "LayoutView",
            "align_content": null,
            "align_items": null,
            "align_self": null,
            "border": null,
            "bottom": null,
            "display": null,
            "flex": null,
            "flex_flow": null,
            "grid_area": null,
            "grid_auto_columns": null,
            "grid_auto_flow": null,
            "grid_auto_rows": null,
            "grid_column": null,
            "grid_gap": null,
            "grid_row": null,
            "grid_template_areas": null,
            "grid_template_columns": null,
            "grid_template_rows": null,
            "height": null,
            "justify_content": null,
            "justify_items": null,
            "left": null,
            "margin": null,
            "max_height": null,
            "max_width": null,
            "min_height": null,
            "min_width": null,
            "object_fit": null,
            "object_position": null,
            "order": null,
            "overflow": null,
            "overflow_x": null,
            "overflow_y": null,
            "padding": null,
            "right": null,
            "top": null,
            "visibility": null,
            "width": null
          }
        },
        "334251d9f46940ba80d06a9470f81fae": {
          "model_module": "@jupyter-widgets/base",
          "model_name": "LayoutModel",
          "model_module_version": "1.2.0",
          "state": {
            "_model_module": "@jupyter-widgets/base",
            "_model_module_version": "1.2.0",
            "_model_name": "LayoutModel",
            "_view_count": null,
            "_view_module": "@jupyter-widgets/base",
            "_view_module_version": "1.2.0",
            "_view_name": "LayoutView",
            "align_content": null,
            "align_items": null,
            "align_self": null,
            "border": null,
            "bottom": null,
            "display": null,
            "flex": null,
            "flex_flow": null,
            "grid_area": null,
            "grid_auto_columns": null,
            "grid_auto_flow": null,
            "grid_auto_rows": null,
            "grid_column": null,
            "grid_gap": null,
            "grid_row": null,
            "grid_template_areas": null,
            "grid_template_columns": null,
            "grid_template_rows": null,
            "height": null,
            "justify_content": null,
            "justify_items": null,
            "left": null,
            "margin": null,
            "max_height": null,
            "max_width": null,
            "min_height": null,
            "min_width": null,
            "object_fit": null,
            "object_position": null,
            "order": null,
            "overflow": null,
            "overflow_x": null,
            "overflow_y": null,
            "padding": null,
            "right": null,
            "top": null,
            "visibility": null,
            "width": null
          }
        },
        "5904a6ce734748309e23b701d7ed9033": {
          "model_module": "@jupyter-widgets/controls",
          "model_name": "DescriptionStyleModel",
          "model_module_version": "1.5.0",
          "state": {
            "_model_module": "@jupyter-widgets/controls",
            "_model_module_version": "1.5.0",
            "_model_name": "DescriptionStyleModel",
            "_view_count": null,
            "_view_module": "@jupyter-widgets/base",
            "_view_module_version": "1.2.0",
            "_view_name": "StyleView",
            "description_width": ""
          }
        },
        "9c56b15874b6439f97c59cd23d46b991": {
          "model_module": "@jupyter-widgets/base",
          "model_name": "LayoutModel",
          "model_module_version": "1.2.0",
          "state": {
            "_model_module": "@jupyter-widgets/base",
            "_model_module_version": "1.2.0",
            "_model_name": "LayoutModel",
            "_view_count": null,
            "_view_module": "@jupyter-widgets/base",
            "_view_module_version": "1.2.0",
            "_view_name": "LayoutView",
            "align_content": null,
            "align_items": null,
            "align_self": null,
            "border": null,
            "bottom": null,
            "display": null,
            "flex": null,
            "flex_flow": null,
            "grid_area": null,
            "grid_auto_columns": null,
            "grid_auto_flow": null,
            "grid_auto_rows": null,
            "grid_column": null,
            "grid_gap": null,
            "grid_row": null,
            "grid_template_areas": null,
            "grid_template_columns": null,
            "grid_template_rows": null,
            "height": null,
            "justify_content": null,
            "justify_items": null,
            "left": null,
            "margin": null,
            "max_height": null,
            "max_width": null,
            "min_height": null,
            "min_width": null,
            "object_fit": null,
            "object_position": null,
            "order": null,
            "overflow": null,
            "overflow_x": null,
            "overflow_y": null,
            "padding": null,
            "right": null,
            "top": null,
            "visibility": null,
            "width": null
          }
        },
        "1006bb7a59364da0a7c2cdf5a82ff381": {
          "model_module": "@jupyter-widgets/controls",
          "model_name": "ProgressStyleModel",
          "model_module_version": "1.5.0",
          "state": {
            "_model_module": "@jupyter-widgets/controls",
            "_model_module_version": "1.5.0",
            "_model_name": "ProgressStyleModel",
            "_view_count": null,
            "_view_module": "@jupyter-widgets/base",
            "_view_module_version": "1.2.0",
            "_view_name": "StyleView",
            "bar_color": null,
            "description_width": ""
          }
        },
        "e29e5ae59cce4dafaeb1b35ad9dbdd24": {
          "model_module": "@jupyter-widgets/base",
          "model_name": "LayoutModel",
          "model_module_version": "1.2.0",
          "state": {
            "_model_module": "@jupyter-widgets/base",
            "_model_module_version": "1.2.0",
            "_model_name": "LayoutModel",
            "_view_count": null,
            "_view_module": "@jupyter-widgets/base",
            "_view_module_version": "1.2.0",
            "_view_name": "LayoutView",
            "align_content": null,
            "align_items": null,
            "align_self": null,
            "border": null,
            "bottom": null,
            "display": null,
            "flex": null,
            "flex_flow": null,
            "grid_area": null,
            "grid_auto_columns": null,
            "grid_auto_flow": null,
            "grid_auto_rows": null,
            "grid_column": null,
            "grid_gap": null,
            "grid_row": null,
            "grid_template_areas": null,
            "grid_template_columns": null,
            "grid_template_rows": null,
            "height": null,
            "justify_content": null,
            "justify_items": null,
            "left": null,
            "margin": null,
            "max_height": null,
            "max_width": null,
            "min_height": null,
            "min_width": null,
            "object_fit": null,
            "object_position": null,
            "order": null,
            "overflow": null,
            "overflow_x": null,
            "overflow_y": null,
            "padding": null,
            "right": null,
            "top": null,
            "visibility": null,
            "width": null
          }
        },
        "6500d028f5f64a30bbce44d58cf79146": {
          "model_module": "@jupyter-widgets/controls",
          "model_name": "DescriptionStyleModel",
          "model_module_version": "1.5.0",
          "state": {
            "_model_module": "@jupyter-widgets/controls",
            "_model_module_version": "1.5.0",
            "_model_name": "DescriptionStyleModel",
            "_view_count": null,
            "_view_module": "@jupyter-widgets/base",
            "_view_module_version": "1.2.0",
            "_view_name": "StyleView",
            "description_width": ""
          }
        },
        "f0818ecee2c24c78afba355f3bf2bb7b": {
          "model_module": "@jupyter-widgets/controls",
          "model_name": "HBoxModel",
          "model_module_version": "1.5.0",
          "state": {
            "_dom_classes": [],
            "_model_module": "@jupyter-widgets/controls",
            "_model_module_version": "1.5.0",
            "_model_name": "HBoxModel",
            "_view_count": null,
            "_view_module": "@jupyter-widgets/controls",
            "_view_module_version": "1.5.0",
            "_view_name": "HBoxView",
            "box_style": "",
            "children": [
              "IPY_MODEL_1c3e06788d4d409e984a1f1a2068d501",
              "IPY_MODEL_6f64b5c34428449d99f215faeeae10b0",
              "IPY_MODEL_a4fc27d4f5774d83b9256a9ebc3701f4"
            ],
            "layout": "IPY_MODEL_a2a25c1801754888b7959ab2b4e525de"
          }
        },
        "1c3e06788d4d409e984a1f1a2068d501": {
          "model_module": "@jupyter-widgets/controls",
          "model_name": "HTMLModel",
          "model_module_version": "1.5.0",
          "state": {
            "_dom_classes": [],
            "_model_module": "@jupyter-widgets/controls",
            "_model_module_version": "1.5.0",
            "_model_name": "HTMLModel",
            "_view_count": null,
            "_view_module": "@jupyter-widgets/controls",
            "_view_module_version": "1.5.0",
            "_view_name": "HTMLView",
            "description": "",
            "description_tooltip": null,
            "layout": "IPY_MODEL_d1cd2c828bdf4c9d868e5df6cad459ae",
            "placeholder": "​",
            "style": "IPY_MODEL_619d668d57e04b66a0cc87f3abd5b0e5",
            "value": "config.json: 100%"
          }
        },
        "6f64b5c34428449d99f215faeeae10b0": {
          "model_module": "@jupyter-widgets/controls",
          "model_name": "FloatProgressModel",
          "model_module_version": "1.5.0",
          "state": {
            "_dom_classes": [],
            "_model_module": "@jupyter-widgets/controls",
            "_model_module_version": "1.5.0",
            "_model_name": "FloatProgressModel",
            "_view_count": null,
            "_view_module": "@jupyter-widgets/controls",
            "_view_module_version": "1.5.0",
            "_view_name": "ProgressView",
            "bar_style": "success",
            "description": "",
            "description_tooltip": null,
            "layout": "IPY_MODEL_cac04de687214fea90ba80035843b172",
            "max": 570,
            "min": 0,
            "orientation": "horizontal",
            "style": "IPY_MODEL_03d58a3e125146cdaf76a16588814112",
            "value": 570
          }
        },
        "a4fc27d4f5774d83b9256a9ebc3701f4": {
          "model_module": "@jupyter-widgets/controls",
          "model_name": "HTMLModel",
          "model_module_version": "1.5.0",
          "state": {
            "_dom_classes": [],
            "_model_module": "@jupyter-widgets/controls",
            "_model_module_version": "1.5.0",
            "_model_name": "HTMLModel",
            "_view_count": null,
            "_view_module": "@jupyter-widgets/controls",
            "_view_module_version": "1.5.0",
            "_view_name": "HTMLView",
            "description": "",
            "description_tooltip": null,
            "layout": "IPY_MODEL_21d99b8cb0964c2cac3802f78bfd7be3",
            "placeholder": "​",
            "style": "IPY_MODEL_5cdeaad8ea4548cc9f67c11613509b38",
            "value": " 570/570 [00:00&lt;00:00, 8.25kB/s]"
          }
        },
        "a2a25c1801754888b7959ab2b4e525de": {
          "model_module": "@jupyter-widgets/base",
          "model_name": "LayoutModel",
          "model_module_version": "1.2.0",
          "state": {
            "_model_module": "@jupyter-widgets/base",
            "_model_module_version": "1.2.0",
            "_model_name": "LayoutModel",
            "_view_count": null,
            "_view_module": "@jupyter-widgets/base",
            "_view_module_version": "1.2.0",
            "_view_name": "LayoutView",
            "align_content": null,
            "align_items": null,
            "align_self": null,
            "border": null,
            "bottom": null,
            "display": null,
            "flex": null,
            "flex_flow": null,
            "grid_area": null,
            "grid_auto_columns": null,
            "grid_auto_flow": null,
            "grid_auto_rows": null,
            "grid_column": null,
            "grid_gap": null,
            "grid_row": null,
            "grid_template_areas": null,
            "grid_template_columns": null,
            "grid_template_rows": null,
            "height": null,
            "justify_content": null,
            "justify_items": null,
            "left": null,
            "margin": null,
            "max_height": null,
            "max_width": null,
            "min_height": null,
            "min_width": null,
            "object_fit": null,
            "object_position": null,
            "order": null,
            "overflow": null,
            "overflow_x": null,
            "overflow_y": null,
            "padding": null,
            "right": null,
            "top": null,
            "visibility": null,
            "width": null
          }
        },
        "d1cd2c828bdf4c9d868e5df6cad459ae": {
          "model_module": "@jupyter-widgets/base",
          "model_name": "LayoutModel",
          "model_module_version": "1.2.0",
          "state": {
            "_model_module": "@jupyter-widgets/base",
            "_model_module_version": "1.2.0",
            "_model_name": "LayoutModel",
            "_view_count": null,
            "_view_module": "@jupyter-widgets/base",
            "_view_module_version": "1.2.0",
            "_view_name": "LayoutView",
            "align_content": null,
            "align_items": null,
            "align_self": null,
            "border": null,
            "bottom": null,
            "display": null,
            "flex": null,
            "flex_flow": null,
            "grid_area": null,
            "grid_auto_columns": null,
            "grid_auto_flow": null,
            "grid_auto_rows": null,
            "grid_column": null,
            "grid_gap": null,
            "grid_row": null,
            "grid_template_areas": null,
            "grid_template_columns": null,
            "grid_template_rows": null,
            "height": null,
            "justify_content": null,
            "justify_items": null,
            "left": null,
            "margin": null,
            "max_height": null,
            "max_width": null,
            "min_height": null,
            "min_width": null,
            "object_fit": null,
            "object_position": null,
            "order": null,
            "overflow": null,
            "overflow_x": null,
            "overflow_y": null,
            "padding": null,
            "right": null,
            "top": null,
            "visibility": null,
            "width": null
          }
        },
        "619d668d57e04b66a0cc87f3abd5b0e5": {
          "model_module": "@jupyter-widgets/controls",
          "model_name": "DescriptionStyleModel",
          "model_module_version": "1.5.0",
          "state": {
            "_model_module": "@jupyter-widgets/controls",
            "_model_module_version": "1.5.0",
            "_model_name": "DescriptionStyleModel",
            "_view_count": null,
            "_view_module": "@jupyter-widgets/base",
            "_view_module_version": "1.2.0",
            "_view_name": "StyleView",
            "description_width": ""
          }
        },
        "cac04de687214fea90ba80035843b172": {
          "model_module": "@jupyter-widgets/base",
          "model_name": "LayoutModel",
          "model_module_version": "1.2.0",
          "state": {
            "_model_module": "@jupyter-widgets/base",
            "_model_module_version": "1.2.0",
            "_model_name": "LayoutModel",
            "_view_count": null,
            "_view_module": "@jupyter-widgets/base",
            "_view_module_version": "1.2.0",
            "_view_name": "LayoutView",
            "align_content": null,
            "align_items": null,
            "align_self": null,
            "border": null,
            "bottom": null,
            "display": null,
            "flex": null,
            "flex_flow": null,
            "grid_area": null,
            "grid_auto_columns": null,
            "grid_auto_flow": null,
            "grid_auto_rows": null,
            "grid_column": null,
            "grid_gap": null,
            "grid_row": null,
            "grid_template_areas": null,
            "grid_template_columns": null,
            "grid_template_rows": null,
            "height": null,
            "justify_content": null,
            "justify_items": null,
            "left": null,
            "margin": null,
            "max_height": null,
            "max_width": null,
            "min_height": null,
            "min_width": null,
            "object_fit": null,
            "object_position": null,
            "order": null,
            "overflow": null,
            "overflow_x": null,
            "overflow_y": null,
            "padding": null,
            "right": null,
            "top": null,
            "visibility": null,
            "width": null
          }
        },
        "03d58a3e125146cdaf76a16588814112": {
          "model_module": "@jupyter-widgets/controls",
          "model_name": "ProgressStyleModel",
          "model_module_version": "1.5.0",
          "state": {
            "_model_module": "@jupyter-widgets/controls",
            "_model_module_version": "1.5.0",
            "_model_name": "ProgressStyleModel",
            "_view_count": null,
            "_view_module": "@jupyter-widgets/base",
            "_view_module_version": "1.2.0",
            "_view_name": "StyleView",
            "bar_color": null,
            "description_width": ""
          }
        },
        "21d99b8cb0964c2cac3802f78bfd7be3": {
          "model_module": "@jupyter-widgets/base",
          "model_name": "LayoutModel",
          "model_module_version": "1.2.0",
          "state": {
            "_model_module": "@jupyter-widgets/base",
            "_model_module_version": "1.2.0",
            "_model_name": "LayoutModel",
            "_view_count": null,
            "_view_module": "@jupyter-widgets/base",
            "_view_module_version": "1.2.0",
            "_view_name": "LayoutView",
            "align_content": null,
            "align_items": null,
            "align_self": null,
            "border": null,
            "bottom": null,
            "display": null,
            "flex": null,
            "flex_flow": null,
            "grid_area": null,
            "grid_auto_columns": null,
            "grid_auto_flow": null,
            "grid_auto_rows": null,
            "grid_column": null,
            "grid_gap": null,
            "grid_row": null,
            "grid_template_areas": null,
            "grid_template_columns": null,
            "grid_template_rows": null,
            "height": null,
            "justify_content": null,
            "justify_items": null,
            "left": null,
            "margin": null,
            "max_height": null,
            "max_width": null,
            "min_height": null,
            "min_width": null,
            "object_fit": null,
            "object_position": null,
            "order": null,
            "overflow": null,
            "overflow_x": null,
            "overflow_y": null,
            "padding": null,
            "right": null,
            "top": null,
            "visibility": null,
            "width": null
          }
        },
        "5cdeaad8ea4548cc9f67c11613509b38": {
          "model_module": "@jupyter-widgets/controls",
          "model_name": "DescriptionStyleModel",
          "model_module_version": "1.5.0",
          "state": {
            "_model_module": "@jupyter-widgets/controls",
            "_model_module_version": "1.5.0",
            "_model_name": "DescriptionStyleModel",
            "_view_count": null,
            "_view_module": "@jupyter-widgets/base",
            "_view_module_version": "1.2.0",
            "_view_name": "StyleView",
            "description_width": ""
          }
        },
        "d1b7f1115d1946c4830301a46e8886bd": {
          "model_module": "@jupyter-widgets/controls",
          "model_name": "HBoxModel",
          "model_module_version": "1.5.0",
          "state": {
            "_dom_classes": [],
            "_model_module": "@jupyter-widgets/controls",
            "_model_module_version": "1.5.0",
            "_model_name": "HBoxModel",
            "_view_count": null,
            "_view_module": "@jupyter-widgets/controls",
            "_view_module_version": "1.5.0",
            "_view_name": "HBoxView",
            "box_style": "",
            "children": [
              "IPY_MODEL_8cf295f3a96a4bd29f53ef4bc0de524d",
              "IPY_MODEL_450b9594c4a8474fba30e2dc7c7be1bb",
              "IPY_MODEL_7df4ec1f9ff948988d887c396131cbcb"
            ],
            "layout": "IPY_MODEL_48df36853f4e473ab9432f84a4e4cad3"
          }
        },
        "8cf295f3a96a4bd29f53ef4bc0de524d": {
          "model_module": "@jupyter-widgets/controls",
          "model_name": "HTMLModel",
          "model_module_version": "1.5.0",
          "state": {
            "_dom_classes": [],
            "_model_module": "@jupyter-widgets/controls",
            "_model_module_version": "1.5.0",
            "_model_name": "HTMLModel",
            "_view_count": null,
            "_view_module": "@jupyter-widgets/controls",
            "_view_module_version": "1.5.0",
            "_view_name": "HTMLView",
            "description": "",
            "description_tooltip": null,
            "layout": "IPY_MODEL_1046ab63cd094ae3ab0a794ac9a998b4",
            "placeholder": "​",
            "style": "IPY_MODEL_0790971eb0b941cda0404f961159b13b",
            "value": "model.safetensors: 100%"
          }
        },
        "450b9594c4a8474fba30e2dc7c7be1bb": {
          "model_module": "@jupyter-widgets/controls",
          "model_name": "FloatProgressModel",
          "model_module_version": "1.5.0",
          "state": {
            "_dom_classes": [],
            "_model_module": "@jupyter-widgets/controls",
            "_model_module_version": "1.5.0",
            "_model_name": "FloatProgressModel",
            "_view_count": null,
            "_view_module": "@jupyter-widgets/controls",
            "_view_module_version": "1.5.0",
            "_view_name": "ProgressView",
            "bar_style": "success",
            "description": "",
            "description_tooltip": null,
            "layout": "IPY_MODEL_4b2cb5d3332a40c0b297564274fdd1ec",
            "max": 440449768,
            "min": 0,
            "orientation": "horizontal",
            "style": "IPY_MODEL_da6c3506c7f1423aaef54a409c84ae54",
            "value": 440449768
          }
        },
        "7df4ec1f9ff948988d887c396131cbcb": {
          "model_module": "@jupyter-widgets/controls",
          "model_name": "HTMLModel",
          "model_module_version": "1.5.0",
          "state": {
            "_dom_classes": [],
            "_model_module": "@jupyter-widgets/controls",
            "_model_module_version": "1.5.0",
            "_model_name": "HTMLModel",
            "_view_count": null,
            "_view_module": "@jupyter-widgets/controls",
            "_view_module_version": "1.5.0",
            "_view_name": "HTMLView",
            "description": "",
            "description_tooltip": null,
            "layout": "IPY_MODEL_f969326acef34c72a715819d8f9576a3",
            "placeholder": "​",
            "style": "IPY_MODEL_98f98802b77b465480752e332c2a8306",
            "value": " 440M/440M [00:06&lt;00:00, 85.2MB/s]"
          }
        },
        "48df36853f4e473ab9432f84a4e4cad3": {
          "model_module": "@jupyter-widgets/base",
          "model_name": "LayoutModel",
          "model_module_version": "1.2.0",
          "state": {
            "_model_module": "@jupyter-widgets/base",
            "_model_module_version": "1.2.0",
            "_model_name": "LayoutModel",
            "_view_count": null,
            "_view_module": "@jupyter-widgets/base",
            "_view_module_version": "1.2.0",
            "_view_name": "LayoutView",
            "align_content": null,
            "align_items": null,
            "align_self": null,
            "border": null,
            "bottom": null,
            "display": null,
            "flex": null,
            "flex_flow": null,
            "grid_area": null,
            "grid_auto_columns": null,
            "grid_auto_flow": null,
            "grid_auto_rows": null,
            "grid_column": null,
            "grid_gap": null,
            "grid_row": null,
            "grid_template_areas": null,
            "grid_template_columns": null,
            "grid_template_rows": null,
            "height": null,
            "justify_content": null,
            "justify_items": null,
            "left": null,
            "margin": null,
            "max_height": null,
            "max_width": null,
            "min_height": null,
            "min_width": null,
            "object_fit": null,
            "object_position": null,
            "order": null,
            "overflow": null,
            "overflow_x": null,
            "overflow_y": null,
            "padding": null,
            "right": null,
            "top": null,
            "visibility": null,
            "width": null
          }
        },
        "1046ab63cd094ae3ab0a794ac9a998b4": {
          "model_module": "@jupyter-widgets/base",
          "model_name": "LayoutModel",
          "model_module_version": "1.2.0",
          "state": {
            "_model_module": "@jupyter-widgets/base",
            "_model_module_version": "1.2.0",
            "_model_name": "LayoutModel",
            "_view_count": null,
            "_view_module": "@jupyter-widgets/base",
            "_view_module_version": "1.2.0",
            "_view_name": "LayoutView",
            "align_content": null,
            "align_items": null,
            "align_self": null,
            "border": null,
            "bottom": null,
            "display": null,
            "flex": null,
            "flex_flow": null,
            "grid_area": null,
            "grid_auto_columns": null,
            "grid_auto_flow": null,
            "grid_auto_rows": null,
            "grid_column": null,
            "grid_gap": null,
            "grid_row": null,
            "grid_template_areas": null,
            "grid_template_columns": null,
            "grid_template_rows": null,
            "height": null,
            "justify_content": null,
            "justify_items": null,
            "left": null,
            "margin": null,
            "max_height": null,
            "max_width": null,
            "min_height": null,
            "min_width": null,
            "object_fit": null,
            "object_position": null,
            "order": null,
            "overflow": null,
            "overflow_x": null,
            "overflow_y": null,
            "padding": null,
            "right": null,
            "top": null,
            "visibility": null,
            "width": null
          }
        },
        "0790971eb0b941cda0404f961159b13b": {
          "model_module": "@jupyter-widgets/controls",
          "model_name": "DescriptionStyleModel",
          "model_module_version": "1.5.0",
          "state": {
            "_model_module": "@jupyter-widgets/controls",
            "_model_module_version": "1.5.0",
            "_model_name": "DescriptionStyleModel",
            "_view_count": null,
            "_view_module": "@jupyter-widgets/base",
            "_view_module_version": "1.2.0",
            "_view_name": "StyleView",
            "description_width": ""
          }
        },
        "4b2cb5d3332a40c0b297564274fdd1ec": {
          "model_module": "@jupyter-widgets/base",
          "model_name": "LayoutModel",
          "model_module_version": "1.2.0",
          "state": {
            "_model_module": "@jupyter-widgets/base",
            "_model_module_version": "1.2.0",
            "_model_name": "LayoutModel",
            "_view_count": null,
            "_view_module": "@jupyter-widgets/base",
            "_view_module_version": "1.2.0",
            "_view_name": "LayoutView",
            "align_content": null,
            "align_items": null,
            "align_self": null,
            "border": null,
            "bottom": null,
            "display": null,
            "flex": null,
            "flex_flow": null,
            "grid_area": null,
            "grid_auto_columns": null,
            "grid_auto_flow": null,
            "grid_auto_rows": null,
            "grid_column": null,
            "grid_gap": null,
            "grid_row": null,
            "grid_template_areas": null,
            "grid_template_columns": null,
            "grid_template_rows": null,
            "height": null,
            "justify_content": null,
            "justify_items": null,
            "left": null,
            "margin": null,
            "max_height": null,
            "max_width": null,
            "min_height": null,
            "min_width": null,
            "object_fit": null,
            "object_position": null,
            "order": null,
            "overflow": null,
            "overflow_x": null,
            "overflow_y": null,
            "padding": null,
            "right": null,
            "top": null,
            "visibility": null,
            "width": null
          }
        },
        "da6c3506c7f1423aaef54a409c84ae54": {
          "model_module": "@jupyter-widgets/controls",
          "model_name": "ProgressStyleModel",
          "model_module_version": "1.5.0",
          "state": {
            "_model_module": "@jupyter-widgets/controls",
            "_model_module_version": "1.5.0",
            "_model_name": "ProgressStyleModel",
            "_view_count": null,
            "_view_module": "@jupyter-widgets/base",
            "_view_module_version": "1.2.0",
            "_view_name": "StyleView",
            "bar_color": null,
            "description_width": ""
          }
        },
        "f969326acef34c72a715819d8f9576a3": {
          "model_module": "@jupyter-widgets/base",
          "model_name": "LayoutModel",
          "model_module_version": "1.2.0",
          "state": {
            "_model_module": "@jupyter-widgets/base",
            "_model_module_version": "1.2.0",
            "_model_name": "LayoutModel",
            "_view_count": null,
            "_view_module": "@jupyter-widgets/base",
            "_view_module_version": "1.2.0",
            "_view_name": "LayoutView",
            "align_content": null,
            "align_items": null,
            "align_self": null,
            "border": null,
            "bottom": null,
            "display": null,
            "flex": null,
            "flex_flow": null,
            "grid_area": null,
            "grid_auto_columns": null,
            "grid_auto_flow": null,
            "grid_auto_rows": null,
            "grid_column": null,
            "grid_gap": null,
            "grid_row": null,
            "grid_template_areas": null,
            "grid_template_columns": null,
            "grid_template_rows": null,
            "height": null,
            "justify_content": null,
            "justify_items": null,
            "left": null,
            "margin": null,
            "max_height": null,
            "max_width": null,
            "min_height": null,
            "min_width": null,
            "object_fit": null,
            "object_position": null,
            "order": null,
            "overflow": null,
            "overflow_x": null,
            "overflow_y": null,
            "padding": null,
            "right": null,
            "top": null,
            "visibility": null,
            "width": null
          }
        },
        "98f98802b77b465480752e332c2a8306": {
          "model_module": "@jupyter-widgets/controls",
          "model_name": "DescriptionStyleModel",
          "model_module_version": "1.5.0",
          "state": {
            "_model_module": "@jupyter-widgets/controls",
            "_model_module_version": "1.5.0",
            "_model_name": "DescriptionStyleModel",
            "_view_count": null,
            "_view_module": "@jupyter-widgets/base",
            "_view_module_version": "1.2.0",
            "_view_name": "StyleView",
            "description_width": ""
          }
        }
      }
    }
  },
  "cells": [
    {
      "cell_type": "markdown",
      "source": [
        "資料集來源：https://www.kaggle.com/datasets/yash612/stockmarket-sentiment-dataset"
      ],
      "metadata": {
        "id": "DC6GkCi1Ka7V"
      }
    },
    {
      "cell_type": "code",
      "execution_count": null,
      "metadata": {
        "id": "aRKPpJAs6ET6"
      },
      "outputs": [],
      "source": [
        "import pandas as pd"
      ]
    },
    {
      "cell_type": "code",
      "source": [
        "data = pd.read_csv('/content/drive/MyDrive/stock_data.csv', encoding='utf-8')"
      ],
      "metadata": {
        "id": "LLfxrL5K6Gx2"
      },
      "execution_count": null,
      "outputs": []
    },
    {
      "cell_type": "code",
      "source": [
        "data"
      ],
      "metadata": {
        "colab": {
          "base_uri": "https://localhost:8080/",
          "height": 423
        },
        "id": "ZVdBESah1DjK",
        "outputId": "78f76c88-47ba-4a01-a04c-95bb426072eb"
      },
      "execution_count": null,
      "outputs": [
        {
          "output_type": "execute_result",
          "data": {
            "text/plain": [
              "                                                   Text  Sentiment\n",
              "0     kickers on my watchlist xide tit soq pnk cpw b...          1\n",
              "1     user aap movie  return for the feageed indicat...          1\n",
              "2     user id be afraid to short amzn  they are look...          1\n",
              "3                                             mnta over          1\n",
              "4                                              oi  over          1\n",
              "...                                                 ...        ...\n",
              "5786  industry body cii said discoms are likely to s...         -1\n",
              "5787  gold prices slip below rs  as investors book p...         -1\n",
              "5788  workers at bajaj auto have agreed to a  wage c...          1\n",
              "5789  sharemarket live sensex off days high up  poin...          1\n",
              "5790  sensex nifty climb off days highs still up  ke...          1\n",
              "\n",
              "[5791 rows x 2 columns]"
            ],
            "text/html": [
              "\n",
              "  <div id=\"df-e4f803dc-08a8-4f7e-82c0-c0eca99a6476\" class=\"colab-df-container\">\n",
              "    <div>\n",
              "<style scoped>\n",
              "    .dataframe tbody tr th:only-of-type {\n",
              "        vertical-align: middle;\n",
              "    }\n",
              "\n",
              "    .dataframe tbody tr th {\n",
              "        vertical-align: top;\n",
              "    }\n",
              "\n",
              "    .dataframe thead th {\n",
              "        text-align: right;\n",
              "    }\n",
              "</style>\n",
              "<table border=\"1\" class=\"dataframe\">\n",
              "  <thead>\n",
              "    <tr style=\"text-align: right;\">\n",
              "      <th></th>\n",
              "      <th>Text</th>\n",
              "      <th>Sentiment</th>\n",
              "    </tr>\n",
              "  </thead>\n",
              "  <tbody>\n",
              "    <tr>\n",
              "      <th>0</th>\n",
              "      <td>kickers on my watchlist xide tit soq pnk cpw b...</td>\n",
              "      <td>1</td>\n",
              "    </tr>\n",
              "    <tr>\n",
              "      <th>1</th>\n",
              "      <td>user aap movie  return for the feageed indicat...</td>\n",
              "      <td>1</td>\n",
              "    </tr>\n",
              "    <tr>\n",
              "      <th>2</th>\n",
              "      <td>user id be afraid to short amzn  they are look...</td>\n",
              "      <td>1</td>\n",
              "    </tr>\n",
              "    <tr>\n",
              "      <th>3</th>\n",
              "      <td>mnta over</td>\n",
              "      <td>1</td>\n",
              "    </tr>\n",
              "    <tr>\n",
              "      <th>4</th>\n",
              "      <td>oi  over</td>\n",
              "      <td>1</td>\n",
              "    </tr>\n",
              "    <tr>\n",
              "      <th>...</th>\n",
              "      <td>...</td>\n",
              "      <td>...</td>\n",
              "    </tr>\n",
              "    <tr>\n",
              "      <th>5786</th>\n",
              "      <td>industry body cii said discoms are likely to s...</td>\n",
              "      <td>-1</td>\n",
              "    </tr>\n",
              "    <tr>\n",
              "      <th>5787</th>\n",
              "      <td>gold prices slip below rs  as investors book p...</td>\n",
              "      <td>-1</td>\n",
              "    </tr>\n",
              "    <tr>\n",
              "      <th>5788</th>\n",
              "      <td>workers at bajaj auto have agreed to a  wage c...</td>\n",
              "      <td>1</td>\n",
              "    </tr>\n",
              "    <tr>\n",
              "      <th>5789</th>\n",
              "      <td>sharemarket live sensex off days high up  poin...</td>\n",
              "      <td>1</td>\n",
              "    </tr>\n",
              "    <tr>\n",
              "      <th>5790</th>\n",
              "      <td>sensex nifty climb off days highs still up  ke...</td>\n",
              "      <td>1</td>\n",
              "    </tr>\n",
              "  </tbody>\n",
              "</table>\n",
              "<p>5791 rows × 2 columns</p>\n",
              "</div>\n",
              "    <div class=\"colab-df-buttons\">\n",
              "\n",
              "  <div class=\"colab-df-container\">\n",
              "    <button class=\"colab-df-convert\" onclick=\"convertToInteractive('df-e4f803dc-08a8-4f7e-82c0-c0eca99a6476')\"\n",
              "            title=\"Convert this dataframe to an interactive table.\"\n",
              "            style=\"display:none;\">\n",
              "\n",
              "  <svg xmlns=\"http://www.w3.org/2000/svg\" height=\"24px\" viewBox=\"0 -960 960 960\">\n",
              "    <path d=\"M120-120v-720h720v720H120Zm60-500h600v-160H180v160Zm220 220h160v-160H400v160Zm0 220h160v-160H400v160ZM180-400h160v-160H180v160Zm440 0h160v-160H620v160ZM180-180h160v-160H180v160Zm440 0h160v-160H620v160Z\"/>\n",
              "  </svg>\n",
              "    </button>\n",
              "\n",
              "  <style>\n",
              "    .colab-df-container {\n",
              "      display:flex;\n",
              "      gap: 12px;\n",
              "    }\n",
              "\n",
              "    .colab-df-convert {\n",
              "      background-color: #E8F0FE;\n",
              "      border: none;\n",
              "      border-radius: 50%;\n",
              "      cursor: pointer;\n",
              "      display: none;\n",
              "      fill: #1967D2;\n",
              "      height: 32px;\n",
              "      padding: 0 0 0 0;\n",
              "      width: 32px;\n",
              "    }\n",
              "\n",
              "    .colab-df-convert:hover {\n",
              "      background-color: #E2EBFA;\n",
              "      box-shadow: 0px 1px 2px rgba(60, 64, 67, 0.3), 0px 1px 3px 1px rgba(60, 64, 67, 0.15);\n",
              "      fill: #174EA6;\n",
              "    }\n",
              "\n",
              "    .colab-df-buttons div {\n",
              "      margin-bottom: 4px;\n",
              "    }\n",
              "\n",
              "    [theme=dark] .colab-df-convert {\n",
              "      background-color: #3B4455;\n",
              "      fill: #D2E3FC;\n",
              "    }\n",
              "\n",
              "    [theme=dark] .colab-df-convert:hover {\n",
              "      background-color: #434B5C;\n",
              "      box-shadow: 0px 1px 3px 1px rgba(0, 0, 0, 0.15);\n",
              "      filter: drop-shadow(0px 1px 2px rgba(0, 0, 0, 0.3));\n",
              "      fill: #FFFFFF;\n",
              "    }\n",
              "  </style>\n",
              "\n",
              "    <script>\n",
              "      const buttonEl =\n",
              "        document.querySelector('#df-e4f803dc-08a8-4f7e-82c0-c0eca99a6476 button.colab-df-convert');\n",
              "      buttonEl.style.display =\n",
              "        google.colab.kernel.accessAllowed ? 'block' : 'none';\n",
              "\n",
              "      async function convertToInteractive(key) {\n",
              "        const element = document.querySelector('#df-e4f803dc-08a8-4f7e-82c0-c0eca99a6476');\n",
              "        const dataTable =\n",
              "          await google.colab.kernel.invokeFunction('convertToInteractive',\n",
              "                                                    [key], {});\n",
              "        if (!dataTable) return;\n",
              "\n",
              "        const docLinkHtml = 'Like what you see? Visit the ' +\n",
              "          '<a target=\"_blank\" href=https://colab.research.google.com/notebooks/data_table.ipynb>data table notebook</a>'\n",
              "          + ' to learn more about interactive tables.';\n",
              "        element.innerHTML = '';\n",
              "        dataTable['output_type'] = 'display_data';\n",
              "        await google.colab.output.renderOutput(dataTable, element);\n",
              "        const docLink = document.createElement('div');\n",
              "        docLink.innerHTML = docLinkHtml;\n",
              "        element.appendChild(docLink);\n",
              "      }\n",
              "    </script>\n",
              "  </div>\n",
              "\n",
              "\n",
              "<div id=\"df-b353ddfa-25d2-4c2b-80f2-5bfdb8ba9fd1\">\n",
              "  <button class=\"colab-df-quickchart\" onclick=\"quickchart('df-b353ddfa-25d2-4c2b-80f2-5bfdb8ba9fd1')\"\n",
              "            title=\"Suggest charts\"\n",
              "            style=\"display:none;\">\n",
              "\n",
              "<svg xmlns=\"http://www.w3.org/2000/svg\" height=\"24px\"viewBox=\"0 0 24 24\"\n",
              "     width=\"24px\">\n",
              "    <g>\n",
              "        <path d=\"M19 3H5c-1.1 0-2 .9-2 2v14c0 1.1.9 2 2 2h14c1.1 0 2-.9 2-2V5c0-1.1-.9-2-2-2zM9 17H7v-7h2v7zm4 0h-2V7h2v10zm4 0h-2v-4h2v4z\"/>\n",
              "    </g>\n",
              "</svg>\n",
              "  </button>\n",
              "\n",
              "<style>\n",
              "  .colab-df-quickchart {\n",
              "      --bg-color: #E8F0FE;\n",
              "      --fill-color: #1967D2;\n",
              "      --hover-bg-color: #E2EBFA;\n",
              "      --hover-fill-color: #174EA6;\n",
              "      --disabled-fill-color: #AAA;\n",
              "      --disabled-bg-color: #DDD;\n",
              "  }\n",
              "\n",
              "  [theme=dark] .colab-df-quickchart {\n",
              "      --bg-color: #3B4455;\n",
              "      --fill-color: #D2E3FC;\n",
              "      --hover-bg-color: #434B5C;\n",
              "      --hover-fill-color: #FFFFFF;\n",
              "      --disabled-bg-color: #3B4455;\n",
              "      --disabled-fill-color: #666;\n",
              "  }\n",
              "\n",
              "  .colab-df-quickchart {\n",
              "    background-color: var(--bg-color);\n",
              "    border: none;\n",
              "    border-radius: 50%;\n",
              "    cursor: pointer;\n",
              "    display: none;\n",
              "    fill: var(--fill-color);\n",
              "    height: 32px;\n",
              "    padding: 0;\n",
              "    width: 32px;\n",
              "  }\n",
              "\n",
              "  .colab-df-quickchart:hover {\n",
              "    background-color: var(--hover-bg-color);\n",
              "    box-shadow: 0 1px 2px rgba(60, 64, 67, 0.3), 0 1px 3px 1px rgba(60, 64, 67, 0.15);\n",
              "    fill: var(--button-hover-fill-color);\n",
              "  }\n",
              "\n",
              "  .colab-df-quickchart-complete:disabled,\n",
              "  .colab-df-quickchart-complete:disabled:hover {\n",
              "    background-color: var(--disabled-bg-color);\n",
              "    fill: var(--disabled-fill-color);\n",
              "    box-shadow: none;\n",
              "  }\n",
              "\n",
              "  .colab-df-spinner {\n",
              "    border: 2px solid var(--fill-color);\n",
              "    border-color: transparent;\n",
              "    border-bottom-color: var(--fill-color);\n",
              "    animation:\n",
              "      spin 1s steps(1) infinite;\n",
              "  }\n",
              "\n",
              "  @keyframes spin {\n",
              "    0% {\n",
              "      border-color: transparent;\n",
              "      border-bottom-color: var(--fill-color);\n",
              "      border-left-color: var(--fill-color);\n",
              "    }\n",
              "    20% {\n",
              "      border-color: transparent;\n",
              "      border-left-color: var(--fill-color);\n",
              "      border-top-color: var(--fill-color);\n",
              "    }\n",
              "    30% {\n",
              "      border-color: transparent;\n",
              "      border-left-color: var(--fill-color);\n",
              "      border-top-color: var(--fill-color);\n",
              "      border-right-color: var(--fill-color);\n",
              "    }\n",
              "    40% {\n",
              "      border-color: transparent;\n",
              "      border-right-color: var(--fill-color);\n",
              "      border-top-color: var(--fill-color);\n",
              "    }\n",
              "    60% {\n",
              "      border-color: transparent;\n",
              "      border-right-color: var(--fill-color);\n",
              "    }\n",
              "    80% {\n",
              "      border-color: transparent;\n",
              "      border-right-color: var(--fill-color);\n",
              "      border-bottom-color: var(--fill-color);\n",
              "    }\n",
              "    90% {\n",
              "      border-color: transparent;\n",
              "      border-bottom-color: var(--fill-color);\n",
              "    }\n",
              "  }\n",
              "</style>\n",
              "\n",
              "  <script>\n",
              "    async function quickchart(key) {\n",
              "      const quickchartButtonEl =\n",
              "        document.querySelector('#' + key + ' button');\n",
              "      quickchartButtonEl.disabled = true;  // To prevent multiple clicks.\n",
              "      quickchartButtonEl.classList.add('colab-df-spinner');\n",
              "      try {\n",
              "        const charts = await google.colab.kernel.invokeFunction(\n",
              "            'suggestCharts', [key], {});\n",
              "      } catch (error) {\n",
              "        console.error('Error during call to suggestCharts:', error);\n",
              "      }\n",
              "      quickchartButtonEl.classList.remove('colab-df-spinner');\n",
              "      quickchartButtonEl.classList.add('colab-df-quickchart-complete');\n",
              "    }\n",
              "    (() => {\n",
              "      let quickchartButtonEl =\n",
              "        document.querySelector('#df-b353ddfa-25d2-4c2b-80f2-5bfdb8ba9fd1 button');\n",
              "      quickchartButtonEl.style.display =\n",
              "        google.colab.kernel.accessAllowed ? 'block' : 'none';\n",
              "    })();\n",
              "  </script>\n",
              "</div>\n",
              "\n",
              "  <div id=\"id_ebbffab3-c1b6-4006-9eba-65b2c362bc6d\">\n",
              "    <style>\n",
              "      .colab-df-generate {\n",
              "        background-color: #E8F0FE;\n",
              "        border: none;\n",
              "        border-radius: 50%;\n",
              "        cursor: pointer;\n",
              "        display: none;\n",
              "        fill: #1967D2;\n",
              "        height: 32px;\n",
              "        padding: 0 0 0 0;\n",
              "        width: 32px;\n",
              "      }\n",
              "\n",
              "      .colab-df-generate:hover {\n",
              "        background-color: #E2EBFA;\n",
              "        box-shadow: 0px 1px 2px rgba(60, 64, 67, 0.3), 0px 1px 3px 1px rgba(60, 64, 67, 0.15);\n",
              "        fill: #174EA6;\n",
              "      }\n",
              "\n",
              "      [theme=dark] .colab-df-generate {\n",
              "        background-color: #3B4455;\n",
              "        fill: #D2E3FC;\n",
              "      }\n",
              "\n",
              "      [theme=dark] .colab-df-generate:hover {\n",
              "        background-color: #434B5C;\n",
              "        box-shadow: 0px 1px 3px 1px rgba(0, 0, 0, 0.15);\n",
              "        filter: drop-shadow(0px 1px 2px rgba(0, 0, 0, 0.3));\n",
              "        fill: #FFFFFF;\n",
              "      }\n",
              "    </style>\n",
              "    <button class=\"colab-df-generate\" onclick=\"generateWithVariable('data')\"\n",
              "            title=\"Generate code using this dataframe.\"\n",
              "            style=\"display:none;\">\n",
              "\n",
              "  <svg xmlns=\"http://www.w3.org/2000/svg\" height=\"24px\"viewBox=\"0 0 24 24\"\n",
              "       width=\"24px\">\n",
              "    <path d=\"M7,19H8.4L18.45,9,17,7.55,7,17.6ZM5,21V16.75L18.45,3.32a2,2,0,0,1,2.83,0l1.4,1.43a1.91,1.91,0,0,1,.58,1.4,1.91,1.91,0,0,1-.58,1.4L9.25,21ZM18.45,9,17,7.55Zm-12,3A5.31,5.31,0,0,0,4.9,8.1,5.31,5.31,0,0,0,1,6.5,5.31,5.31,0,0,0,4.9,4.9,5.31,5.31,0,0,0,6.5,1,5.31,5.31,0,0,0,8.1,4.9,5.31,5.31,0,0,0,12,6.5,5.46,5.46,0,0,0,6.5,12Z\"/>\n",
              "  </svg>\n",
              "    </button>\n",
              "    <script>\n",
              "      (() => {\n",
              "      const buttonEl =\n",
              "        document.querySelector('#id_ebbffab3-c1b6-4006-9eba-65b2c362bc6d button.colab-df-generate');\n",
              "      buttonEl.style.display =\n",
              "        google.colab.kernel.accessAllowed ? 'block' : 'none';\n",
              "\n",
              "      buttonEl.onclick = () => {\n",
              "        google.colab.notebook.generateWithVariable('data');\n",
              "      }\n",
              "      })();\n",
              "    </script>\n",
              "  </div>\n",
              "\n",
              "    </div>\n",
              "  </div>\n"
            ],
            "application/vnd.google.colaboratory.intrinsic+json": {
              "type": "dataframe",
              "variable_name": "data",
              "summary": "{\n  \"name\": \"data\",\n  \"rows\": 5791,\n  \"fields\": [\n    {\n      \"column\": \"Text\",\n      \"properties\": {\n        \"dtype\": \"string\",\n        \"num_unique_values\": 5759,\n        \"samples\": [\n          \"even more breakouts for yhoo  highest levels since   typed from home office\",\n          \"bought a little mt domestic drones are inevitable\",\n          \"cmg creeping up on  ma and long term down trend\"\n        ],\n        \"semantic_type\": \"\",\n        \"description\": \"\"\n      }\n    },\n    {\n      \"column\": \"Sentiment\",\n      \"properties\": {\n        \"dtype\": \"number\",\n        \"std\": 0,\n        \"min\": -1,\n        \"max\": 1,\n        \"num_unique_values\": 2,\n        \"samples\": [\n          -1,\n          1\n        ],\n        \"semantic_type\": \"\",\n        \"description\": \"\"\n      }\n    }\n  ]\n}"
            }
          },
          "metadata": {},
          "execution_count": 70
        }
      ]
    },
    {
      "cell_type": "code",
      "source": [
        "data['Sentiment'].value_counts()"
      ],
      "metadata": {
        "colab": {
          "base_uri": "https://localhost:8080/"
        },
        "id": "6vkN0UwS6_r0",
        "outputId": "9dddf336-d9a1-4698-c49c-700f054b79b4"
      },
      "execution_count": null,
      "outputs": [
        {
          "output_type": "execute_result",
          "data": {
            "text/plain": [
              "Sentiment\n",
              " 1    3685\n",
              "-1    2106\n",
              "Name: count, dtype: int64"
            ]
          },
          "metadata": {},
          "execution_count": 67
        }
      ]
    },
    {
      "source": [
        "# @title Sentiment\n",
        "\n",
        "from matplotlib import pyplot as plt\n",
        "data['Sentiment'].plot(kind='hist', bins=20, title='Sentiment')\n",
        "plt.gca().spines[['top', 'right',]].set_visible(False)"
      ],
      "cell_type": "code",
      "execution_count": null,
      "outputs": [
        {
          "output_type": "display_data",
          "data": {
            "text/plain": [
              "<Figure size 640x480 with 1 Axes>"
            ],
            "image/png": "[encoded data removed]"
          },
          "metadata": {}
        }
      ],
      "metadata": {
        "cellView": "form",
        "colab": {
          "base_uri": "https://localhost:8080/",
          "height": 452
        },
        "id": "tLHMYO830f8a",
        "outputId": "cef58b44-a35c-48a1-eac3-9fdef60ed0c9"
      }
    },
    {
      "cell_type": "code",
      "source": [
        "data.isnull().sum()\n",
        "#資料集無殘缺"
      ],
      "metadata": {
        "colab": {
          "base_uri": "https://localhost:8080/"
        },
        "id": "0rRPArF661zR",
        "outputId": "d5babf03-c812-4068-8b3f-76e5fb3c87f4"
      },
      "execution_count": null,
      "outputs": [
        {
          "output_type": "execute_result",
          "data": {
            "text/plain": [
              "Text         0\n",
              "Sentiment    0\n",
              "dtype: int64"
            ]
          },
          "metadata": {},
          "execution_count": 8
        }
      ]
    },
    {
      "source": [
        "# @title Proportion of Sentiments\n",
        "\n",
        "import matplotlib.pyplot as plt\n",
        "\n",
        "# Count the occurrences of each sentiment\n",
        "sentiment_counts = data['Sentiment'].value_counts()\n",
        "\n",
        "# Create a pie chart\n",
        "plt.pie(sentiment_counts, labels=sentiment_counts.index, autopct='%1.1f%%')\n",
        "_ = plt.title('Proportion of Sentiments')"
      ],
      "cell_type": "code",
      "execution_count": null,
      "outputs": [
        {
          "output_type": "display_data",
          "data": {
            "text/plain": [
              "<Figure size 640x480 with 1 Axes>"
            ],
            "image/png": "[encoded data removed]"
          },
          "metadata": {}
        }
      ],
      "metadata": {
        "colab": {
          "base_uri": "https://localhost:8080/",
          "height": 428
        },
        "id": "MMDg0Rrs0cfD",
        "outputId": "cb5c8b58-52d7-4f51-ddb0-d2e139e7fb73"
      }
    },
    {
      "cell_type": "markdown",
      "source": [
        "可發現資料即是比較不平衡的"
      ],
      "metadata": {
        "id": "Dke9HCryLCT3"
      }
    },
    {
      "cell_type": "code",
      "source": [
        "import pandas as pd\n",
        "import numpy as np\n",
        "from sklearn.model_selection import train_test_split\n",
        "from sklearn.preprocessing import LabelEncoder\n",
        "import re\n",
        "import nltk\n",
        "from nltk.corpus import stopwords\n",
        "from nltk.tokenize import word_tokenize\n",
        "from nltk.stem import WordNetLemmatizer\n",
        "from nltk.corpus import wordnet\n",
        "import random\n",
        "\n",
        "# 確保下載nltk資料\n",
        "nltk.download('punkt')\n",
        "nltk.download('stopwords')\n",
        "nltk.download('wordnet')\n",
        "\n",
        "# 資料清理函數\n",
        "def clean_text(text):\n",
        "    text = text.lower()  # 轉小寫\n",
        "    text = re.sub(r'http\\S+|www\\S+|https\\S+', '', text, flags=re.MULTILINE)  # 移除URL\n",
        "    text = re.sub(r'\\@w+|\\#','', text)  # 移除@和#\n",
        "    text = re.sub(r'[^a-zA-Z0-9\\s]', '', text)  # 移除標點符號\n",
        "    text = re.sub(r'\\d+', '', text)  # 移除數字\n",
        "    text = text.strip()  # 去除首尾空格\n",
        "    return text\n",
        "\n",
        "\n",
        "# 同義詞替換增強函數\n",
        "def synonym_replacement(sentence, n=1):\n",
        "    words = sentence.split()\n",
        "    new_words = words.copy()\n",
        "    for _ in range(n):\n",
        "        word_to_replace = random.choice(words)\n",
        "        synonyms = wordnet.synsets(word_to_replace)\n",
        "        if synonyms:\n",
        "            synonym = random.choice(synonyms).lemmas()[0].name()\n",
        "            new_words = [synonym if word == word_to_replace else word for word in new_words]\n",
        "    return ' '.join(new_words)\n",
        "\n",
        "# 打亂句子結構增強函數\n",
        "def shuffle_sentence(sentence):\n",
        "    words = sentence.split()\n",
        "    random.shuffle(words)\n",
        "    return ' '.join(words)\n",
        "\n",
        "# 綜合增強函數\n",
        "def augment_text(sentence):\n",
        "    sentence = synonym_replacement(sentence, n=1)\n",
        "    sentence = shuffle_sentence(sentence)\n",
        "    return sentence\n",
        "\n",
        "# 清理文本\n",
        "data['Text'] = data['Text'].apply(clean_text)\n",
        "\n",
        "# 分離文字和情緒標籤\n",
        "texts = data['Text']\n",
        "emotions = data['Sentiment']"
      ],
      "metadata": {
        "colab": {
          "base_uri": "https://localhost:8080/"
        },
        "id": "zEIt3rZH57FH",
        "outputId": "fce608a0-9a9c-4f3a-80ac-91b746fc3fce"
      },
      "execution_count": null,
      "outputs": [
        {
          "output_type": "stream",
          "name": "stderr",
          "text": [
            "[nltk_data] Downloading package punkt to /root/nltk_data...\n",
            "[nltk_data]   Package punkt is already up-to-date!\n",
            "[nltk_data] Downloading package stopwords to /root/nltk_data...\n",
            "[nltk_data]   Package stopwords is already up-to-date!\n",
            "[nltk_data] Downloading package wordnet to /root/nltk_data...\n",
            "[nltk_data]   Package wordnet is already up-to-date!\n"
          ]
        }
      ]
    },
    {
      "cell_type": "code",
      "source": [
        "data"
      ],
      "metadata": {
        "colab": {
          "base_uri": "https://localhost:8080/",
          "height": 423
        },
        "id": "3MxQdSDlT7sc",
        "outputId": "f527c009-9bd3-4c6d-88eb-6522e97fbd87"
      },
      "execution_count": null,
      "outputs": [
        {
          "output_type": "execute_result",
          "data": {
            "text/plain": [
              "                                                   Text  Sentiment\n",
              "0     kickers on my watchlist xide tit soq pnk cpw b...          1\n",
              "1     user aap movie  return for the feageed indicat...          1\n",
              "2     user id be afraid to short amzn  they are look...          1\n",
              "3                                             mnta over          1\n",
              "4                                              oi  over          1\n",
              "...                                                 ...        ...\n",
              "5786  industry body cii said discoms are likely to s...         -1\n",
              "5787  gold prices slip below rs  as investors book p...         -1\n",
              "5788  workers at bajaj auto have agreed to a  wage c...          1\n",
              "5789  sharemarket live sensex off days high up  poin...          1\n",
              "5790  sensex nifty climb off days highs still up  ke...          1\n",
              "\n",
              "[5791 rows x 2 columns]"
            ],
            "text/html": [
              "\n",
              "  <div id=\"df-0066f009-565d-4088-97eb-20f40679a201\" class=\"colab-df-container\">\n",
              "    <div>\n",
              "<style scoped>\n",
              "    .dataframe tbody tr th:only-of-type {\n",
              "        vertical-align: middle;\n",
              "    }\n",
              "\n",
              "    .dataframe tbody tr th {\n",
              "        vertical-align: top;\n",
              "    }\n",
              "\n",
              "    .dataframe thead th {\n",
              "        text-align: right;\n",
              "    }\n",
              "</style>\n",
              "<table border=\"1\" class=\"dataframe\">\n",
              "  <thead>\n",
              "    <tr style=\"text-align: right;\">\n",
              "      <th></th>\n",
              "      <th>Text</th>\n",
              "      <th>Sentiment</th>\n",
              "    </tr>\n",
              "  </thead>\n",
              "  <tbody>\n",
              "    <tr>\n",
              "      <th>0</th>\n",
              "      <td>kickers on my watchlist xide tit soq pnk cpw b...</td>\n",
              "      <td>1</td>\n",
              "    </tr>\n",
              "    <tr>\n",
              "      <th>1</th>\n",
              "      <td>user aap movie  return for the feageed indicat...</td>\n",
              "      <td>1</td>\n",
              "    </tr>\n",
              "    <tr>\n",
              "      <th>2</th>\n",
              "      <td>user id be afraid to short amzn  they are look...</td>\n",
              "      <td>1</td>\n",
              "    </tr>\n",
              "    <tr>\n",
              "      <th>3</th>\n",
              "      <td>mnta over</td>\n",
              "      <td>1</td>\n",
              "    </tr>\n",
              "    <tr>\n",
              "      <th>4</th>\n",
              "      <td>oi  over</td>\n",
              "      <td>1</td>\n",
              "    </tr>\n",
              "    <tr>\n",
              "      <th>...</th>\n",
              "      <td>...</td>\n",
              "      <td>...</td>\n",
              "    </tr>\n",
              "    <tr>\n",
              "      <th>5786</th>\n",
              "      <td>industry body cii said discoms are likely to s...</td>\n",
              "      <td>-1</td>\n",
              "    </tr>\n",
              "    <tr>\n",
              "      <th>5787</th>\n",
              "      <td>gold prices slip below rs  as investors book p...</td>\n",
              "      <td>-1</td>\n",
              "    </tr>\n",
              "    <tr>\n",
              "      <th>5788</th>\n",
              "      <td>workers at bajaj auto have agreed to a  wage c...</td>\n",
              "      <td>1</td>\n",
              "    </tr>\n",
              "    <tr>\n",
              "      <th>5789</th>\n",
              "      <td>sharemarket live sensex off days high up  poin...</td>\n",
              "      <td>1</td>\n",
              "    </tr>\n",
              "    <tr>\n",
              "      <th>5790</th>\n",
              "      <td>sensex nifty climb off days highs still up  ke...</td>\n",
              "      <td>1</td>\n",
              "    </tr>\n",
              "  </tbody>\n",
              "</table>\n",
              "<p>5791 rows × 2 columns</p>\n",
              "</div>\n",
              "    <div class=\"colab-df-buttons\">\n",
              "\n",
              "  <div class=\"colab-df-container\">\n",
              "    <button class=\"colab-df-convert\" onclick=\"convertToInteractive('df-0066f009-565d-4088-97eb-20f40679a201')\"\n",
              "            title=\"Convert this dataframe to an interactive table.\"\n",
              "            style=\"display:none;\">\n",
              "\n",
              "  <svg xmlns=\"http://www.w3.org/2000/svg\" height=\"24px\" viewBox=\"0 -960 960 960\">\n",
              "    <path d=\"M120-120v-720h720v720H120Zm60-500h600v-160H180v160Zm220 220h160v-160H400v160Zm0 220h160v-160H400v160ZM180-400h160v-160H180v160Zm440 0h160v-160H620v160ZM180-180h160v-160H180v160Zm440 0h160v-160H620v160Z\"/>\n",
              "  </svg>\n",
              "    </button>\n",
              "\n",
              "  <style>\n",
              "    .colab-df-container {\n",
              "      display:flex;\n",
              "      gap: 12px;\n",
              "    }\n",
              "\n",
              "    .colab-df-convert {\n",
              "      background-color: #E8F0FE;\n",
              "      border: none;\n",
              "      border-radius: 50%;\n",
              "      cursor: pointer;\n",
              "      display: none;\n",
              "      fill: #1967D2;\n",
              "      height: 32px;\n",
              "      padding: 0 0 0 0;\n",
              "      width: 32px;\n",
              "    }\n",
              "\n",
              "    .colab-df-convert:hover {\n",
              "      background-color: #E2EBFA;\n",
              "      box-shadow: 0px 1px 2px rgba(60, 64, 67, 0.3), 0px 1px 3px 1px rgba(60, 64, 67, 0.15);\n",
              "      fill: #174EA6;\n",
              "    }\n",
              "\n",
              "    .colab-df-buttons div {\n",
              "      margin-bottom: 4px;\n",
              "    }\n",
              "\n",
              "    [theme=dark] .colab-df-convert {\n",
              "      background-color: #3B4455;\n",
              "      fill: #D2E3FC;\n",
              "    }\n",
              "\n",
              "    [theme=dark] .colab-df-convert:hover {\n",
              "      background-color: #434B5C;\n",
              "      box-shadow: 0px 1px 3px 1px rgba(0, 0, 0, 0.15);\n",
              "      filter: drop-shadow(0px 1px 2px rgba(0, 0, 0, 0.3));\n",
              "      fill: #FFFFFF;\n",
              "    }\n",
              "  </style>\n",
              "\n",
              "    <script>\n",
              "      const buttonEl =\n",
              "        document.querySelector('#df-0066f009-565d-4088-97eb-20f40679a201 button.colab-df-convert');\n",
              "      buttonEl.style.display =\n",
              "        google.colab.kernel.accessAllowed ? 'block' : 'none';\n",
              "\n",
              "      async function convertToInteractive(key) {\n",
              "        const element = document.querySelector('#df-0066f009-565d-4088-97eb-20f40679a201');\n",
              "        const dataTable =\n",
              "          await google.colab.kernel.invokeFunction('convertToInteractive',\n",
              "                                                    [key], {});\n",
              "        if (!dataTable) return;\n",
              "\n",
              "        const docLinkHtml = 'Like what you see? Visit the ' +\n",
              "          '<a target=\"_blank\" href=https://colab.research.google.com/notebooks/data_table.ipynb>data table notebook</a>'\n",
              "          + ' to learn more about interactive tables.';\n",
              "        element.innerHTML = '';\n",
              "        dataTable['output_type'] = 'display_data';\n",
              "        await google.colab.output.renderOutput(dataTable, element);\n",
              "        const docLink = document.createElement('div');\n",
              "        docLink.innerHTML = docLinkHtml;\n",
              "        element.appendChild(docLink);\n",
              "      }\n",
              "    </script>\n",
              "  </div>\n",
              "\n",
              "\n",
              "<div id=\"df-012e97a7-3c01-457e-88d0-3e0d759d2148\">\n",
              "  <button class=\"colab-df-quickchart\" onclick=\"quickchart('df-012e97a7-3c01-457e-88d0-3e0d759d2148')\"\n",
              "            title=\"Suggest charts\"\n",
              "            style=\"display:none;\">\n",
              "\n",
              "<svg xmlns=\"http://www.w3.org/2000/svg\" height=\"24px\"viewBox=\"0 0 24 24\"\n",
              "     width=\"24px\">\n",
              "    <g>\n",
              "        <path d=\"M19 3H5c-1.1 0-2 .9-2 2v14c0 1.1.9 2 2 2h14c1.1 0 2-.9 2-2V5c0-1.1-.9-2-2-2zM9 17H7v-7h2v7zm4 0h-2V7h2v10zm4 0h-2v-4h2v4z\"/>\n",
              "    </g>\n",
              "</svg>\n",
              "  </button>\n",
              "\n",
              "<style>\n",
              "  .colab-df-quickchart {\n",
              "      --bg-color: #E8F0FE;\n",
              "      --fill-color: #1967D2;\n",
              "      --hover-bg-color: #E2EBFA;\n",
              "      --hover-fill-color: #174EA6;\n",
              "      --disabled-fill-color: #AAA;\n",
              "      --disabled-bg-color: #DDD;\n",
              "  }\n",
              "\n",
              "  [theme=dark] .colab-df-quickchart {\n",
              "      --bg-color: #3B4455;\n",
              "      --fill-color: #D2E3FC;\n",
              "      --hover-bg-color: #434B5C;\n",
              "      --hover-fill-color: #FFFFFF;\n",
              "      --disabled-bg-color: #3B4455;\n",
              "      --disabled-fill-color: #666;\n",
              "  }\n",
              "\n",
              "  .colab-df-quickchart {\n",
              "    background-color: var(--bg-color);\n",
              "    border: none;\n",
              "    border-radius: 50%;\n",
              "    cursor: pointer;\n",
              "    display: none;\n",
              "    fill: var(--fill-color);\n",
              "    height: 32px;\n",
              "    padding: 0;\n",
              "    width: 32px;\n",
              "  }\n",
              "\n",
              "  .colab-df-quickchart:hover {\n",
              "    background-color: var(--hover-bg-color);\n",
              "    box-shadow: 0 1px 2px rgba(60, 64, 67, 0.3), 0 1px 3px 1px rgba(60, 64, 67, 0.15);\n",
              "    fill: var(--button-hover-fill-color);\n",
              "  }\n",
              "\n",
              "  .colab-df-quickchart-complete:disabled,\n",
              "  .colab-df-quickchart-complete:disabled:hover {\n",
              "    background-color: var(--disabled-bg-color);\n",
              "    fill: var(--disabled-fill-color);\n",
              "    box-shadow: none;\n",
              "  }\n",
              "\n",
              "  .colab-df-spinner {\n",
              "    border: 2px solid var(--fill-color);\n",
              "    border-color: transparent;\n",
              "    border-bottom-color: var(--fill-color);\n",
              "    animation:\n",
              "      spin 1s steps(1) infinite;\n",
              "  }\n",
              "\n",
              "  @keyframes spin {\n",
              "    0% {\n",
              "      border-color: transparent;\n",
              "      border-bottom-color: var(--fill-color);\n",
              "      border-left-color: var(--fill-color);\n",
              "    }\n",
              "    20% {\n",
              "      border-color: transparent;\n",
              "      border-left-color: var(--fill-color);\n",
              "      border-top-color: var(--fill-color);\n",
              "    }\n",
              "    30% {\n",
              "      border-color: transparent;\n",
              "      border-left-color: var(--fill-color);\n",
              "      border-top-color: var(--fill-color);\n",
              "      border-right-color: var(--fill-color);\n",
              "    }\n",
              "    40% {\n",
              "      border-color: transparent;\n",
              "      border-right-color: var(--fill-color);\n",
              "      border-top-color: var(--fill-color);\n",
              "    }\n",
              "    60% {\n",
              "      border-color: transparent;\n",
              "      border-right-color: var(--fill-color);\n",
              "    }\n",
              "    80% {\n",
              "      border-color: transparent;\n",
              "      border-right-color: var(--fill-color);\n",
              "      border-bottom-color: var(--fill-color);\n",
              "    }\n",
              "    90% {\n",
              "      border-color: transparent;\n",
              "      border-bottom-color: var(--fill-color);\n",
              "    }\n",
              "  }\n",
              "</style>\n",
              "\n",
              "  <script>\n",
              "    async function quickchart(key) {\n",
              "      const quickchartButtonEl =\n",
              "        document.querySelector('#' + key + ' button');\n",
              "      quickchartButtonEl.disabled = true;  // To prevent multiple clicks.\n",
              "      quickchartButtonEl.classList.add('colab-df-spinner');\n",
              "      try {\n",
              "        const charts = await google.colab.kernel.invokeFunction(\n",
              "            'suggestCharts', [key], {});\n",
              "      } catch (error) {\n",
              "        console.error('Error during call to suggestCharts:', error);\n",
              "      }\n",
              "      quickchartButtonEl.classList.remove('colab-df-spinner');\n",
              "      quickchartButtonEl.classList.add('colab-df-quickchart-complete');\n",
              "    }\n",
              "    (() => {\n",
              "      let quickchartButtonEl =\n",
              "        document.querySelector('#df-012e97a7-3c01-457e-88d0-3e0d759d2148 button');\n",
              "      quickchartButtonEl.style.display =\n",
              "        google.colab.kernel.accessAllowed ? 'block' : 'none';\n",
              "    })();\n",
              "  </script>\n",
              "</div>\n",
              "\n",
              "  <div id=\"id_1ab23d12-3943-4cbd-966b-46c0f68da031\">\n",
              "    <style>\n",
              "      .colab-df-generate {\n",
              "        background-color: #E8F0FE;\n",
              "        border: none;\n",
              "        border-radius: 50%;\n",
              "        cursor: pointer;\n",
              "        display: none;\n",
              "        fill: #1967D2;\n",
              "        height: 32px;\n",
              "        padding: 0 0 0 0;\n",
              "        width: 32px;\n",
              "      }\n",
              "\n",
              "      .colab-df-generate:hover {\n",
              "        background-color: #E2EBFA;\n",
              "        box-shadow: 0px 1px 2px rgba(60, 64, 67, 0.3), 0px 1px 3px 1px rgba(60, 64, 67, 0.15);\n",
              "        fill: #174EA6;\n",
              "      }\n",
              "\n",
              "      [theme=dark] .colab-df-generate {\n",
              "        background-color: #3B4455;\n",
              "        fill: #D2E3FC;\n",
              "      }\n",
              "\n",
              "      [theme=dark] .colab-df-generate:hover {\n",
              "        background-color: #434B5C;\n",
              "        box-shadow: 0px 1px 3px 1px rgba(0, 0, 0, 0.15);\n",
              "        filter: drop-shadow(0px 1px 2px rgba(0, 0, 0, 0.3));\n",
              "        fill: #FFFFFF;\n",
              "      }\n",
              "    </style>\n",
              "    <button class=\"colab-df-generate\" onclick=\"generateWithVariable('data')\"\n",
              "            title=\"Generate code using this dataframe.\"\n",
              "            style=\"display:none;\">\n",
              "\n",
              "  <svg xmlns=\"http://www.w3.org/2000/svg\" height=\"24px\"viewBox=\"0 0 24 24\"\n",
              "       width=\"24px\">\n",
              "    <path d=\"M7,19H8.4L18.45,9,17,7.55,7,17.6ZM5,21V16.75L18.45,3.32a2,2,0,0,1,2.83,0l1.4,1.43a1.91,1.91,0,0,1,.58,1.4,1.91,1.91,0,0,1-.58,1.4L9.25,21ZM18.45,9,17,7.55Zm-12,3A5.31,5.31,0,0,0,4.9,8.1,5.31,5.31,0,0,0,1,6.5,5.31,5.31,0,0,0,4.9,4.9,5.31,5.31,0,0,0,6.5,1,5.31,5.31,0,0,0,8.1,4.9,5.31,5.31,0,0,0,12,6.5,5.46,5.46,0,0,0,6.5,12Z\"/>\n",
              "  </svg>\n",
              "    </button>\n",
              "    <script>\n",
              "      (() => {\n",
              "      const buttonEl =\n",
              "        document.querySelector('#id_1ab23d12-3943-4cbd-966b-46c0f68da031 button.colab-df-generate');\n",
              "      buttonEl.style.display =\n",
              "        google.colab.kernel.accessAllowed ? 'block' : 'none';\n",
              "\n",
              "      buttonEl.onclick = () => {\n",
              "        google.colab.notebook.generateWithVariable('data');\n",
              "      }\n",
              "      })();\n",
              "    </script>\n",
              "  </div>\n",
              "\n",
              "    </div>\n",
              "  </div>\n"
            ],
            "application/vnd.google.colaboratory.intrinsic+json": {
              "type": "dataframe",
              "variable_name": "data",
              "summary": "{\n  \"name\": \"data\",\n  \"rows\": 5791,\n  \"fields\": [\n    {\n      \"column\": \"Text\",\n      \"properties\": {\n        \"dtype\": \"string\",\n        \"num_unique_values\": 5759,\n        \"samples\": [\n          \"even more breakouts for yhoo  highest levels since   typed from home office\",\n          \"bought a little mt domestic drones are inevitable\",\n          \"cmg creeping up on  ma and long term down trend\"\n        ],\n        \"semantic_type\": \"\",\n        \"description\": \"\"\n      }\n    },\n    {\n      \"column\": \"Sentiment\",\n      \"properties\": {\n        \"dtype\": \"number\",\n        \"std\": 0,\n        \"min\": -1,\n        \"max\": 1,\n        \"num_unique_values\": 2,\n        \"samples\": [\n          -1,\n          1\n        ],\n        \"semantic_type\": \"\",\n        \"description\": \"\"\n      }\n    }\n  ]\n}"
            }
          },
          "metadata": {},
          "execution_count": 44
        }
      ]
    },
    {
      "cell_type": "code",
      "source": [
        "# 綜合增強數據\n",
        "augmented_texts = []\n",
        "for text, emotion in zip(texts, emotions):\n",
        "    if emotion == -1:  # 只對負情緒進行增強\n",
        "        augmented_text = augment_text(text)\n",
        "        augmented_texts.append({'Text': augmented_text, 'Sentiment': emotion})\n",
        "\n",
        "# 將增強後的數據合併到原始數據集\n",
        "augmented_data = pd.concat([data, pd.DataFrame(augmented_texts)], ignore_index=True)\n",
        "\n",
        "# 確認合併後的數據集\n",
        "print(\"Augmented data set:\")\n",
        "print(augmented_data)"
      ],
      "metadata": {
        "colab": {
          "base_uri": "https://localhost:8080/"
        },
        "id": "SHXB9Qsr_kEm",
        "outputId": "05c8f6f8-a713-43ee-efb8-ae4e493a4340"
      },
      "execution_count": null,
      "outputs": [
        {
          "output_type": "stream",
          "name": "stdout",
          "text": [
            "Augmented data set:\n",
            "                                                   Text  Sentiment\n",
            "0     kickers on my watchlist xide tit soq pnk cpw b...          1\n",
            "1     user aap movie  return for the feageed indicat...          1\n",
            "2     user id be afraid to short amzn  they are look...          1\n",
            "3                                             mnta over          1\n",
            "4                                              oi  over          1\n",
            "...                                                 ...        ...\n",
            "7892  economic coronaviruspandemic more the the is d...         -1\n",
            "7893  that in st economy epidemic into forced was as...         -1\n",
            "7894  defensive sachs beat slump tells virus go larg...         -1\n",
            "7895  discoms to around net loss crore of are body r...         -1\n",
            "7896  recession below fears amid investors slip as R...         -1\n",
            "\n",
            "[7897 rows x 2 columns]\n"
          ]
        }
      ]
    },
    {
      "cell_type": "code",
      "source": [
        "# 确认情绪标签的唯一值\n",
        "emotions = augmented_data['Sentiment']\n",
        "print(\"Unique values in emotions:\", emotions.unique())\n",
        "\n",
        "# 将情绪标签进行编码\n",
        "label_encoder = LabelEncoder()\n",
        "emotions_encoded = label_encoder.fit_transform(emotions)\n",
        "\n",
        "# 检查编码后的唯一值\n",
        "print(\"Unique values in emotions_encoded:\", np.unique(emotions_encoded))\n",
        "\n",
        "# 手动检查和转换情绪标签为0和1\n",
        "emotions_encoded = np.where(augmented_data['Sentiment'] == -1, 0, 1)\n",
        "print(\"After manual transformation, unique values in emotions_encoded:\", np.unique(emotions_encoded))\n",
        "\n",
        "# 分割訓練集和測試集\n",
        "X_train, X_test, y_train, y_test = train_test_split(augmented_data['Text'], emotions_encoded, test_size=0.2, random_state=42)\n",
        "\n",
        "# 确保训练和测试集的标签唯一值\n",
        "print(\"Unique values in y_train:\", np.unique(y_train))\n",
        "print(\"Unique values in y_test:\", np.unique(y_test))\n",
        "\n",
        "print(\"Data augmentation completed.\")"
      ],
      "metadata": {
        "colab": {
          "base_uri": "https://localhost:8080/"
        },
        "id": "WG6jHn1f48Mb",
        "outputId": "4bd6177e-70a7-4612-ecdc-5e2586e87b47"
      },
      "execution_count": null,
      "outputs": [
        {
          "output_type": "stream",
          "name": "stdout",
          "text": [
            "Unique values in emotions: [ 1 -1]\n",
            "Unique values in emotions_encoded: [0 1]\n",
            "After manual transformation, unique values in emotions_encoded: [0 1]\n",
            "Unique values in y_train: [0 1]\n",
            "Unique values in y_test: [0 1]\n",
            "Data augmentation completed.\n"
          ]
        }
      ]
    },
    {
      "cell_type": "code",
      "source": [
        "# prompt: 檢查數據增強後的資料集大小 分別是正面和負面\n",
        "\n",
        "augmented_data['Sentiment'].value_counts()\n"
      ],
      "metadata": {
        "colab": {
          "base_uri": "https://localhost:8080/"
        },
        "id": "JKNy9v0-4l-b",
        "outputId": "4798dc31-1eb6-4fdb-a318-ac0a0c05a59e"
      },
      "execution_count": null,
      "outputs": [
        {
          "output_type": "execute_result",
          "data": {
            "text/plain": [
              "Sentiment\n",
              "-1    4212\n",
              " 1    3685\n",
              "Name: count, dtype: int64"
            ]
          },
          "metadata": {},
          "execution_count": 7
        }
      ]
    },
    {
      "cell_type": "code",
      "source": [
        "# @title Proportion of Sentiments\n",
        "\n",
        "import matplotlib.pyplot as plt\n",
        "\n",
        "# Count the occurrences of each sentiment\n",
        "sentiment_counts = augmented_data['Sentiment'].value_counts()\n",
        "\n",
        "# Create a pie chart\n",
        "plt.pie(sentiment_counts, labels=sentiment_counts.index, autopct='%1.1f%%')\n",
        "_ = plt.title('Proportion of Sentiments')"
      ],
      "metadata": {
        "colab": {
          "base_uri": "https://localhost:8080/",
          "height": 428
        },
        "id": "nWUxBKzVBtL2",
        "outputId": "7055298b-e4fd-4b0c-fdd2-654e8a38c7f9"
      },
      "execution_count": null,
      "outputs": [
        {
          "output_type": "display_data",
          "data": {
            "text/plain": [
              "<Figure size 640x480 with 1 Axes>"
            ],
            "image/png": "[encoded data removed]"
          },
          "metadata": {}
        }
      ]
    },
    {
      "cell_type": "markdown",
      "source": [
        "### **word2vec**"
      ],
      "metadata": {
        "id": "1TNob4gahFPn"
      }
    },
    {
      "cell_type": "code",
      "source": [
        "from gensim.models import Word2Vec\n",
        "import numpy as np\n",
        "\n",
        "# 將文本標記化\n",
        "tokenized_texts = [word_tokenize(text) for text in X_train]\n",
        "\n",
        "# 訓練Word2Vec模型\n",
        "w2v_model = Word2Vec(sentences=tokenized_texts, vector_size=300, window=10, min_count=1, workers=4)\n",
        "\n",
        "# 生成詞向量的函數\n",
        "def get_w2v_vector(text):\n",
        "    tokens = word_tokenize(text)\n",
        "    vector = np.mean([w2v_model.wv[token] for token in tokens if token in w2v_model.wv], axis=0)\n",
        "    if isinstance(vector, np.ndarray):\n",
        "        return vector\n",
        "    else:\n",
        "        return np.zeros(300)\n",
        "\n",
        "# 將訓練集和測試集轉換為向量\n",
        "X_train_w2v = np.array([get_w2v_vector(text) for text in X_train])\n",
        "X_test_w2v = np.array([get_w2v_vector(text) for text in X_test])\n",
        "\n",
        "# 如果有缺失值（全是未出現詞），則補零向量\n",
        "X_train_w2v = np.nan_to_num(X_train_w2v)\n",
        "X_test_w2v = np.nan_to_num(X_test_w2v)"
      ],
      "metadata": {
        "id": "kGgK3wwc6oTp"
      },
      "execution_count": null,
      "outputs": []
    },
    {
      "cell_type": "code",
      "source": [
        "X_train_w2v"
      ],
      "metadata": {
        "colab": {
          "base_uri": "https://localhost:8080/"
        },
        "id": "vbZb9m8k9C5z",
        "outputId": "62e8618d-0a0c-4db3-e024-2bcc0ec83cca"
      },
      "execution_count": null,
      "outputs": [
        {
          "output_type": "execute_result",
          "data": {
            "text/plain": [
              "array([[ 0.05409548,  0.35170597,  0.02849689, ..., -0.15267354,\n",
              "         0.21513155, -0.06981268],\n",
              "       [ 0.03072447,  0.22819868,  0.04118833, ..., -0.14038286,\n",
              "         0.17107585, -0.05239639],\n",
              "       [ 0.05599502,  0.38509396,  0.06511904, ..., -0.23589393,\n",
              "         0.28587756, -0.09014736],\n",
              "       ...,\n",
              "       [ 0.03667165,  0.25665265,  0.04617003, ..., -0.15994772,\n",
              "         0.19195423, -0.05939126],\n",
              "       [ 0.05166622,  0.34984416,  0.05608506, ..., -0.20489849,\n",
              "         0.254414  , -0.07955785],\n",
              "       [ 0.00204742,  0.00801015,  0.00157459, ..., -0.00377869,\n",
              "         0.00739131, -0.00156006]], dtype=float32)"
            ]
          },
          "metadata": {},
          "execution_count": 13
        }
      ]
    },
    {
      "cell_type": "markdown",
      "source": [
        "### **bert**"
      ],
      "metadata": {
        "id": "Ag4uFtNcg9Xa"
      }
    },
    {
      "cell_type": "code",
      "source": [
        "!pip install transformers\n",
        "!pip install scikit-learn\n",
        "!pip install tqdm\n",
        "\n",
        "import numpy as np\n",
        "import pandas as pd\n",
        "from transformers import BertTokenizer, BertModel\n",
        "import torch\n",
        "from sklearn.linear_model import LogisticRegression\n",
        "from sklearn.metrics import classification_report, confusion_matrix, ConfusionMatrixDisplay\n",
        "from sklearn.preprocessing import LabelEncoder\n",
        "from sklearn.model_selection import GridSearchCV, train_test_split, cross_val_score\n",
        "import matplotlib.pyplot as plt\n",
        "from tqdm import tqdm\n",
        "\n",
        "# 使用GPU\n",
        "device = torch.device(\"cuda\" if torch.cuda.is_available() else \"cpu\")\n",
        "print(\"Using device:\", device)"
      ],
      "metadata": {
        "colab": {
          "base_uri": "https://localhost:8080/"
        },
        "id": "34iTO-Qz6eag",
        "outputId": "be8d9355-ee68-4bbf-ebd5-5fb8fa29f2cd"
      },
      "execution_count": null,
      "outputs": [
        {
          "output_type": "stream",
          "name": "stdout",
          "text": [
            "Requirement already satisfied: transformers in /usr/local/lib/python3.10/dist-packages (4.41.2)\n",
            "Requirement already satisfied: filelock in /usr/local/lib/python3.10/dist-packages (from transformers) (3.14.0)\n",
            "Requirement already satisfied: huggingface-hub<1.0,>=0.23.0 in /usr/local/lib/python3.10/dist-packages (from transformers) (0.23.3)\n",
            "Requirement already satisfied: numpy>=1.17 in /usr/local/lib/python3.10/dist-packages (from transformers) (1.25.2)\n",
            "Requirement already satisfied: packaging>=20.0 in /usr/local/lib/python3.10/dist-packages (from transformers) (24.1)\n",
            "Requirement already satisfied: pyyaml>=5.1 in /usr/local/lib/python3.10/dist-packages (from transformers) (6.0.1)\n",
            "Requirement already satisfied: regex!=2019.12.17 in /usr/local/lib/python3.10/dist-packages (from transformers) (2024.5.15)\n",
            "Requirement already satisfied: requests in /usr/local/lib/python3.10/dist-packages (from transformers) (2.31.0)\n",
            "Requirement already satisfied: tokenizers<0.20,>=0.19 in /usr/local/lib/python3.10/dist-packages (from transformers) (0.19.1)\n",
            "Requirement already satisfied: safetensors>=0.4.1 in /usr/local/lib/python3.10/dist-packages (from transformers) (0.4.3)\n",
            "Requirement already satisfied: tqdm>=4.27 in /usr/local/lib/python3.10/dist-packages (from transformers) (4.66.4)\n",
            "Requirement already satisfied: fsspec>=2023.5.0 in /usr/local/lib/python3.10/dist-packages (from huggingface-hub<1.0,>=0.23.0->transformers) (2023.6.0)\n",
            "Requirement already satisfied: typing-extensions>=3.7.4.3 in /usr/local/lib/python3.10/dist-packages (from huggingface-hub<1.0,>=0.23.0->transformers) (4.12.2)\n",
            "Requirement already satisfied: charset-normalizer<4,>=2 in /usr/local/lib/python3.10/dist-packages (from requests->transformers) (3.3.2)\n",
            "Requirement already satisfied: idna<4,>=2.5 in /usr/local/lib/python3.10/dist-packages (from requests->transformers) (3.7)\n",
            "Requirement already satisfied: urllib3<3,>=1.21.1 in /usr/local/lib/python3.10/dist-packages (from requests->transformers) (2.0.7)\n",
            "Requirement already satisfied: certifi>=2017.4.17 in /usr/local/lib/python3.10/dist-packages (from requests->transformers) (2024.6.2)\n",
            "Requirement already satisfied: scikit-learn in /usr/local/lib/python3.10/dist-packages (1.2.2)\n",
            "Requirement already satisfied: numpy>=1.17.3 in /usr/local/lib/python3.10/dist-packages (from scikit-learn) (1.25.2)\n",
            "Requirement already satisfied: scipy>=1.3.2 in /usr/local/lib/python3.10/dist-packages (from scikit-learn) (1.11.4)\n",
            "Requirement already satisfied: joblib>=1.1.1 in /usr/local/lib/python3.10/dist-packages (from scikit-learn) (1.4.2)\n",
            "Requirement already satisfied: threadpoolctl>=2.0.0 in /usr/local/lib/python3.10/dist-packages (from scikit-learn) (3.5.0)\n",
            "Requirement already satisfied: tqdm in /usr/local/lib/python3.10/dist-packages (4.66.4)\n",
            "Using device: cpu\n"
          ]
        }
      ]
    },
    {
      "cell_type": "code",
      "source": [
        "# 加載BERT模型和標記器\n",
        "tokenizer = BertTokenizer.from_pretrained('bert-base-uncased')\n",
        "model = BertModel.from_pretrained('bert-base-uncased')\n",
        "model.to(device)  # 將模型移動到 GPU\n",
        "\n",
        "# 設置為評估模式\n",
        "model.eval()"
      ],
      "metadata": {
        "colab": {
          "base_uri": "https://localhost:8080/",
          "height": 1000,
          "referenced_widgets": [
            "6eb6dbf7af9c4702903c7893d2544e10",
            "b06591ca88c748fa8e38726fd7124c67",
            "ab5077e17e6b4b99baf0dcf0fbb1f02f",
            "3a4b614103f7412c902ad5c3d7db359c",
            "4a1aa236fd1d4df49e65d580e986a1db",
            "b3c972b3c9174d5dac0fe78686679d1e",
            "558ec5fbd415401cb7c4ec62bddb8920",
            "9403ae97561b429c886f88f86eff82b4",
            "6f8500b3337646dd9a0aca5132dcbc4e",
            "d68faa3af4544e06bcc7609e121ec90c",
            "368a242a59454142ac3f76e369d0e7ee",
            "5aa473ca307f424a977c40ac40d43bb5",
            "79888c4515cf4a88aa3011dda66e5467",
            "51ccfa71c6e841a68b42cd532e5cba5f",
            "2275beaa52914a62bb1e30d237b4fb10",
            "258a91bf2b08427abc673166e58f3235",
            "4c0ab8fa05f948b9805a4a2c9ae6822f",
            "114ab2f97688431a83e73b6f28b56aef",
            "40bb60c56acc4e8186e167fae8318ec7",
            "19457113e1a2459284afbd3649bab8ff",
            "574c9ff7be08418892443242e39b97ab",
            "ce5f83efd02a46178a0e0873caab9a93",
            "593bab33ef964e0b8635d9b0a28acdce",
            "b426aaf49ecf4abe8e8019c1ef9d2831",
            "f404a86d0621452fa0a496bc28c87991",
            "379d769204b249c1a3e74e22485bab11",
            "88d330f2351647bbb3378a6fb5cfaaee",
            "334251d9f46940ba80d06a9470f81fae",
            "5904a6ce734748309e23b701d7ed9033",
            "9c56b15874b6439f97c59cd23d46b991",
            "1006bb7a59364da0a7c2cdf5a82ff381",
            "e29e5ae59cce4dafaeb1b35ad9dbdd24",
            "6500d028f5f64a30bbce44d58cf79146",
            "f0818ecee2c24c78afba355f3bf2bb7b",
            "1c3e06788d4d409e984a1f1a2068d501",
            "6f64b5c34428449d99f215faeeae10b0",
            "a4fc27d4f5774d83b9256a9ebc3701f4",
            "a2a25c1801754888b7959ab2b4e525de",
            "d1cd2c828bdf4c9d868e5df6cad459ae",
            "619d668d57e04b66a0cc87f3abd5b0e5",
            "cac04de687214fea90ba80035843b172",
            "03d58a3e125146cdaf76a16588814112",
            "21d99b8cb0964c2cac3802f78bfd7be3",
            "5cdeaad8ea4548cc9f67c11613509b38",
            "d1b7f1115d1946c4830301a46e8886bd",
            "8cf295f3a96a4bd29f53ef4bc0de524d",
            "450b9594c4a8474fba30e2dc7c7be1bb",
            "7df4ec1f9ff948988d887c396131cbcb",
            "48df36853f4e473ab9432f84a4e4cad3",
            "1046ab63cd094ae3ab0a794ac9a998b4",
            "0790971eb0b941cda0404f961159b13b",
            "4b2cb5d3332a40c0b297564274fdd1ec",
            "da6c3506c7f1423aaef54a409c84ae54",
            "f969326acef34c72a715819d8f9576a3",
            "98f98802b77b465480752e332c2a8306"
          ]
        },
        "id": "B_kGdWOH6mUL",
        "outputId": "0317cd17-b134-4a80-9454-925c7cf72990"
      },
      "execution_count": null,
      "outputs": [
        {
          "output_type": "stream",
          "name": "stderr",
          "text": [
            "/usr/local/lib/python3.10/dist-packages/huggingface_hub/utils/_token.py:89: UserWarning: \n",
            "The secret `HF_TOKEN` does not exist in your Colab secrets.\n",
            "To authenticate with the Hugging Face Hub, create a token in your settings tab (https://huggingface.co/settings/tokens), set it as secret in your Google Colab and restart your session.\n",
            "You will be able to reuse this secret in all of your notebooks.\n",
            "Please note that authentication is recommended but still optional to access public models or datasets.\n",
            "  warnings.warn(\n"
          ]
        },
        {
          "output_type": "display_data",
          "data": {
            "text/plain": [
              "tokenizer_config.json:   0%|          | 0.00/48.0 [00:00<?, ?B/s]"
            ],
            "application/vnd.jupyter.widget-view+json": {
              "version_major": 2,
              "version_minor": 0,
              "model_id": "6eb6dbf7af9c4702903c7893d2544e10"
            }
          },
          "metadata": {}
        },
        {
          "output_type": "display_data",
          "data": {
            "text/plain": [
              "vocab.txt:   0%|          | 0.00/232k [00:00<?, ?B/s]"
            ],
            "application/vnd.jupyter.widget-view+json": {
              "version_major": 2,
              "version_minor": 0,
              "model_id": "5aa473ca307f424a977c40ac40d43bb5"
            }
          },
          "metadata": {}
        },
        {
          "output_type": "display_data",
          "data": {
            "text/plain": [
              "tokenizer.json:   0%|          | 0.00/466k [00:00<?, ?B/s]"
            ],
            "application/vnd.jupyter.widget-view+json": {
              "version_major": 2,
              "version_minor": 0,
              "model_id": "593bab33ef964e0b8635d9b0a28acdce"
            }
          },
          "metadata": {}
        },
        {
          "output_type": "stream",
          "name": "stderr",
          "text": [
            "/usr/local/lib/python3.10/dist-packages/huggingface_hub/file_download.py:1132: FutureWarning: `resume_download` is deprecated and will be removed in version 1.0.0. Downloads always resume when possible. If you want to force a new download, use `force_download=True`.\n",
            "  warnings.warn(\n"
          ]
        },
        {
          "output_type": "display_data",
          "data": {
            "text/plain": [
              "config.json:   0%|          | 0.00/570 [00:00<?, ?B/s]"
            ],
            "application/vnd.jupyter.widget-view+json": {
              "version_major": 2,
              "version_minor": 0,
              "model_id": "f0818ecee2c24c78afba355f3bf2bb7b"
            }
          },
          "metadata": {}
        },
        {
          "output_type": "display_data",
          "data": {
            "text/plain": [
              "model.safetensors:   0%|          | 0.00/440M [00:00<?, ?B/s]"
            ],
            "application/vnd.jupyter.widget-view+json": {
              "version_major": 2,
              "version_minor": 0,
              "model_id": "d1b7f1115d1946c4830301a46e8886bd"
            }
          },
          "metadata": {}
        },
        {
          "output_type": "execute_result",
          "data": {
            "text/plain": [
              "BertModel(\n",
              "  (embeddings): BertEmbeddings(\n",
              "    (word_embeddings): Embedding(30522, 768, padding_idx=0)\n",
              "    (position_embeddings): Embedding(512, 768)\n",
              "    (token_type_embeddings): Embedding(2, 768)\n",
              "    (LayerNorm): LayerNorm((768,), eps=1e-12, elementwise_affine=True)\n",
              "    (dropout): Dropout(p=0.1, inplace=False)\n",
              "  )\n",
              "  (encoder): BertEncoder(\n",
              "    (layer): ModuleList(\n",
              "      (0-11): 12 x BertLayer(\n",
              "        (attention): BertAttention(\n",
              "          (self): BertSdpaSelfAttention(\n",
              "            (query): Linear(in_features=768, out_features=768, bias=True)\n",
              "            (key): Linear(in_features=768, out_features=768, bias=True)\n",
              "            (value): Linear(in_features=768, out_features=768, bias=True)\n",
              "            (dropout): Dropout(p=0.1, inplace=False)\n",
              "          )\n",
              "          (output): BertSelfOutput(\n",
              "            (dense): Linear(in_features=768, out_features=768, bias=True)\n",
              "            (LayerNorm): LayerNorm((768,), eps=1e-12, elementwise_affine=True)\n",
              "            (dropout): Dropout(p=0.1, inplace=False)\n",
              "          )\n",
              "        )\n",
              "        (intermediate): BertIntermediate(\n",
              "          (dense): Linear(in_features=768, out_features=3072, bias=True)\n",
              "          (intermediate_act_fn): GELUActivation()\n",
              "        )\n",
              "        (output): BertOutput(\n",
              "          (dense): Linear(in_features=3072, out_features=768, bias=True)\n",
              "          (LayerNorm): LayerNorm((768,), eps=1e-12, elementwise_affine=True)\n",
              "          (dropout): Dropout(p=0.1, inplace=False)\n",
              "        )\n",
              "      )\n",
              "    )\n",
              "  )\n",
              "  (pooler): BertPooler(\n",
              "    (dense): Linear(in_features=768, out_features=768, bias=True)\n",
              "    (activation): Tanh()\n",
              "  )\n",
              ")"
            ]
          },
          "metadata": {},
          "execution_count": 10
        }
      ]
    },
    {
      "cell_type": "code",
      "source": [
        "# 生成BERT詞向量的函數\n",
        "def get_bert_vector(texts, batch_size=16):\n",
        "    all_cls_embeddings = []\n",
        "\n",
        "    for i in tqdm(range(0, len(texts), batch_size)):\n",
        "        batch_texts = texts[i:i+batch_size]\n",
        "        inputs = tokenizer(batch_texts.tolist(), return_tensors='pt', truncation=True, padding=True, max_length=128)\n",
        "        inputs = {key: val.to(device) for key, val in inputs.items()}  # 移動到GPU\n",
        "\n",
        "        with torch.no_grad():\n",
        "            outputs = model(**inputs)\n",
        "\n",
        "        cls_embeddings = outputs.last_hidden_state[:, 0, :].cpu().numpy()  # 移到CPU並轉換為numpy\n",
        "        all_cls_embeddings.extend(cls_embeddings)\n",
        "\n",
        "    return np.array(all_cls_embeddings)\n",
        "\n",
        "# 將訓練集和測試集轉換為向量\n",
        "X_train_bert = get_bert_vector(X_train)\n",
        "X_test_bert = get_bert_vector(X_test)\n"
      ],
      "metadata": {
        "colab": {
          "base_uri": "https://localhost:8080/"
        },
        "id": "ieN-uX6e69Qc",
        "outputId": "8dfcaea9-60c7-447f-f529-9eb561dd7f48"
      },
      "execution_count": null,
      "outputs": [
        {
          "output_type": "stream",
          "name": "stderr",
          "text": [
            "100%|██████████| 395/395 [10:45<00:00,  1.63s/it]\n",
            "100%|██████████| 99/99 [02:31<00:00,  1.53s/it]\n"
          ]
        }
      ]
    },
    {
      "cell_type": "code",
      "source": [
        "X_train_bert"
      ],
      "metadata": {
        "colab": {
          "base_uri": "https://localhost:8080/"
        },
        "id": "AfJ8Ds1C_01q",
        "outputId": "ff46e81a-613d-41fb-cf6d-dec7ca28013a"
      },
      "execution_count": null,
      "outputs": [
        {
          "output_type": "execute_result",
          "data": {
            "text/plain": [
              "array([[-0.412744  , -0.06327974,  0.31435785, ..., -0.532389  ,\n",
              "        -0.0357389 ,  0.09567103],\n",
              "       [-0.2774287 ,  0.04613997,  0.0443465 , ..., -0.42565525,\n",
              "         0.1341548 ,  0.5799537 ],\n",
              "       [-0.23087057,  0.04627104,  0.28377265, ..., -0.16905557,\n",
              "         0.28360623,  0.24268745],\n",
              "       ...,\n",
              "       [ 0.08582894, -0.01247747,  0.34396395, ..., -0.4801729 ,\n",
              "         0.2709672 ,  0.27456674],\n",
              "       [-0.17246386,  0.04487026, -0.03098492, ..., -0.57692903,\n",
              "        -0.10229421,  0.41448888],\n",
              "       [-0.10032072,  0.22234513, -0.0270679 , ..., -0.3075844 ,\n",
              "         0.15486053,  0.25975654]], dtype=float32)"
            ]
          },
          "metadata": {},
          "execution_count": 14
        }
      ]
    },
    {
      "cell_type": "markdown",
      "source": [
        "### **使用LogisticRegression進行分類**"
      ],
      "metadata": {
        "id": "N70YAjVXiN-C"
      }
    },
    {
      "cell_type": "code",
      "source": [
        "from sklearn.linear_model import LogisticRegression\n",
        "from sklearn.metrics import classification_report\n",
        "\n",
        "# 訓練Logistic Regression模型 (Word2Vec)\n",
        "clf_w2v = LogisticRegression(max_iter=1000)\n",
        "clf_w2v.fit(X_train_w2v, y_train)\n",
        "y_pred_w2v_lr = clf_w2v.predict(X_test_w2v)\n",
        "\n",
        "# 評估Word2Vec模型\n",
        "target_names = ['negative', 'positive']  # 根據你的情緒標籤定義\n",
        "print(\"Classification Report (Word2Vec + LogisticRegression):\")\n",
        "print(classification_report(y_test, y_pred_w2v_lr, target_names=target_names))\n",
        "conf_matrix_w2v_lr = confusion_matrix(y_test, y_pred_w2v_lr)\n",
        "print(\"Confusion Matrix (Word2Vec + LogisticRegression):\")\n",
        "disp_w2v_lr = ConfusionMatrixDisplay(confusion_matrix=conf_matrix_w2v_lr, display_labels=target_names)\n",
        "disp_w2v_lr.plot(cmap=plt.cm.Blues)\n",
        "plt.show()\n",
        "\n",
        "# 訓練Logistic Regression模型 (BERT)\n",
        "clf_bert = LogisticRegression(max_iter=1000)\n",
        "clf_bert.fit(X_train_bert, y_train)\n",
        "y_pred_bert_lr = clf_bert.predict(X_test_bert)\n",
        "\n",
        "# 評估BERT模型\n",
        "print(\"Classification Report (BERT + LogisticRegression):\")\n",
        "print(classification_report(y_test, y_pred_bert_lr, target_names=target_names))\n",
        "conf_matrix_bert_lr = confusion_matrix(y_test, y_pred_bert_lr)\n",
        "print(\"Confusion Matrix (BERT + LogisticRegression):\")\n",
        "disp_bert_lr = ConfusionMatrixDisplay(confusion_matrix=conf_matrix_bert_lr, display_labels=target_names)\n",
        "disp_bert_lr.plot(cmap=plt.cm.Blues)\n",
        "plt.show()\n"
      ],
      "metadata": {
        "colab": {
          "base_uri": "https://localhost:8080/",
          "height": 1000
        },
        "id": "jj9TrxpbiIeM",
        "outputId": "39007fce-74c9-41c5-cf73-f54c66886937"
      },
      "execution_count": null,
      "outputs": [
        {
          "output_type": "stream",
          "name": "stdout",
          "text": [
            "Classification Report (Word2Vec + LogisticRegression):\n",
            "              precision    recall  f1-score   support\n",
            "\n",
            "    negative       0.51      1.00      0.68       801\n",
            "    positive       0.80      0.02      0.04       779\n",
            "\n",
            "    accuracy                           0.51      1580\n",
            "   macro avg       0.66      0.51      0.36      1580\n",
            "weighted avg       0.65      0.51      0.36      1580\n",
            "\n",
            "Confusion Matrix (Word2Vec + LogisticRegression):\n"
          ]
        },
        {
          "output_type": "display_data",
          "data": {
            "text/plain": [
              "<Figure size 640x480 with 2 Axes>"
            ],
            "image/png": "[encoded data removed]"
          },
          "metadata": {}
        },
        {
          "output_type": "stream",
          "name": "stdout",
          "text": [
            "Classification Report (BERT + LogisticRegression):\n",
            "              precision    recall  f1-score   support\n",
            "\n",
            "    negative       0.76      0.77      0.76       801\n",
            "    positive       0.76      0.75      0.75       779\n",
            "\n",
            "    accuracy                           0.76      1580\n",
            "   macro avg       0.76      0.76      0.76      1580\n",
            "weighted avg       0.76      0.76      0.76      1580\n",
            "\n",
            "Confusion Matrix (BERT + LogisticRegression):\n"
          ]
        },
        {
          "output_type": "display_data",
          "data": {
            "text/plain": [
              "<Figure size 640x480 with 2 Axes>"
            ],
            "image/png": "[encoded data removed]"
          },
          "metadata": {}
        }
      ]
    },
    {
      "cell_type": "markdown",
      "source": [
        "### **使用GridSearch進行超參數調整**"
      ],
      "metadata": {
        "id": "_fQUBaF3hxEw"
      }
    },
    {
      "cell_type": "code",
      "source": [
        "from sklearn.model_selection import GridSearchCV\n",
        "\n",
        "# 設置參數網格 (Word2Vec)\n",
        "param_grid_w2v = {\n",
        "    'C': [0.1, 1, 10, 100],\n",
        "    'penalty': ['l1', 'l2'],\n",
        "    'solver': ['liblinear']\n",
        "}\n",
        "\n",
        "# 進行Grid Search (Word2Vec)\n",
        "grid_w2v = GridSearchCV(LogisticRegression(), param_grid_w2v, refit=True, verbose=2, cv=3)\n",
        "grid_w2v.fit(X_train_w2v, y_train)\n",
        "print(\"Best parameters found (Word2Vec): \", grid_w2v.best_params_)\n",
        "\n",
        "# 設置參數網格 (BERT)\n",
        "param_grid_bert = {\n",
        "    'C': [0.1, 1, 10, 100],\n",
        "    'penalty': ['l1', 'l2'],\n",
        "    'solver': ['lbfgs', 'liblinear']\n",
        "}\n",
        "\n",
        "# 進行Grid Search (BERT)\n",
        "grid_bert = GridSearchCV(LogisticRegression(), param_grid_bert, refit=True, verbose=2, cv=3)\n",
        "grid_bert.fit(X_train_bert, y_train)\n",
        "print(\"Best parameters found (BERT): \", grid_bert.best_params_)"
      ],
      "metadata": {
        "colab": {
          "base_uri": "https://localhost:8080/",
          "height": 911
        },
        "id": "MUc__7qI_5UY",
        "outputId": "fa8e49a8-4eca-4aea-a1d4-062ff4c0cd88"
      },
      "execution_count": null,
      "outputs": [
        {
          "output_type": "stream",
          "name": "stdout",
          "text": [
            "Fitting 3 folds for each of 8 candidates, totalling 24 fits\n",
            "[CV] END ................C=0.1, penalty=l1, solver=liblinear; total time=   0.1s\n",
            "[CV] END ................C=0.1, penalty=l1, solver=liblinear; total time=   0.2s\n",
            "[CV] END ................C=0.1, penalty=l1, solver=liblinear; total time=   0.2s\n",
            "[CV] END ................C=0.1, penalty=l2, solver=liblinear; total time=   0.4s\n",
            "[CV] END ................C=0.1, penalty=l2, solver=liblinear; total time=   0.3s\n",
            "[CV] END ................C=0.1, penalty=l2, solver=liblinear; total time=   0.4s\n",
            "[CV] END ..................C=1, penalty=l1, solver=liblinear; total time=   0.4s\n",
            "[CV] END ..................C=1, penalty=l1, solver=liblinear; total time=   0.5s\n",
            "[CV] END ..................C=1, penalty=l1, solver=liblinear; total time=   0.4s\n",
            "[CV] END ..................C=1, penalty=l2, solver=liblinear; total time=   0.5s\n",
            "[CV] END ..................C=1, penalty=l2, solver=liblinear; total time=   0.5s\n",
            "[CV] END ..................C=1, penalty=l2, solver=liblinear; total time=   0.5s\n",
            "[CV] END .................C=10, penalty=l1, solver=liblinear; total time= 1.1min\n",
            "[CV] END .................C=10, penalty=l1, solver=liblinear; total time=  59.5s\n",
            "[CV] END .................C=10, penalty=l1, solver=liblinear; total time= 1.3min\n",
            "[CV] END .................C=10, penalty=l2, solver=liblinear; total time=   1.7s\n",
            "[CV] END .................C=10, penalty=l2, solver=liblinear; total time=   0.9s\n",
            "[CV] END .................C=10, penalty=l2, solver=liblinear; total time=   1.2s\n"
          ]
        },
        {
          "output_type": "stream",
          "name": "stderr",
          "text": [
            "/usr/local/lib/python3.10/dist-packages/sklearn/svm/_base.py:1244: ConvergenceWarning: Liblinear failed to converge, increase the number of iterations.\n",
            "  warnings.warn(\n"
          ]
        },
        {
          "output_type": "stream",
          "name": "stdout",
          "text": [
            "[CV] END ................C=100, penalty=l1, solver=liblinear; total time= 8.8min\n"
          ]
        },
        {
          "output_type": "stream",
          "name": "stderr",
          "text": [
            "/usr/local/lib/python3.10/dist-packages/sklearn/svm/_base.py:1244: ConvergenceWarning: Liblinear failed to converge, increase the number of iterations.\n",
            "  warnings.warn(\n"
          ]
        },
        {
          "output_type": "stream",
          "name": "stdout",
          "text": [
            "[CV] END ................C=100, penalty=l1, solver=liblinear; total time= 8.2min\n"
          ]
        },
        {
          "output_type": "stream",
          "name": "stderr",
          "text": [
            "/usr/local/lib/python3.10/dist-packages/sklearn/svm/_base.py:1244: ConvergenceWarning: Liblinear failed to converge, increase the number of iterations.\n",
            "  warnings.warn(\n"
          ]
        },
        {
          "output_type": "stream",
          "name": "stdout",
          "text": [
            "[CV] END ................C=100, penalty=l1, solver=liblinear; total time= 7.9min\n",
            "[CV] END ................C=100, penalty=l2, solver=liblinear; total time=   1.2s\n",
            "[CV] END ................C=100, penalty=l2, solver=liblinear; total time=   1.0s\n",
            "[CV] END ................C=100, penalty=l2, solver=liblinear; total time=   1.2s\n"
          ]
        },
        {
          "output_type": "error",
          "ename": "KeyboardInterrupt",
          "evalue": "",
          "traceback": [
            "\u001b[0;31m---------------------------------------------------------------------------\u001b[0m",
            "\u001b[0;31mKeyboardInterrupt\u001b[0m                         Traceback (most recent call last)",
            "\u001b[0;32m<ipython-input-22-b50488aaf571>\u001b[0m in \u001b[0;36m<cell line: 12>\u001b[0;34m()\u001b[0m\n\u001b[1;32m     10\u001b[0m \u001b[0;31m# 進行Grid Search (Word2Vec)\u001b[0m\u001b[0;34m\u001b[0m\u001b[0;34m\u001b[0m\u001b[0m\n\u001b[1;32m     11\u001b[0m \u001b[0mgrid_w2v\u001b[0m \u001b[0;34m=\u001b[0m \u001b[0mGridSearchCV\u001b[0m\u001b[0;34m(\u001b[0m\u001b[0mLogisticRegression\u001b[0m\u001b[0;34m(\u001b[0m\u001b[0;34m)\u001b[0m\u001b[0;34m,\u001b[0m \u001b[0mparam_grid_w2v\u001b[0m\u001b[0;34m,\u001b[0m \u001b[0mrefit\u001b[0m\u001b[0;34m=\u001b[0m\u001b[0;32mTrue\u001b[0m\u001b[0;34m,\u001b[0m \u001b[0mverbose\u001b[0m\u001b[0;34m=\u001b[0m\u001b[0;36m2\u001b[0m\u001b[0;34m,\u001b[0m \u001b[0mcv\u001b[0m\u001b[0;34m=\u001b[0m\u001b[0;36m3\u001b[0m\u001b[0;34m)\u001b[0m\u001b[0;34m\u001b[0m\u001b[0;34m\u001b[0m\u001b[0m\n\u001b[0;32m---> 12\u001b[0;31m \u001b[0mgrid_w2v\u001b[0m\u001b[0;34m.\u001b[0m\u001b[0mfit\u001b[0m\u001b[0;34m(\u001b[0m\u001b[0mX_train_w2v\u001b[0m\u001b[0;34m,\u001b[0m \u001b[0my_train\u001b[0m\u001b[0;34m)\u001b[0m\u001b[0;34m\u001b[0m\u001b[0;34m\u001b[0m\u001b[0m\n\u001b[0m\u001b[1;32m     13\u001b[0m \u001b[0mprint\u001b[0m\u001b[0;34m(\u001b[0m\u001b[0;34m\"Best parameters found (Word2Vec): \"\u001b[0m\u001b[0;34m,\u001b[0m \u001b[0mgrid_w2v\u001b[0m\u001b[0;34m.\u001b[0m\u001b[0mbest_params_\u001b[0m\u001b[0;34m)\u001b[0m\u001b[0;34m\u001b[0m\u001b[0;34m\u001b[0m\u001b[0m\n\u001b[1;32m     14\u001b[0m \u001b[0;34m\u001b[0m\u001b[0m\n",
            "\u001b[0;32m/usr/local/lib/python3.10/dist-packages/sklearn/model_selection/_search.py\u001b[0m in \u001b[0;36mfit\u001b[0;34m(self, X, y, groups, **fit_params)\u001b[0m\n\u001b[1;32m    907\u001b[0m             \u001b[0mrefit_start_time\u001b[0m \u001b[0;34m=\u001b[0m \u001b[0mtime\u001b[0m\u001b[0;34m.\u001b[0m\u001b[0mtime\u001b[0m\u001b[0;34m(\u001b[0m\u001b[0;34m)\u001b[0m\u001b[0;34m\u001b[0m\u001b[0;34m\u001b[0m\u001b[0m\n\u001b[1;32m    908\u001b[0m             \u001b[0;32mif\u001b[0m \u001b[0my\u001b[0m \u001b[0;32mis\u001b[0m \u001b[0;32mnot\u001b[0m \u001b[0;32mNone\u001b[0m\u001b[0;34m:\u001b[0m\u001b[0;34m\u001b[0m\u001b[0;34m\u001b[0m\u001b[0m\n\u001b[0;32m--> 909\u001b[0;31m                 \u001b[0mself\u001b[0m\u001b[0;34m.\u001b[0m\u001b[0mbest_estimator_\u001b[0m\u001b[0;34m.\u001b[0m\u001b[0mfit\u001b[0m\u001b[0;34m(\u001b[0m\u001b[0mX\u001b[0m\u001b[0;34m,\u001b[0m \u001b[0my\u001b[0m\u001b[0;34m,\u001b[0m \u001b[0;34m**\u001b[0m\u001b[0mfit_params\u001b[0m\u001b[0;34m)\u001b[0m\u001b[0;34m\u001b[0m\u001b[0;34m\u001b[0m\u001b[0m\n\u001b[0m\u001b[1;32m    910\u001b[0m             \u001b[0;32melse\u001b[0m\u001b[0;34m:\u001b[0m\u001b[0;34m\u001b[0m\u001b[0;34m\u001b[0m\u001b[0m\n\u001b[1;32m    911\u001b[0m                 \u001b[0mself\u001b[0m\u001b[0;34m.\u001b[0m\u001b[0mbest_estimator_\u001b[0m\u001b[0;34m.\u001b[0m\u001b[0mfit\u001b[0m\u001b[0;34m(\u001b[0m\u001b[0mX\u001b[0m\u001b[0;34m,\u001b[0m \u001b[0;34m**\u001b[0m\u001b[0mfit_params\u001b[0m\u001b[0;34m)\u001b[0m\u001b[0;34m\u001b[0m\u001b[0;34m\u001b[0m\u001b[0m\n",
            "\u001b[0;32m/usr/local/lib/python3.10/dist-packages/sklearn/linear_model/_logistic.py\u001b[0m in \u001b[0;36mfit\u001b[0;34m(self, X, y, sample_weight)\u001b[0m\n\u001b[1;32m   1214\u001b[0m                     \u001b[0;34m\" = {}.\"\u001b[0m\u001b[0;34m.\u001b[0m\u001b[0mformat\u001b[0m\u001b[0;34m(\u001b[0m\u001b[0meffective_n_jobs\u001b[0m\u001b[0;34m(\u001b[0m\u001b[0mself\u001b[0m\u001b[0;34m.\u001b[0m\u001b[0mn_jobs\u001b[0m\u001b[0;34m)\u001b[0m\u001b[0;34m)\u001b[0m\u001b[0;34m\u001b[0m\u001b[0;34m\u001b[0m\u001b[0m\n\u001b[1;32m   1215\u001b[0m                 )\n\u001b[0;32m-> 1216\u001b[0;31m             self.coef_, self.intercept_, self.n_iter_ = _fit_liblinear(\n\u001b[0m\u001b[1;32m   1217\u001b[0m                 \u001b[0mX\u001b[0m\u001b[0;34m,\u001b[0m\u001b[0;34m\u001b[0m\u001b[0;34m\u001b[0m\u001b[0m\n\u001b[1;32m   1218\u001b[0m                 \u001b[0my\u001b[0m\u001b[0;34m,\u001b[0m\u001b[0;34m\u001b[0m\u001b[0;34m\u001b[0m\u001b[0m\n",
            "\u001b[0;32m/usr/local/lib/python3.10/dist-packages/sklearn/svm/_base.py\u001b[0m in \u001b[0;36m_fit_liblinear\u001b[0;34m(X, y, C, fit_intercept, intercept_scaling, class_weight, penalty, dual, verbose, max_iter, tol, random_state, multi_class, loss, epsilon, sample_weight)\u001b[0m\n\u001b[1;32m   1222\u001b[0m \u001b[0;34m\u001b[0m\u001b[0m\n\u001b[1;32m   1223\u001b[0m     \u001b[0msolver_type\u001b[0m \u001b[0;34m=\u001b[0m \u001b[0m_get_liblinear_solver_type\u001b[0m\u001b[0;34m(\u001b[0m\u001b[0mmulti_class\u001b[0m\u001b[0;34m,\u001b[0m \u001b[0mpenalty\u001b[0m\u001b[0;34m,\u001b[0m \u001b[0mloss\u001b[0m\u001b[0;34m,\u001b[0m \u001b[0mdual\u001b[0m\u001b[0;34m)\u001b[0m\u001b[0;34m\u001b[0m\u001b[0;34m\u001b[0m\u001b[0m\n\u001b[0;32m-> 1224\u001b[0;31m     raw_coef_, n_iter_ = liblinear.train_wrap(\n\u001b[0m\u001b[1;32m   1225\u001b[0m         \u001b[0mX\u001b[0m\u001b[0;34m,\u001b[0m\u001b[0;34m\u001b[0m\u001b[0;34m\u001b[0m\u001b[0m\n\u001b[1;32m   1226\u001b[0m         \u001b[0my_ind\u001b[0m\u001b[0;34m,\u001b[0m\u001b[0;34m\u001b[0m\u001b[0;34m\u001b[0m\u001b[0m\n",
            "\u001b[0;31mKeyboardInterrupt\u001b[0m: "
          ]
        }
      ]
    },
    {
      "cell_type": "code",
      "source": [
        "import matplotlib.pyplot as plt\n",
        "# 使用最佳參數進行預測 (Word2Vec)\n",
        "y_pred_w2v = grid_w2v.predict(X_test_w2v)\n",
        "\n",
        "# 手動定義 target_names\n",
        "target_names = list(map(str, label_encoder.classes_))\n",
        "\n",
        "# 評估Word2Vec模型\n",
        "print(\"Classification Report (Word2Vec):\")\n",
        "print(classification_report(y_test, y_pred_w2v, target_names=target_names))\n",
        "\n",
        "# 繪製混淆矩陣\n",
        "conf_matrix_w2v = confusion_matrix(y_test, y_pred_w2v)\n",
        "disp_w2v = ConfusionMatrixDisplay(confusion_matrix=conf_matrix_w2v, display_labels=target_names)\n",
        "disp_w2v.plot()\n",
        "plt.title('Confusion Matrix (Word2Vec)')\n",
        "plt.show()"
      ],
      "metadata": {
        "id": "XD0wm1qMZZEM"
      },
      "execution_count": null,
      "outputs": []
    },
    {
      "cell_type": "code",
      "source": [
        "from sklearn.metrics import classification_report, confusion_matrix, ConfusionMatrixDisplay\n",
        "from sklearn.model_selection import cross_val_score\n",
        "import matplotlib.pyplot as plt\n",
        "# 使用最佳模型進行預測\n",
        "y_pred_bert = grid_bert.predict(X_test_bert)\n",
        "\n",
        "# 將y_test反編碼為原始標籤\n",
        "y_test_original = label_encoder.inverse_transform(y_test)\n",
        "y_pred_original = label_encoder.inverse_transform(y_pred_bert)\n",
        "\n",
        "# 確認唯一值\n",
        "print(\"Unique values in y_test_original:\", np.unique(y_test_original))\n",
        "print(\"Unique values in y_pred_original:\", np.unique(y_pred_original))\n",
        "\n",
        "# 檢查原始標籤類型，並手動定義target_names\n",
        "target_names = list(map(str, label_encoder.classes_))\n",
        "\n",
        "# 生成分類報告\n",
        "print(\"Classification Report:\")\n",
        "print(classification_report(y_test, y_pred_bert, target_names=target_names))\n",
        "\n",
        "# 繪製混淆矩陣\n",
        "conf_matrix = confusion_matrix(y_test, y_pred_bert)\n",
        "disp = ConfusionMatrixDisplay(conf_matrix, display_labels=target_names)\n",
        "disp.plot()\n",
        "plt.show()"
      ],
      "metadata": {
        "id": "u46UMyp8XCdf"
      },
      "execution_count": null,
      "outputs": []
    },
    {
      "cell_type": "markdown",
      "source": [
        "### **使用隨機森林**"
      ],
      "metadata": {
        "id": "s5BJ_6f-lx18"
      }
    },
    {
      "cell_type": "code",
      "source": [
        "from sklearn.ensemble import RandomForestClassifier\n",
        "\n",
        "# 訓練RandomForest模型 (Word2Vec)\n",
        "rf_w2v = RandomForestClassifier(n_estimators=100, random_state=42)\n",
        "rf_w2v.fit(X_train_w2v, y_train)\n",
        "\n",
        "# 预测\n",
        "y_pred_w2v_rf = rf_w2v.predict(X_test_w2v)\n",
        "\n",
        "# 訓練RandomForest模型 (BERT)\n",
        "rf_bert = RandomForestClassifier(n_estimators=100, random_state=42)\n",
        "rf_bert.fit(X_train_bert, y_train)\n",
        "\n",
        "# 预测\n",
        "y_pred_bert_rf = rf_bert.predict(X_test_bert)"
      ],
      "metadata": {
        "id": "h90995Pilyvl"
      },
      "execution_count": null,
      "outputs": []
    },
    {
      "cell_type": "code",
      "source": [
        "# 评估\n",
        "print(\"Classification Report (Word2Vec + Random Forest):\")\n",
        "print(classification_report(y_test, y_pred_w2v_rf,target_names=target_names))\n",
        "conf_matrix_w2v_rf = confusion_matrix(y_test, y_pred_w2v_rf)\n",
        "print(\"Confusion Matrix (Word2Vec + Random Forest):\")\n",
        "disp_w2v_rf = ConfusionMatrixDisplay(confusion_matrix=conf_matrix_w2v_rf, display_labels=target_names)\n",
        "disp_w2v_rf.plot(cmap=plt.cm.Blues)\n",
        "plt.show()\n",
        "\n",
        "# 评估\n",
        "print(\"Classification Report (BERT + Random Forest):\")\n",
        "print(classification_report(y_test, y_pred_bert_rf,target_names=target_names))\n",
        "conf_matrix_bert_rf = confusion_matrix(y_test, y_pred_bert_rf)\n",
        "print(\"Confusion Matrix (BERT + Random Forest):\")\n",
        "\n",
        "disp_bert_rf = ConfusionMatrixDisplay(confusion_matrix=conf_matrix_bert_rf, display_labels=target_names)\n",
        "disp_bert_rf.plot(cmap=plt.cm.Blues)\n",
        "plt.show()"
      ],
      "metadata": {
        "colab": {
          "base_uri": "https://localhost:8080/",
          "height": 1000
        },
        "id": "veNeCa7AAoTo",
        "outputId": "46009f9e-fb76-4709-9dc0-61adb9e346ee"
      },
      "execution_count": null,
      "outputs": [
        {
          "output_type": "stream",
          "name": "stdout",
          "text": [
            "Classification Report (Word2Vec + Random Forest):\n",
            "              precision    recall  f1-score   support\n",
            "\n",
            "    negative       0.69      0.79      0.74       801\n",
            "    positive       0.75      0.63      0.68       779\n",
            "\n",
            "    accuracy                           0.71      1580\n",
            "   macro avg       0.72      0.71      0.71      1580\n",
            "weighted avg       0.72      0.71      0.71      1580\n",
            "\n",
            "Confusion Matrix (Word2Vec + Random Forest):\n"
          ]
        },
        {
          "output_type": "display_data",
          "data": {
            "text/plain": [
              "<Figure size 640x480 with 2 Axes>"
            ],
            "image/png": "[encoded data removed]"
          },
          "metadata": {}
        },
        {
          "output_type": "stream",
          "name": "stdout",
          "text": [
            "Classification Report (BERT + Random Forest):\n",
            "              precision    recall  f1-score   support\n",
            "\n",
            "    negative       0.69      0.80      0.74       801\n",
            "    positive       0.75      0.64      0.69       779\n",
            "\n",
            "    accuracy                           0.72      1580\n",
            "   macro avg       0.72      0.72      0.71      1580\n",
            "weighted avg       0.72      0.72      0.72      1580\n",
            "\n",
            "Confusion Matrix (BERT + Random Forest):\n"
          ]
        },
        {
          "output_type": "display_data",
          "data": {
            "text/plain": [
              "<Figure size 640x480 with 2 Axes>"
            ],
            "image/png": "[encoded data removed]"
          },
          "metadata": {}
        }
      ]
    },
    {
      "cell_type": "markdown",
      "source": [
        "### **使用SVM**"
      ],
      "metadata": {
        "id": "MBku93zKUebe"
      }
    },
    {
      "cell_type": "code",
      "source": [
        "from sklearn.svm import SVC"
      ],
      "metadata": {
        "id": "Ejx_QWN0UsNH"
      },
      "execution_count": null,
      "outputs": []
    },
    {
      "cell_type": "code",
      "source": [
        "# 訓練SVM模型 (Word2Vec)\n",
        "clf_svm_w2v = SVC(kernel='linear', C=1.0, random_state=42)\n",
        "clf_svm_w2v.fit(X_train_w2v, y_train)\n",
        "\n",
        "# 在验证集上做出预测\n",
        "y_pred_svm_w2v = clf_svm_w2v.predict(X_test_w2v)\n",
        "\n",
        "# 訓練SVM模型 (BERT)\n",
        "clf_svm_bert = SVC(kernel='linear', C=1.0, random_state=42)\n",
        "clf_svm_bert.fit(X_train_bert, y_train)\n",
        "\n",
        "# 在验证集上做出预测\n",
        "y_pred_svm_bert = clf_svm_bert.predict(X_test_bert)"
      ],
      "metadata": {
        "collapsed": true,
        "id": "LMlImz0WUilP"
      },
      "execution_count": null,
      "outputs": []
    },
    {
      "cell_type": "code",
      "source": [
        "# 评估模型\n",
        "print(\"Classification Report (Word2Vec + SVM):\")\n",
        "print(classification_report(y_test, y_pred_svm_w2v,target_names=target_names))\n",
        "conf_matrix_w2v_svm = confusion_matrix(y_test, y_pred_svm_w2v)\n",
        "print(\"Confusion Matrix (Word2Vec + SVM):\")\n",
        "disp_w2v_svm = ConfusionMatrixDisplay(confusion_matrix=conf_matrix_w2v_svm, display_labels=target_names)\n",
        "disp_w2v_svm.plot(cmap=plt.cm.Blues)\n",
        "plt.show()\n",
        "\n",
        "# 评估模型\n",
        "print(\"Classification Report (BERT + SVM):\")\n",
        "print(classification_report(y_test, y_pred_svm_bert,target_names=target_names))\n",
        "conf_matrix_bert_svm = confusion_matrix(y_test, y_pred_svm_bert)\n",
        "print(\"Confusion Matrix (BERT + SVM):\")\n",
        "disp_bert_svm = ConfusionMatrixDisplay(confusion_matrix=conf_matrix_bert_svm, display_labels=target_names)\n",
        "disp_bert_svm.plot(cmap=plt.cm.Blues)\n",
        "plt.show()"
      ],
      "metadata": {
        "colab": {
          "base_uri": "https://localhost:8080/",
          "height": 1000
        },
        "id": "1mRpRJPZUwl2",
        "outputId": "70c05846-5c59-44a2-ba1d-000372bde51b"
      },
      "execution_count": null,
      "outputs": [
        {
          "output_type": "stream",
          "name": "stdout",
          "text": [
            "Classification Report (Word2Vec + SVM):\n",
            "              precision    recall  f1-score   support\n",
            "\n",
            "    negative       0.51      1.00      0.67       801\n",
            "    positive       0.00      0.00      0.00       779\n",
            "\n",
            "    accuracy                           0.51      1580\n",
            "   macro avg       0.25      0.50      0.34      1580\n",
            "weighted avg       0.26      0.51      0.34      1580\n",
            "\n",
            "Confusion Matrix (Word2Vec + SVM):\n"
          ]
        },
        {
          "output_type": "stream",
          "name": "stderr",
          "text": [
            "/usr/local/lib/python3.10/dist-packages/sklearn/metrics/_classification.py:1344: UndefinedMetricWarning: Precision and F-score are ill-defined and being set to 0.0 in labels with no predicted samples. Use `zero_division` parameter to control this behavior.\n",
            "  _warn_prf(average, modifier, msg_start, len(result))\n",
            "/usr/local/lib/python3.10/dist-packages/sklearn/metrics/_classification.py:1344: UndefinedMetricWarning: Precision and F-score are ill-defined and being set to 0.0 in labels with no predicted samples. Use `zero_division` parameter to control this behavior.\n",
            "  _warn_prf(average, modifier, msg_start, len(result))\n",
            "/usr/local/lib/python3.10/dist-packages/sklearn/metrics/_classification.py:1344: UndefinedMetricWarning: Precision and F-score are ill-defined and being set to 0.0 in labels with no predicted samples. Use `zero_division` parameter to control this behavior.\n",
            "  _warn_prf(average, modifier, msg_start, len(result))\n"
          ]
        },
        {
          "output_type": "display_data",
          "data": {
            "text/plain": [
              "<Figure size 640x480 with 2 Axes>"
            ],
            "image/png": "[encoded data removed]"
          },
          "metadata": {}
        },
        {
          "output_type": "stream",
          "name": "stdout",
          "text": [
            "Classification Report (BERT + SVM):\n",
            "              precision    recall  f1-score   support\n",
            "\n",
            "    negative       0.75      0.76      0.76       801\n",
            "    positive       0.75      0.75      0.75       779\n",
            "\n",
            "    accuracy                           0.75      1580\n",
            "   macro avg       0.75      0.75      0.75      1580\n",
            "weighted avg       0.75      0.75      0.75      1580\n",
            "\n",
            "Confusion Matrix (BERT + SVM):\n"
          ]
        },
        {
          "output_type": "display_data",
          "data": {
            "text/plain": [
              "<Figure size 640x480 with 2 Axes>"
            ],
            "image/png": "[encoded data removed]"
          },
          "metadata": {}
        }
      ]
    },
    {
      "cell_type": "markdown",
      "source": [
        "### **使用XGBoost進行分類**"
      ],
      "metadata": {
        "id": "W87q2tVDhN5O"
      }
    },
    {
      "cell_type": "code",
      "source": [
        "from xgboost import XGBClassifier\n",
        "from sklearn.metrics import classification_report\n",
        "\n",
        "# 訓練XGBoost模型(Word2Vec)\n",
        "clf_xgb_w2v = XGBClassifier(eval_metric='mlogloss', use_label_encoder=False)\n",
        "clf_xgb_w2v.fit(X_train_w2v, y_train)\n",
        "y_pred_xgb_w2v = clf_xgb_w2v.predict(X_test_w2v)"
      ],
      "metadata": {
        "id": "s4M4xa-X6x5r"
      },
      "execution_count": null,
      "outputs": []
    },
    {
      "cell_type": "code",
      "source": [
        "# @title BERT\n",
        "from sklearn.metrics import classification_report\n",
        "from xgboost import XGBClassifier\n",
        "\n",
        "# 訓練XGBoost模型 (BERT)\n",
        "clf_xgb_bert = XGBClassifier()\n",
        "clf_xgb_bert.fit(X_train_bert, y_train)\n",
        "y_pred_xgb_bert = clf_xgb_bert.predict(X_test_bert)"
      ],
      "metadata": {
        "id": "wzUMC5eIbwfG"
      },
      "execution_count": null,
      "outputs": []
    },
    {
      "cell_type": "code",
      "source": [
        "#target_names = list(map(str, label_encoder.classes_))\n",
        "# 評估XGBoost模型 (Word2Vec)\n",
        "print(\"Classification Report (Word2Vec + XGBoost ):\")\n",
        "print(classification_report(y_test, y_pred_xgb_w2v, target_names=target_names))\n",
        "conf_matrix_w2v_xgb = confusion_matrix(y_test, y_pred_xgb_w2v)\n",
        "print(\"Confusion Matrix (Word2Vec + XGBoost ):\")\n",
        "disp_w2v_xgb = ConfusionMatrixDisplay(confusion_matrix=conf_matrix_w2v_xgb, display_labels=target_names)\n",
        "disp_w2v_xgb.plot(cmap=plt.cm.Blues)\n",
        "plt.show()\n",
        "\n",
        "# 生成分類報告\n",
        "print(\"Classification Report (BERT + XGBoost):\")\n",
        "print(classification_report(y_test, y_pred_xgb_bert, target_names=target_names))\n",
        "conf_matrix_bert_xgb = confusion_matrix(y_test, y_pred_xgb_bert)\n",
        "print(\"Confusion Matrix (BERT + XGBoost ):\")\n",
        "disp_bert_xgb = ConfusionMatrixDisplay(confusion_matrix=conf_matrix_bert_xgb, display_labels=target_names)\n",
        "disp_bert_xgb.plot(cmap=plt.cm.Blues)\n",
        "plt.show()"
      ],
      "metadata": {
        "colab": {
          "base_uri": "https://localhost:8080/",
          "height": 1000
        },
        "id": "TfPwPnC3OMpQ",
        "outputId": "ae32250f-44af-4953-d77b-0c793a531ea9"
      },
      "execution_count": null,
      "outputs": [
        {
          "output_type": "stream",
          "name": "stdout",
          "text": [
            "Classification Report (Word2Vec + XGBoost ):\n",
            "              precision    recall  f1-score   support\n",
            "\n",
            "    negative       0.70      0.78      0.74       801\n",
            "    positive       0.75      0.65      0.70       779\n",
            "\n",
            "    accuracy                           0.72      1580\n",
            "   macro avg       0.72      0.72      0.72      1580\n",
            "weighted avg       0.72      0.72      0.72      1580\n",
            "\n",
            "Confusion Matrix (Word2Vec + XGBoost ):\n"
          ]
        },
        {
          "output_type": "display_data",
          "data": {
            "text/plain": [
              "<Figure size 640x480 with 2 Axes>"
            ],
            "image/png": "[encoded data removed]"
          },
          "metadata": {}
        },
        {
          "output_type": "stream",
          "name": "stdout",
          "text": [
            "Classification Report (BERT + XGBoost):\n",
            "              precision    recall  f1-score   support\n",
            "\n",
            "    negative       0.74      0.77      0.75       801\n",
            "    positive       0.75      0.72      0.73       779\n",
            "\n",
            "    accuracy                           0.74      1580\n",
            "   macro avg       0.74      0.74      0.74      1580\n",
            "weighted avg       0.74      0.74      0.74      1580\n",
            "\n",
            "Confusion Matrix (BERT + XGBoost ):\n"
          ]
        },
        {
          "output_type": "display_data",
          "data": {
            "text/plain": [
              "<Figure size 640x480 with 2 Axes>"
            ],
            "image/png": "[encoded data removed]"
          },
          "metadata": {}
        }
      ]
    },
    {
      "cell_type": "markdown",
      "source": [
        "### **使用LSTM進行分類**"
      ],
      "metadata": {
        "id": "HjD_hU-TRDWC"
      }
    },
    {
      "cell_type": "code",
      "source": [
        "import tensorflow as tf\n",
        "from tensorflow.keras.models import Sequential\n",
        "from tensorflow.keras.layers import LSTM, Dense, Dropout\n",
        "from sklearn.preprocessing import LabelEncoder\n",
        "from tensorflow.keras.utils import to_categorical\n",
        "from sklearn.metrics import classification_report, confusion_matrix, ConfusionMatrixDisplay\n",
        "import matplotlib.pyplot as plt"
      ],
      "metadata": {
        "id": "mwWkKLM6SkTd"
      },
      "execution_count": null,
      "outputs": []
    },
    {
      "cell_type": "code",
      "source": [
        "# 将标签进行编码\n",
        "label_encoder = LabelEncoder()\n",
        "y_train_encoded = label_encoder.fit_transform(y_train)\n",
        "y_test_encoded = label_encoder.transform(y_test)\n",
        "\n",
        "# 将标签转换为one-hot编码\n",
        "y_train_categorical = to_categorical(y_train_encoded)\n",
        "y_test_categorical = to_categorical(y_test_encoded)\n",
        "\n",
        "# Word2Vec 向量需要调整形状，添加时间步伐维度\n",
        "X_train_w2v_reshaped = np.reshape(X_train_w2v, (X_train_w2v.shape[0], 1, X_train_w2v.shape[1]))\n",
        "X_test_w2v_reshaped = np.reshape(X_test_w2v, (X_test_w2v.shape[0], 1, X_test_w2v.shape[1]))"
      ],
      "metadata": {
        "id": "1oSjPP7rRKW8"
      },
      "execution_count": null,
      "outputs": []
    },
    {
      "cell_type": "code",
      "source": [
        "# 定义LSTM模型\n",
        "model_w2v = Sequential()\n",
        "model_w2v.add(LSTM(128, input_shape=(1, 300), dropout=0.2, recurrent_dropout=0.2))\n",
        "model_w2v.add(Dropout(0.2))\n",
        "model_w2v.add(Dense(y_train_categorical.shape[1], activation='softmax'))\n",
        "\n",
        "# 编译模型\n",
        "model_w2v.compile(optimizer='adam', loss='categorical_crossentropy', metrics=['accuracy'])\n",
        "\n",
        "# 训练模型\n",
        "model_w2v.fit(X_train_w2v_reshaped, y_train_categorical, epochs=10, batch_size=32, validation_split=0.2)\n"
      ],
      "metadata": {
        "colab": {
          "base_uri": "https://localhost:8080/"
        },
        "id": "S10-elSTSe7u",
        "outputId": "8161fe15-de09-4d94-a4b5-4dca8efbc7e6"
      },
      "execution_count": null,
      "outputs": [
        {
          "output_type": "stream",
          "name": "stdout",
          "text": [
            "Epoch 1/10\n",
            "158/158 [==============================] - 5s 10ms/step - loss: 0.6910 - accuracy: 0.5272 - val_loss: 0.6899 - val_accuracy: 0.5356\n",
            "Epoch 2/10\n",
            "158/158 [==============================] - 1s 9ms/step - loss: 0.6908 - accuracy: 0.5421 - val_loss: 0.6901 - val_accuracy: 0.5356\n",
            "Epoch 3/10\n",
            "158/158 [==============================] - 1s 9ms/step - loss: 0.6903 - accuracy: 0.5413 - val_loss: 0.6902 - val_accuracy: 0.5356\n",
            "Epoch 4/10\n",
            "158/158 [==============================] - 1s 9ms/step - loss: 0.6897 - accuracy: 0.5328 - val_loss: 0.6898 - val_accuracy: 0.5356\n",
            "Epoch 5/10\n",
            "158/158 [==============================] - 1s 8ms/step - loss: 0.6891 - accuracy: 0.5411 - val_loss: 0.6903 - val_accuracy: 0.5356\n",
            "Epoch 6/10\n",
            "158/158 [==============================] - 2s 10ms/step - loss: 0.6888 - accuracy: 0.5389 - val_loss: 0.6898 - val_accuracy: 0.5356\n",
            "Epoch 7/10\n",
            "158/158 [==============================] - 2s 15ms/step - loss: 0.6892 - accuracy: 0.5375 - val_loss: 0.6912 - val_accuracy: 0.5356\n",
            "Epoch 8/10\n",
            "158/158 [==============================] - 2s 15ms/step - loss: 0.6894 - accuracy: 0.5409 - val_loss: 0.6902 - val_accuracy: 0.5356\n",
            "Epoch 9/10\n",
            "158/158 [==============================] - 1s 8ms/step - loss: 0.6901 - accuracy: 0.5411 - val_loss: 0.6898 - val_accuracy: 0.5356\n",
            "Epoch 10/10\n",
            "158/158 [==============================] - 1s 8ms/step - loss: 0.6892 - accuracy: 0.5365 - val_loss: 0.6892 - val_accuracy: 0.5356\n"
          ]
        },
        {
          "output_type": "execute_result",
          "data": {
            "text/plain": [
              "<keras.src.callbacks.History at 0x7c89e71c3d30>"
            ]
          },
          "metadata": {},
          "execution_count": 68
        }
      ]
    },
    {
      "cell_type": "code",
      "source": [
        "# BERT 向量需要调整形状，添加时间步伐维度\n",
        "X_train_bert_reshaped = np.reshape(X_train_bert, (X_train_bert.shape[0], 1, X_train_bert.shape[1]))\n",
        "X_test_bert_reshaped = np.reshape(X_test_bert, (X_test_bert.shape[0], 1, X_test_bert.shape[1]))\n",
        "\n",
        "# 定义LSTM模型\n",
        "model_bert = Sequential()\n",
        "model_bert.add(LSTM(128, input_shape=(1, 768), dropout=0.2, recurrent_dropout=0.2))\n",
        "model_bert.add(Dropout(0.2))\n",
        "model_bert.add(Dense(y_train_categorical.shape[1], activation='softmax'))\n",
        "\n",
        "# 编译模型\n",
        "model_bert.compile(optimizer='adam', loss='categorical_crossentropy', metrics=['accuracy'])\n",
        "\n",
        "# 训练模型\n",
        "model_bert.fit(X_train_bert_reshaped, y_train_categorical, epochs=10, batch_size=32, validation_split=0.2)\n"
      ],
      "metadata": {
        "colab": {
          "base_uri": "https://localhost:8080/"
        },
        "id": "H-9EJW9AS5Mr",
        "outputId": "a7a19b50-9fdc-4660-cc0c-0d44e895ae0b"
      },
      "execution_count": null,
      "outputs": [
        {
          "output_type": "stream",
          "name": "stdout",
          "text": [
            "Epoch 1/10\n",
            "158/158 [==============================] - 7s 20ms/step - loss: 0.5992 - accuracy: 0.6651 - val_loss: 0.5453 - val_accuracy: 0.7112\n",
            "Epoch 2/10\n",
            "158/158 [==============================] - 2s 12ms/step - loss: 0.5399 - accuracy: 0.7231 - val_loss: 0.5380 - val_accuracy: 0.7176\n",
            "Epoch 3/10\n",
            "158/158 [==============================] - 2s 13ms/step - loss: 0.5033 - accuracy: 0.7506 - val_loss: 0.5059 - val_accuracy: 0.7366\n",
            "Epoch 4/10\n",
            "158/158 [==============================] - 2s 12ms/step - loss: 0.4899 - accuracy: 0.7556 - val_loss: 0.5039 - val_accuracy: 0.7445\n",
            "Epoch 5/10\n",
            "158/158 [==============================] - 2s 13ms/step - loss: 0.4695 - accuracy: 0.7712 - val_loss: 0.5146 - val_accuracy: 0.7389\n",
            "Epoch 6/10\n",
            "158/158 [==============================] - 2s 16ms/step - loss: 0.4565 - accuracy: 0.7716 - val_loss: 0.4979 - val_accuracy: 0.7571\n",
            "Epoch 7/10\n",
            "158/158 [==============================] - 3s 20ms/step - loss: 0.4308 - accuracy: 0.7946 - val_loss: 0.4967 - val_accuracy: 0.7603\n",
            "Epoch 8/10\n",
            "158/158 [==============================] - 2s 14ms/step - loss: 0.4309 - accuracy: 0.7956 - val_loss: 0.5144 - val_accuracy: 0.7445\n",
            "Epoch 9/10\n",
            "158/158 [==============================] - 2s 12ms/step - loss: 0.4026 - accuracy: 0.8108 - val_loss: 0.4860 - val_accuracy: 0.7571\n",
            "Epoch 10/10\n",
            "158/158 [==============================] - 2s 12ms/step - loss: 0.3883 - accuracy: 0.8233 - val_loss: 0.5016 - val_accuracy: 0.7571\n"
          ]
        },
        {
          "output_type": "execute_result",
          "data": {
            "text/plain": [
              "<keras.src.callbacks.History at 0x7c89d6ac68f0>"
            ]
          },
          "metadata": {},
          "execution_count": 69
        }
      ]
    },
    {
      "cell_type": "code",
      "source": [
        "# 预测\n",
        "y_pred_w2v = model_w2v.predict(X_test_w2v_reshaped)\n",
        "y_pred_classes_w2v = np.argmax(y_pred_w2v, axis=1)\n",
        "y_test_classes_w2v = np.argmax(y_test_categorical, axis=1)\n",
        "\n",
        "# 打印分类报告\n",
        "print(\"Classification Report (Word2Vec + LSTM):\")\n",
        "print(classification_report(y_test_classes_w2v, y_pred_classes_w2v, target_names=target_names))\n",
        "\n",
        "# 混淆矩阵\n",
        "conf_matrix_w2v = confusion_matrix(y_test_classes_w2v, y_pred_classes_w2v)\n",
        "disp_w2v = ConfusionMatrixDisplay(confusion_matrix=conf_matrix_w2v, display_labels=label_encoder.classes_)\n",
        "disp_w2v.plot(cmap=plt.cm.Blues)\n",
        "plt.show()\n",
        "\n",
        "# 预测\n",
        "y_pred_bert = model_bert.predict(X_test_bert_reshaped)\n",
        "y_pred_classes_bert = np.argmax(y_pred_bert, axis=1)\n",
        "y_test_classes_bert = np.argmax(y_test_categorical, axis=1)\n",
        "\n",
        "# 打印分类报告\n",
        "print(\"Classification Report (BERT + LSTM):\")\n",
        "print(classification_report(y_test_classes_bert, y_pred_classes_bert, target_names=target_names))\n",
        "\n",
        "# 混淆矩阵\n",
        "conf_matrix_bert = confusion_matrix(y_test_classes_bert, y_pred_classes_bert)\n",
        "disp_bert = ConfusionMatrixDisplay(confusion_matrix=conf_matrix_bert, display_labels=label_encoder.classes_)\n",
        "disp_bert.plot(cmap=plt.cm.Blues)\n",
        "plt.show()"
      ],
      "metadata": {
        "colab": {
          "base_uri": "https://localhost:8080/",
          "height": 1000
        },
        "id": "XenDWHZmTD1K",
        "outputId": "cbece8f4-44c0-4db8-fed6-01bd8e76459e"
      },
      "execution_count": null,
      "outputs": [
        {
          "output_type": "stream",
          "name": "stdout",
          "text": [
            "50/50 [==============================] - 0s 2ms/step\n",
            "Classification Report (Word2Vec + LSTM):\n",
            "              precision    recall  f1-score   support\n",
            "\n",
            "    negative       0.51      1.00      0.67       801\n",
            "    positive       0.00      0.00      0.00       779\n",
            "\n",
            "    accuracy                           0.51      1580\n",
            "   macro avg       0.25      0.50      0.34      1580\n",
            "weighted avg       0.26      0.51      0.34      1580\n",
            "\n"
          ]
        },
        {
          "output_type": "stream",
          "name": "stderr",
          "text": [
            "/usr/local/lib/python3.10/dist-packages/sklearn/metrics/_classification.py:1344: UndefinedMetricWarning: Precision and F-score are ill-defined and being set to 0.0 in labels with no predicted samples. Use `zero_division` parameter to control this behavior.\n",
            "  _warn_prf(average, modifier, msg_start, len(result))\n",
            "/usr/local/lib/python3.10/dist-packages/sklearn/metrics/_classification.py:1344: UndefinedMetricWarning: Precision and F-score are ill-defined and being set to 0.0 in labels with no predicted samples. Use `zero_division` parameter to control this behavior.\n",
            "  _warn_prf(average, modifier, msg_start, len(result))\n",
            "/usr/local/lib/python3.10/dist-packages/sklearn/metrics/_classification.py:1344: UndefinedMetricWarning: Precision and F-score are ill-defined and being set to 0.0 in labels with no predicted samples. Use `zero_division` parameter to control this behavior.\n",
            "  _warn_prf(average, modifier, msg_start, len(result))\n"
          ]
        },
        {
          "output_type": "display_data",
          "data": {
            "text/plain": [
              "<Figure size 640x480 with 2 Axes>"
            ],
            "image/png": "[encoded data removed]"
          },
          "metadata": {}
        },
        {
          "output_type": "stream",
          "name": "stdout",
          "text": [
            "50/50 [==============================] - 0s 3ms/step\n",
            "Classification Report (BERT + LSTM):\n",
            "              precision    recall  f1-score   support\n",
            "\n",
            "    negative       0.83      0.68      0.75       801\n",
            "    positive       0.72      0.86      0.78       779\n",
            "\n",
            "    accuracy                           0.77      1580\n",
            "   macro avg       0.78      0.77      0.76      1580\n",
            "weighted avg       0.78      0.77      0.76      1580\n",
            "\n"
          ]
        },
        {
          "output_type": "display_data",
          "data": {
            "text/plain": [
              "<Figure size 640x480 with 2 Axes>"
            ],
            "image/png": "[encoded data removed]"
          },
          "metadata": {}
        }
      ]
    },
    {
      "cell_type": "markdown",
      "source": [
        "### **使用CNN**"
      ],
      "metadata": {
        "id": "w7iWmmOLQQ0Y"
      }
    },
    {
      "cell_type": "code",
      "source": [
        "from tensorflow.keras.layers import Conv1D, MaxPooling1D, Flatten\n",
        "\n",
        "# 定義CNN模型\n",
        "model_cnn_w2v = Sequential()\n",
        "model_cnn_w2v.add(Conv1D(128, kernel_size=5, activation='relu', input_shape=(300, 1)))\n",
        "model_cnn_w2v.add(MaxPooling1D(pool_size=2))\n",
        "model_cnn_w2v.add(Flatten())\n",
        "model_cnn_w2v.add(Dense(128, activation='relu'))\n",
        "model_cnn_w2v.add(Dense(1, activation='sigmoid'))\n",
        "# 編譯模型\n",
        "model_cnn_w2v.compile(optimizer='adam', loss='binary_crossentropy', metrics=['accuracy'])\n",
        "# 轉為三維輸入\n",
        "X_train_w2v_cnn = np.expand_dims(X_train_w2v, axis=2)\n",
        "X_test_w2v_cnn = np.expand_dims(X_test_w2v, axis=2)\n",
        "# 訓練模型\n",
        "model_cnn_w2v.fit(X_train_w2v_cnn, y_train, epochs=10, batch_size=32, validation_data=(X_test_w2v_cnn, y_test))\n"
      ],
      "metadata": {
        "colab": {
          "base_uri": "https://localhost:8080/"
        },
        "id": "XxOdRZWgQUYB",
        "outputId": "4643bf3f-2c8f-4e64-96c9-da831405c383"
      },
      "execution_count": null,
      "outputs": [
        {
          "output_type": "stream",
          "name": "stdout",
          "text": [
            "Epoch 1/10\n",
            "198/198 [==============================] - 24s 103ms/step - loss: 0.6926 - accuracy: 0.5333 - val_loss: 0.6942 - val_accuracy: 0.5070\n",
            "Epoch 2/10\n",
            "198/198 [==============================] - 11s 55ms/step - loss: 0.6907 - accuracy: 0.5400 - val_loss: 0.6950 - val_accuracy: 0.5070\n",
            "Epoch 3/10\n",
            "198/198 [==============================] - 10s 53ms/step - loss: 0.6901 - accuracy: 0.5400 - val_loss: 0.6971 - val_accuracy: 0.5070\n",
            "Epoch 4/10\n",
            "198/198 [==============================] - 12s 59ms/step - loss: 0.6902 - accuracy: 0.5400 - val_loss: 0.6957 - val_accuracy: 0.5070\n",
            "Epoch 5/10\n",
            "198/198 [==============================] - 17s 87ms/step - loss: 0.6901 - accuracy: 0.5400 - val_loss: 0.6942 - val_accuracy: 0.5070\n",
            "Epoch 6/10\n",
            "198/198 [==============================] - 19s 94ms/step - loss: 0.6901 - accuracy: 0.5400 - val_loss: 0.6951 - val_accuracy: 0.5070\n",
            "Epoch 7/10\n",
            "198/198 [==============================] - 18s 90ms/step - loss: 0.6897 - accuracy: 0.5400 - val_loss: 0.6972 - val_accuracy: 0.5070\n",
            "Epoch 8/10\n",
            "198/198 [==============================] - 17s 86ms/step - loss: 0.6889 - accuracy: 0.5400 - val_loss: 0.6966 - val_accuracy: 0.5070\n",
            "Epoch 9/10\n",
            "198/198 [==============================] - 16s 82ms/step - loss: 0.6888 - accuracy: 0.5400 - val_loss: 0.6935 - val_accuracy: 0.5070\n",
            "Epoch 10/10\n",
            "198/198 [==============================] - 12s 63ms/step - loss: 0.6890 - accuracy: 0.5400 - val_loss: 0.6983 - val_accuracy: 0.5070\n"
          ]
        },
        {
          "output_type": "execute_result",
          "data": {
            "text/plain": [
              "<keras.src.callbacks.History at 0x7c89e0a422c0>"
            ]
          },
          "metadata": {},
          "execution_count": 72
        }
      ]
    },
    {
      "cell_type": "code",
      "source": [
        "# 定义CNN模型\n",
        "model_cnn_bert = Sequential()\n",
        "model_cnn_bert.add(Conv1D(128, kernel_size=5, activation='relu', input_shape=(768, 1)))\n",
        "model_cnn_bert.add(MaxPooling1D(pool_size=2))\n",
        "model_cnn_bert.add(Flatten())\n",
        "model_cnn_bert.add(Dense(128, activation='relu'))\n",
        "model_cnn_bert.add(Dense(1, activation='sigmoid'))\n",
        "\n",
        "# 编译模型\n",
        "model_cnn_bert.compile(optimizer='adam', loss='binary_crossentropy', metrics=['accuracy'])\n",
        "\n",
        "# BERT特征需要调整为三维输入\n",
        "X_train_bert_cnn = np.expand_dims(X_train_bert, axis=2)\n",
        "X_test_bert_cnn = np.expand_dims(X_test_bert, axis=2)\n",
        "\n",
        "# 训练模型\n",
        "model_cnn_bert.fit(X_train_bert_cnn, y_train, epochs=15, batch_size=32, validation_data=(X_test_bert_cnn, y_test))"
      ],
      "metadata": {
        "colab": {
          "base_uri": "https://localhost:8080/"
        },
        "id": "s5E7otmdRDzq",
        "outputId": "676e8944-522f-4b26-dcb3-75246bb2f47c"
      },
      "execution_count": null,
      "outputs": [
        {
          "output_type": "stream",
          "name": "stdout",
          "text": [
            "Epoch 1/15\n",
            "198/198 [==============================] - 42s 203ms/step - loss: 0.6120 - accuracy: 0.6644 - val_loss: 0.5625 - val_accuracy: 0.7114\n",
            "Epoch 2/15\n",
            "198/198 [==============================] - 28s 141ms/step - loss: 0.5485 - accuracy: 0.7158 - val_loss: 0.5222 - val_accuracy: 0.7386\n",
            "Epoch 3/15\n",
            "198/198 [==============================] - 28s 140ms/step - loss: 0.5078 - accuracy: 0.7500 - val_loss: 0.5014 - val_accuracy: 0.7475\n",
            "Epoch 4/15\n",
            "198/198 [==============================] - 28s 144ms/step - loss: 0.4855 - accuracy: 0.7603 - val_loss: 0.4921 - val_accuracy: 0.7551\n",
            "Epoch 5/15\n",
            "198/198 [==============================] - 29s 146ms/step - loss: 0.4418 - accuracy: 0.7845 - val_loss: 0.4967 - val_accuracy: 0.7525\n",
            "Epoch 6/15\n",
            "198/198 [==============================] - 28s 140ms/step - loss: 0.4249 - accuracy: 0.8026 - val_loss: 0.6669 - val_accuracy: 0.6703\n",
            "Epoch 7/15\n",
            "198/198 [==============================] - 28s 142ms/step - loss: 0.4167 - accuracy: 0.8047 - val_loss: 0.5600 - val_accuracy: 0.7443\n",
            "Epoch 8/15\n",
            "198/198 [==============================] - 30s 150ms/step - loss: 0.3951 - accuracy: 0.8151 - val_loss: 0.5825 - val_accuracy: 0.7361\n",
            "Epoch 9/15\n",
            "198/198 [==============================] - 28s 142ms/step - loss: 0.3745 - accuracy: 0.8268 - val_loss: 0.4972 - val_accuracy: 0.7658\n",
            "Epoch 10/15\n",
            "198/198 [==============================] - 29s 147ms/step - loss: 0.3587 - accuracy: 0.8341 - val_loss: 0.5140 - val_accuracy: 0.7500\n",
            "Epoch 11/15\n",
            "198/198 [==============================] - 27s 135ms/step - loss: 0.3337 - accuracy: 0.8501 - val_loss: 0.5558 - val_accuracy: 0.7449\n",
            "Epoch 12/15\n",
            "198/198 [==============================] - 29s 145ms/step - loss: 0.3288 - accuracy: 0.8520 - val_loss: 0.6075 - val_accuracy: 0.7215\n",
            "Epoch 13/15\n",
            "198/198 [==============================] - 28s 140ms/step - loss: 0.2809 - accuracy: 0.8778 - val_loss: 0.5303 - val_accuracy: 0.7652\n",
            "Epoch 14/15\n",
            "198/198 [==============================] - 29s 148ms/step - loss: 0.2572 - accuracy: 0.8897 - val_loss: 0.5991 - val_accuracy: 0.7500\n",
            "Epoch 15/15\n",
            "198/198 [==============================] - 30s 150ms/step - loss: 0.2634 - accuracy: 0.8838 - val_loss: 0.5478 - val_accuracy: 0.7677\n"
          ]
        },
        {
          "output_type": "execute_result",
          "data": {
            "text/plain": [
              "<keras.src.callbacks.History at 0x7c89d9264f40>"
            ]
          },
          "metadata": {},
          "execution_count": 84
        }
      ]
    },
    {
      "cell_type": "code",
      "source": [
        "# 使用测试集进行预测\n",
        "y_pred = model_cnn_w2v.predict(X_test_w2v_cnn)\n",
        "# 将概率值转换为二进制标签\n",
        "y_pred_binary = (y_pred > 0.5).astype(int)\n",
        "# 生成分类报告\n",
        "print(\"Classification Report (CNN + Word2Vec):\")\n",
        "print(classification_report(y_test, y_pred_binary,target_names=target_names))\n",
        "# 生成混淆矩阵\n",
        "conf_matrix = confusion_matrix(y_test, y_pred_binary)\n",
        "disp_w2v_cnn = ConfusionMatrixDisplay(confusion_matrix=conf_matrix, display_labels=target_names)\n",
        "disp_w2v_cnn.plot(cmap=plt.cm.Blues)\n",
        "plt.show()\n",
        "\n",
        "# 生成預測\n",
        "y_pred_proba = model_cnn_bert.predict(X_test_bert_cnn)\n",
        "y_pred = (y_pred_proba > 0.5).astype(int)\n",
        "\n",
        "# 分類報告\n",
        "print(\"Classification Report (BERT + CNN):\")\n",
        "print(classification_report(y_test, y_pred, digits=4,target_names=target_names))\n",
        "\n",
        "# 混淆矩陣\n",
        "conf_matrix = confusion_matrix(y_test, y_pred)\n",
        "disp_bert_cnn = ConfusionMatrixDisplay(confusion_matrix=conf_matrix, display_labels=target_names)\n",
        "disp_bert_cnn.plot(cmap=plt.cm.Blues)\n",
        "plt.show()"
      ],
      "metadata": {
        "colab": {
          "base_uri": "https://localhost:8080/",
          "height": 1000
        },
        "id": "_ofpQeSrRd0x",
        "outputId": "329232e8-e8b0-445e-9519-16636ae14d87"
      },
      "execution_count": null,
      "outputs": [
        {
          "output_type": "stream",
          "name": "stdout",
          "text": [
            "50/50 [==============================] - 0s 9ms/step\n",
            "Classification Report (CNN + Word2Vec):\n",
            "              precision    recall  f1-score   support\n",
            "\n",
            "    negative       0.51      1.00      0.67       801\n",
            "    positive       0.00      0.00      0.00       779\n",
            "\n",
            "    accuracy                           0.51      1580\n",
            "   macro avg       0.25      0.50      0.34      1580\n",
            "weighted avg       0.26      0.51      0.34      1580\n",
            "\n"
          ]
        },
        {
          "output_type": "stream",
          "name": "stderr",
          "text": [
            "/usr/local/lib/python3.10/dist-packages/sklearn/metrics/_classification.py:1344: UndefinedMetricWarning: Precision and F-score are ill-defined and being set to 0.0 in labels with no predicted samples. Use `zero_division` parameter to control this behavior.\n",
            "  _warn_prf(average, modifier, msg_start, len(result))\n",
            "/usr/local/lib/python3.10/dist-packages/sklearn/metrics/_classification.py:1344: UndefinedMetricWarning: Precision and F-score are ill-defined and being set to 0.0 in labels with no predicted samples. Use `zero_division` parameter to control this behavior.\n",
            "  _warn_prf(average, modifier, msg_start, len(result))\n",
            "/usr/local/lib/python3.10/dist-packages/sklearn/metrics/_classification.py:1344: UndefinedMetricWarning: Precision and F-score are ill-defined and being set to 0.0 in labels with no predicted samples. Use `zero_division` parameter to control this behavior.\n",
            "  _warn_prf(average, modifier, msg_start, len(result))\n"
          ]
        },
        {
          "output_type": "display_data",
          "data": {
            "text/plain": [
              "<Figure size 640x480 with 2 Axes>"
            ],
            "image/png": "[encoded data removed]"
          },
          "metadata": {}
        },
        {
          "output_type": "stream",
          "name": "stdout",
          "text": [
            "50/50 [==============================] - 1s 19ms/step\n",
            "Classification Report (BERT + CNN):\n",
            "              precision    recall  f1-score   support\n",
            "\n",
            "    negative     0.8423    0.6667    0.7443       801\n",
            "    positive     0.7178    0.8716    0.7872       779\n",
            "\n",
            "    accuracy                         0.7677      1580\n",
            "   macro avg     0.7800    0.7691    0.7657      1580\n",
            "weighted avg     0.7809    0.7677    0.7654      1580\n",
            "\n"
          ]
        },
        {
          "output_type": "display_data",
          "data": {
            "text/plain": [
              "<Figure size 640x480 with 2 Axes>"
            ],
            "image/png": "[encoded data removed]"
          },
          "metadata": {}
        }
      ]
    },
    {
      "cell_type": "markdown",
      "source": [
        "### **使用RNN**"
      ],
      "metadata": {
        "id": "DWMl8gwumdbO"
      }
    },
    {
      "cell_type": "code",
      "source": [
        "from tensorflow.keras.utils import to_categorical\n",
        "from tensorflow.keras.layers import SimpleRNN, Dense, Dropout\n",
        "\n",
        "# Reshape，使其適應 RNN 輸入要求\n",
        "X_train_w2v_reshaped = np.expand_dims(X_train_w2v, axis=1)  # shape = (samples, timesteps, features)\n",
        "X_test_w2v_reshaped = np.expand_dims(X_test_w2v, axis=1)\n",
        "\n",
        "# 標籤編碼\n",
        "label_encoder = LabelEncoder()\n",
        "y_train_encoded = label_encoder.fit_transform(y_train)\n",
        "y_test_encoded = label_encoder.transform(y_test)\n",
        "\n",
        "# 獨熱編碼\n",
        "y_train_categorical = to_categorical(y_train_encoded, num_classes=2)\n",
        "y_test_categorical = to_categorical(y_test_encoded, num_classes=2)\n",
        "\n",
        "target_names = ['negative', 'positive']\n",
        "\n",
        "# 定義RNN模型\n",
        "model_w2v_rnn = Sequential()\n",
        "model_w2v_rnn.add(SimpleRNN(128, input_shape=(1, 300), dropout=0.2, recurrent_dropout=0.2))\n",
        "model_w2v_rnn.add(Dropout(0.2))\n",
        "model_w2v_rnn.add(Dense(2, activation='softmax'))\n",
        "# 編譯模型\n",
        "model_w2v_rnn.compile(optimizer='adam', loss='categorical_crossentropy', metrics=['accuracy'])\n",
        "# 訓練模型\n",
        "model_w2v_rnn.fit(X_train_w2v_reshaped, y_train_categorical, epochs=30, batch_size=32, validation_split=0.2)\n",
        "\n",
        "# 在测试集上预测\n",
        "y_pred_rnn = model_w2v_rnn.predict(X_test_w2v_reshaped)\n",
        "y_pred_rnn_classes = np.argmax(y_pred_rnn, axis=1)"
      ],
      "metadata": {
        "colab": {
          "base_uri": "https://localhost:8080/"
        },
        "id": "bZY2oC32mhhQ",
        "outputId": "08040025-c571-4df8-caab-7ea2abb392d0"
      },
      "execution_count": null,
      "outputs": [
        {
          "output_type": "stream",
          "name": "stdout",
          "text": [
            "Epoch 1/30\n",
            "158/158 [==============================] - 2s 6ms/step - loss: 0.7100 - accuracy: 0.5211 - val_loss: 0.6892 - val_accuracy: 0.5356\n",
            "Epoch 2/30\n",
            "158/158 [==============================] - 1s 6ms/step - loss: 0.7103 - accuracy: 0.5124 - val_loss: 0.6879 - val_accuracy: 0.5348\n",
            "Epoch 3/30\n",
            "158/158 [==============================] - 1s 6ms/step - loss: 0.6995 - accuracy: 0.5231 - val_loss: 0.7147 - val_accuracy: 0.4810\n",
            "Epoch 4/30\n",
            "158/158 [==============================] - 1s 6ms/step - loss: 0.6952 - accuracy: 0.5330 - val_loss: 0.6894 - val_accuracy: 0.5071\n",
            "Epoch 5/30\n",
            "158/158 [==============================] - 1s 6ms/step - loss: 0.6977 - accuracy: 0.5256 - val_loss: 0.7055 - val_accuracy: 0.4826\n",
            "Epoch 6/30\n",
            "158/158 [==============================] - 1s 6ms/step - loss: 0.6918 - accuracy: 0.5300 - val_loss: 0.6892 - val_accuracy: 0.5356\n",
            "Epoch 7/30\n",
            "158/158 [==============================] - 1s 6ms/step - loss: 0.6910 - accuracy: 0.5306 - val_loss: 0.6879 - val_accuracy: 0.5356\n",
            "Epoch 8/30\n",
            "158/158 [==============================] - 1s 3ms/step - loss: 0.6927 - accuracy: 0.5242 - val_loss: 0.6896 - val_accuracy: 0.5222\n",
            "Epoch 9/30\n",
            "158/158 [==============================] - 1s 4ms/step - loss: 0.6931 - accuracy: 0.5236 - val_loss: 0.6883 - val_accuracy: 0.5356\n",
            "Epoch 10/30\n",
            "158/158 [==============================] - 1s 4ms/step - loss: 0.6902 - accuracy: 0.5351 - val_loss: 0.6916 - val_accuracy: 0.5356\n",
            "Epoch 11/30\n",
            "158/158 [==============================] - 1s 4ms/step - loss: 0.6913 - accuracy: 0.5254 - val_loss: 0.6901 - val_accuracy: 0.5237\n",
            "Epoch 12/30\n",
            "158/158 [==============================] - 1s 4ms/step - loss: 0.6899 - accuracy: 0.5312 - val_loss: 0.6889 - val_accuracy: 0.5356\n",
            "Epoch 13/30\n",
            "158/158 [==============================] - 1s 4ms/step - loss: 0.6897 - accuracy: 0.5341 - val_loss: 0.6902 - val_accuracy: 0.5356\n",
            "Epoch 14/30\n",
            "158/158 [==============================] - 1s 4ms/step - loss: 0.6906 - accuracy: 0.5244 - val_loss: 0.6883 - val_accuracy: 0.5356\n",
            "Epoch 15/30\n",
            "158/158 [==============================] - 1s 3ms/step - loss: 0.6888 - accuracy: 0.5383 - val_loss: 0.6887 - val_accuracy: 0.5253\n",
            "Epoch 16/30\n",
            "158/158 [==============================] - 2s 11ms/step - loss: 0.6905 - accuracy: 0.5337 - val_loss: 0.6889 - val_accuracy: 0.5340\n",
            "Epoch 17/30\n",
            "158/158 [==============================] - 1s 5ms/step - loss: 0.6901 - accuracy: 0.5250 - val_loss: 0.6900 - val_accuracy: 0.5277\n",
            "Epoch 18/30\n",
            "158/158 [==============================] - 1s 4ms/step - loss: 0.6878 - accuracy: 0.5403 - val_loss: 0.6916 - val_accuracy: 0.4937\n",
            "Epoch 19/30\n",
            "158/158 [==============================] - 1s 4ms/step - loss: 0.6905 - accuracy: 0.5292 - val_loss: 0.6938 - val_accuracy: 0.5356\n",
            "Epoch 20/30\n",
            "158/158 [==============================] - 1s 4ms/step - loss: 0.6905 - accuracy: 0.5318 - val_loss: 0.6883 - val_accuracy: 0.5356\n",
            "Epoch 21/30\n",
            "158/158 [==============================] - 1s 4ms/step - loss: 0.6883 - accuracy: 0.5361 - val_loss: 0.6885 - val_accuracy: 0.5356\n",
            "Epoch 22/30\n",
            "158/158 [==============================] - 1s 6ms/step - loss: 0.6887 - accuracy: 0.5345 - val_loss: 0.6969 - val_accuracy: 0.5356\n",
            "Epoch 23/30\n",
            "158/158 [==============================] - 1s 6ms/step - loss: 0.6886 - accuracy: 0.5379 - val_loss: 0.6888 - val_accuracy: 0.5356\n",
            "Epoch 24/30\n",
            "158/158 [==============================] - 1s 6ms/step - loss: 0.6902 - accuracy: 0.5353 - val_loss: 0.6885 - val_accuracy: 0.5301\n",
            "Epoch 25/30\n",
            "158/158 [==============================] - 1s 6ms/step - loss: 0.6896 - accuracy: 0.5361 - val_loss: 0.6881 - val_accuracy: 0.5332\n",
            "Epoch 26/30\n",
            "158/158 [==============================] - 1s 6ms/step - loss: 0.6890 - accuracy: 0.5335 - val_loss: 0.6973 - val_accuracy: 0.4921\n",
            "Epoch 27/30\n",
            "158/158 [==============================] - 1s 6ms/step - loss: 0.6892 - accuracy: 0.5341 - val_loss: 0.6944 - val_accuracy: 0.5356\n",
            "Epoch 28/30\n",
            "158/158 [==============================] - 1s 3ms/step - loss: 0.6888 - accuracy: 0.5375 - val_loss: 0.6887 - val_accuracy: 0.5356\n",
            "Epoch 29/30\n",
            "158/158 [==============================] - 1s 4ms/step - loss: 0.6896 - accuracy: 0.5353 - val_loss: 0.6893 - val_accuracy: 0.5356\n",
            "Epoch 30/30\n",
            "158/158 [==============================] - 1s 4ms/step - loss: 0.6894 - accuracy: 0.5310 - val_loss: 0.6957 - val_accuracy: 0.4976\n",
            "50/50 [==============================] - 0s 2ms/step\n"
          ]
        }
      ]
    },
    {
      "cell_type": "code",
      "source": [
        "# Reshape 数据，使其适应 RNN 输入要求\n",
        "X_train_bert_reshaped = np.expand_dims(X_train_bert, axis=1)  # shape = (samples, timesteps, features)\n",
        "X_test_bert_reshaped = np.expand_dims(X_test_bert, axis=1)\n",
        "\n",
        "# 标签编码\n",
        "label_encoder = LabelEncoder()\n",
        "y_train_encoded = label_encoder.fit_transform(y_train)\n",
        "y_test_encoded = label_encoder.transform(y_test)\n",
        "\n",
        "# 独热编码标签\n",
        "y_train_categorical = to_categorical(y_train_encoded, num_classes=2)\n",
        "y_test_categorical = to_categorical(y_test_encoded, num_classes=2)\n",
        "\n",
        "# 定义 RNN 模型\n",
        "model_bert_rnn = Sequential()\n",
        "model_bert_rnn.add(SimpleRNN(128, input_shape=(1, 768), dropout=0.2, recurrent_dropout=0.2))\n",
        "model_bert_rnn.add(Dropout(0.2))\n",
        "model_bert_rnn.add(Dense(2, activation='softmax'))\n",
        "\n",
        "# 编译模型\n",
        "model_bert_rnn.compile(optimizer='adam', loss='categorical_crossentropy', metrics=['accuracy'])\n",
        "\n",
        "# 训练模型\n",
        "model_bert_rnn.fit(X_train_bert_reshaped, y_train_categorical, epochs=30, batch_size=32, validation_split=0.2)\n",
        "\n",
        "# 在测试集上预测\n",
        "y_pred_rnn_bert = model_bert_rnn.predict(X_test_bert_reshaped)\n",
        "y_pred_rnn_bert_classes = np.argmax(y_pred_rnn_bert, axis=1)"
      ],
      "metadata": {
        "colab": {
          "base_uri": "https://localhost:8080/"
        },
        "id": "L1y2K3MumhVB",
        "outputId": "4a586648-5d7f-4b13-f8d8-cc107efc1cb7"
      },
      "execution_count": null,
      "outputs": [
        {
          "output_type": "stream",
          "name": "stdout",
          "text": [
            "Epoch 1/30\n",
            "158/158 [==============================] - 3s 8ms/step - loss: 0.6340 - accuracy: 0.6523 - val_loss: 0.5380 - val_accuracy: 0.7263\n",
            "Epoch 2/30\n",
            "158/158 [==============================] - 1s 6ms/step - loss: 0.5680 - accuracy: 0.7029 - val_loss: 0.5218 - val_accuracy: 0.7247\n",
            "Epoch 3/30\n",
            "158/158 [==============================] - 1s 6ms/step - loss: 0.5541 - accuracy: 0.7152 - val_loss: 0.5311 - val_accuracy: 0.7089\n",
            "Epoch 4/30\n",
            "158/158 [==============================] - 1s 5ms/step - loss: 0.5333 - accuracy: 0.7281 - val_loss: 0.5273 - val_accuracy: 0.7199\n",
            "Epoch 5/30\n",
            "158/158 [==============================] - 1s 6ms/step - loss: 0.5179 - accuracy: 0.7406 - val_loss: 0.5111 - val_accuracy: 0.7468\n",
            "Epoch 6/30\n",
            "158/158 [==============================] - 2s 10ms/step - loss: 0.5207 - accuracy: 0.7396 - val_loss: 0.5102 - val_accuracy: 0.7366\n",
            "Epoch 7/30\n",
            "158/158 [==============================] - 2s 11ms/step - loss: 0.5056 - accuracy: 0.7518 - val_loss: 0.5110 - val_accuracy: 0.7326\n",
            "Epoch 8/30\n",
            "158/158 [==============================] - 2s 10ms/step - loss: 0.4990 - accuracy: 0.7504 - val_loss: 0.5203 - val_accuracy: 0.7342\n",
            "Epoch 9/30\n",
            "158/158 [==============================] - 1s 7ms/step - loss: 0.4900 - accuracy: 0.7566 - val_loss: 0.4978 - val_accuracy: 0.7500\n",
            "Epoch 10/30\n",
            "158/158 [==============================] - 1s 5ms/step - loss: 0.4900 - accuracy: 0.7623 - val_loss: 0.4933 - val_accuracy: 0.7603\n",
            "Epoch 11/30\n",
            "158/158 [==============================] - 1s 6ms/step - loss: 0.4780 - accuracy: 0.7673 - val_loss: 0.4954 - val_accuracy: 0.7547\n",
            "Epoch 12/30\n",
            "158/158 [==============================] - 1s 6ms/step - loss: 0.4736 - accuracy: 0.7653 - val_loss: 0.4947 - val_accuracy: 0.7476\n",
            "Epoch 13/30\n",
            "158/158 [==============================] - 1s 6ms/step - loss: 0.4778 - accuracy: 0.7635 - val_loss: 0.5090 - val_accuracy: 0.7492\n",
            "Epoch 14/30\n",
            "158/158 [==============================] - 1s 5ms/step - loss: 0.4659 - accuracy: 0.7752 - val_loss: 0.4917 - val_accuracy: 0.7366\n",
            "Epoch 15/30\n",
            "158/158 [==============================] - 1s 6ms/step - loss: 0.4584 - accuracy: 0.7823 - val_loss: 0.4944 - val_accuracy: 0.7500\n",
            "Epoch 16/30\n",
            "158/158 [==============================] - 1s 6ms/step - loss: 0.4487 - accuracy: 0.7817 - val_loss: 0.4880 - val_accuracy: 0.7579\n",
            "Epoch 17/30\n",
            "158/158 [==============================] - 1s 6ms/step - loss: 0.4475 - accuracy: 0.7851 - val_loss: 0.4935 - val_accuracy: 0.7445\n",
            "Epoch 18/30\n",
            "158/158 [==============================] - 1s 6ms/step - loss: 0.4446 - accuracy: 0.7857 - val_loss: 0.4850 - val_accuracy: 0.7579\n",
            "Epoch 19/30\n",
            "158/158 [==============================] - 1s 5ms/step - loss: 0.4456 - accuracy: 0.7849 - val_loss: 0.5270 - val_accuracy: 0.7413\n",
            "Epoch 20/30\n",
            "158/158 [==============================] - 1s 8ms/step - loss: 0.4315 - accuracy: 0.7946 - val_loss: 0.4925 - val_accuracy: 0.7516\n",
            "Epoch 21/30\n",
            "158/158 [==============================] - 1s 9ms/step - loss: 0.4311 - accuracy: 0.7948 - val_loss: 0.4869 - val_accuracy: 0.7524\n",
            "Epoch 22/30\n",
            "158/158 [==============================] - 2s 10ms/step - loss: 0.4197 - accuracy: 0.8039 - val_loss: 0.4823 - val_accuracy: 0.7579\n",
            "Epoch 23/30\n",
            "158/158 [==============================] - 1s 9ms/step - loss: 0.4105 - accuracy: 0.8070 - val_loss: 0.4838 - val_accuracy: 0.7579\n",
            "Epoch 24/30\n",
            "158/158 [==============================] - 1s 6ms/step - loss: 0.4133 - accuracy: 0.8066 - val_loss: 0.4920 - val_accuracy: 0.7563\n",
            "Epoch 25/30\n",
            "158/158 [==============================] - 1s 6ms/step - loss: 0.4067 - accuracy: 0.8076 - val_loss: 0.5058 - val_accuracy: 0.7468\n",
            "Epoch 26/30\n",
            "158/158 [==============================] - 1s 6ms/step - loss: 0.3988 - accuracy: 0.8169 - val_loss: 0.4918 - val_accuracy: 0.7619\n",
            "Epoch 27/30\n",
            "158/158 [==============================] - 1s 6ms/step - loss: 0.3957 - accuracy: 0.8247 - val_loss: 0.4911 - val_accuracy: 0.7587\n",
            "Epoch 28/30\n",
            "158/158 [==============================] - 1s 6ms/step - loss: 0.3821 - accuracy: 0.8197 - val_loss: 0.5169 - val_accuracy: 0.7547\n",
            "Epoch 29/30\n",
            "158/158 [==============================] - 1s 6ms/step - loss: 0.3853 - accuracy: 0.8207 - val_loss: 0.5216 - val_accuracy: 0.7492\n",
            "Epoch 30/30\n",
            "158/158 [==============================] - 1s 5ms/step - loss: 0.3751 - accuracy: 0.8268 - val_loss: 0.5080 - val_accuracy: 0.7492\n",
            "50/50 [==============================] - 0s 2ms/step\n"
          ]
        }
      ]
    },
    {
      "cell_type": "code",
      "source": [
        "# 打印分类报告和混淆矩阵\n",
        "print(\"Classification Report (Word2Vec + RNN):\")\n",
        "print(classification_report(y_test_encoded, y_pred_rnn_classes, target_names=target_names))\n",
        "print(\"Confusion Matrix (Word2Vec + RNN):\")\n",
        "conf_matrix_w2v_rnn = confusion_matrix(y_test_encoded, y_pred_rnn_classes)\n",
        "disp_w2v_rnn = ConfusionMatrixDisplay(confusion_matrix=conf_matrix_w2v_rnn, display_labels=target_names)\n",
        "disp_w2v_rnn.plot(cmap=plt.cm.Blues)\n",
        "plt.show()\n",
        "\n",
        "# 打印分类报告和混淆矩阵\n",
        "print(\"Classification Report (BERT + RNN):\")\n",
        "print(classification_report(y_test_encoded, y_pred_rnn_bert_classes, target_names=target_names))\n",
        "print(\"Confusion Matrix (BERT + RNN):\")\n",
        "conf_matrix_bert_rnn = confusion_matrix(y_test_encoded, y_pred_rnn_bert_classes)\n",
        "disp_bert_rnn = ConfusionMatrixDisplay(confusion_matrix=conf_matrix_bert_rnn, display_labels=target_names)\n",
        "disp_bert_rnn.plot(cmap=plt.cm.Blues)\n",
        "plt.show()"
      ],
      "metadata": {
        "colab": {
          "base_uri": "https://localhost:8080/",
          "height": 1000
        },
        "id": "_EGp1WSiN7_y",
        "outputId": "14c3159a-9e86-471e-ac41-3018309233f6"
      },
      "execution_count": null,
      "outputs": [
        {
          "output_type": "stream",
          "name": "stdout",
          "text": [
            "Classification Report (Word2Vec + RNN):\n",
            "              precision    recall  f1-score   support\n",
            "\n",
            "    negative       0.51      1.00      0.67       801\n",
            "    positive       0.50      0.00      0.00       779\n",
            "\n",
            "    accuracy                           0.51      1580\n",
            "   macro avg       0.50      0.50      0.34      1580\n",
            "weighted avg       0.50      0.51      0.34      1580\n",
            "\n",
            "Confusion Matrix (Word2Vec + RNN):\n"
          ]
        },
        {
          "output_type": "display_data",
          "data": {
            "text/plain": [
              "<Figure size 640x480 with 2 Axes>"
            ],
            "image/png": "[encoded data removed]"
          },
          "metadata": {}
        },
        {
          "output_type": "stream",
          "name": "stdout",
          "text": [
            "Classification Report (BERT + RNN):\n",
            "              precision    recall  f1-score   support\n",
            "\n",
            "    negative       0.79      0.77      0.78       801\n",
            "    positive       0.77      0.79      0.78       779\n",
            "\n",
            "    accuracy                           0.78      1580\n",
            "   macro avg       0.78      0.78      0.78      1580\n",
            "weighted avg       0.78      0.78      0.78      1580\n",
            "\n",
            "Confusion Matrix (BERT + RNN):\n"
          ]
        },
        {
          "output_type": "display_data",
          "data": {
            "text/plain": [
              "<Figure size 640x480 with 2 Axes>"
            ],
            "image/png": "[encoded data removed]"
          },
          "metadata": {}
        }
      ]
    },
    {
      "cell_type": "markdown",
      "source": [
        "### **使用DNN**"
      ],
      "metadata": {
        "id": "m7AAzSamZI2y"
      }
    },
    {
      "cell_type": "code",
      "source": [
        "from tensorflow.keras.models import Sequential\n",
        "from tensorflow.keras.layers import Dense, Dropout\n",
        "from tensorflow.keras.callbacks import EarlyStopping"
      ],
      "metadata": {
        "id": "wJ2RTB87Zni2"
      },
      "execution_count": null,
      "outputs": []
    },
    {
      "cell_type": "code",
      "source": [
        "# 创建MLP模型 (Word2Vec)\n",
        "model_mlp_w2v = Sequential()\n",
        "model_mlp_w2v.add(Dense(512, activation='relu', input_dim=300))\n",
        "model_mlp_w2v.add(Dropout(0.5))\n",
        "model_mlp_w2v.add(Dense(1, activation='sigmoid'))  # 输出层改为1，适用于二分类\n",
        "\n",
        "# 编译模型\n",
        "model_mlp_w2v.compile(optimizer='adam', loss='binary_crossentropy', metrics=['accuracy'])\n",
        "\n",
        "# 定义早停策略\n",
        "early_stopping = EarlyStopping(monitor='val_loss', patience=3, restore_best_weights=True)\n",
        "\n",
        "# 训练模型\n",
        "model_mlp_w2v.fit(X_train_w2v, y_train, epochs=30, batch_size=32, validation_data=(X_test_w2v, y_test), callbacks=[early_stopping])\n",
        "\n",
        "# 在测试集上做出预测\n",
        "y_pred_w2v_dnn = model_mlp_w2v.predict(X_test_w2v)\n",
        "y_pred_w2v_dnn = (y_pred_w2v_dnn > 0.5).astype(int)"
      ],
      "metadata": {
        "colab": {
          "base_uri": "https://localhost:8080/"
        },
        "id": "xkzElh41ZL0K",
        "outputId": "601a161f-44ea-494f-e649-76c1849795f1"
      },
      "execution_count": null,
      "outputs": [
        {
          "output_type": "stream",
          "name": "stdout",
          "text": [
            "Epoch 1/30\n",
            "198/198 [==============================] - 5s 10ms/step - loss: 0.7014 - accuracy: 0.5137 - val_loss: 0.7016 - val_accuracy: 0.5070\n",
            "Epoch 2/30\n",
            "198/198 [==============================] - 2s 9ms/step - loss: 0.6936 - accuracy: 0.5270 - val_loss: 0.6961 - val_accuracy: 0.5070\n",
            "Epoch 3/30\n",
            "198/198 [==============================] - 2s 8ms/step - loss: 0.6901 - accuracy: 0.5373 - val_loss: 0.6955 - val_accuracy: 0.5070\n",
            "Epoch 4/30\n",
            "198/198 [==============================] - 1s 8ms/step - loss: 0.6904 - accuracy: 0.5401 - val_loss: 0.6995 - val_accuracy: 0.5070\n",
            "Epoch 5/30\n",
            "198/198 [==============================] - 2s 9ms/step - loss: 0.6902 - accuracy: 0.5385 - val_loss: 0.6962 - val_accuracy: 0.5070\n",
            "Epoch 6/30\n",
            "198/198 [==============================] - 2s 9ms/step - loss: 0.6895 - accuracy: 0.5393 - val_loss: 0.6994 - val_accuracy: 0.5070\n",
            "50/50 [==============================] - 0s 2ms/step\n"
          ]
        }
      ]
    },
    {
      "cell_type": "code",
      "source": [
        "# 创建MLP模型 (BERT)\n",
        "model_mlp_bert = Sequential()\n",
        "model_mlp_bert.add(Dense(512, activation='relu', input_dim=768))\n",
        "model_mlp_bert.add(Dropout(0.5))\n",
        "model_mlp_bert.add(Dense(1, activation='sigmoid'))  # 输出层改为1，适用于二分类\n",
        "\n",
        "# 编译模型\n",
        "model_mlp_bert.compile(optimizer='adam', loss='binary_crossentropy', metrics=['accuracy'])\n",
        "\n",
        "# 定义早停策略\n",
        "early_stopping = EarlyStopping(monitor='val_loss', patience=3, restore_best_weights=True)\n",
        "\n",
        "# 训练模型\n",
        "model_mlp_bert.fit(X_train_bert, y_train, epochs=10, batch_size=32, validation_data=(X_test_bert, y_test), callbacks=[early_stopping])\n",
        "\n",
        "# 在测试集上做出预测\n",
        "y_pred_bert_dnn = model_mlp_bert.predict(X_test_bert)\n",
        "y_pred_bert_dnn = (y_pred_bert_dnn > 0.5).astype(int)"
      ],
      "metadata": {
        "colab": {
          "base_uri": "https://localhost:8080/"
        },
        "id": "j7Vfzre7TqHw",
        "outputId": "b61fe9b1-1867-43a1-f1bb-f89ea77c20c3"
      },
      "execution_count": null,
      "outputs": [
        {
          "output_type": "stream",
          "name": "stdout",
          "text": [
            "Epoch 1/10\n",
            "198/198 [==============================] - 5s 21ms/step - loss: 0.6033 - accuracy: 0.6669 - val_loss: 0.5290 - val_accuracy: 0.7354\n",
            "Epoch 2/10\n",
            "198/198 [==============================] - 4s 18ms/step - loss: 0.5294 - accuracy: 0.7341 - val_loss: 0.5061 - val_accuracy: 0.7513\n",
            "Epoch 3/10\n",
            "198/198 [==============================] - 3s 13ms/step - loss: 0.5103 - accuracy: 0.7390 - val_loss: 0.5114 - val_accuracy: 0.7525\n",
            "Epoch 4/10\n",
            "198/198 [==============================] - 2s 12ms/step - loss: 0.4851 - accuracy: 0.7603 - val_loss: 0.4911 - val_accuracy: 0.7532\n",
            "Epoch 5/10\n",
            "198/198 [==============================] - 2s 11ms/step - loss: 0.4708 - accuracy: 0.7690 - val_loss: 0.4825 - val_accuracy: 0.7671\n",
            "Epoch 6/10\n",
            "198/198 [==============================] - 2s 10ms/step - loss: 0.4618 - accuracy: 0.7741 - val_loss: 0.4791 - val_accuracy: 0.7595\n",
            "Epoch 7/10\n",
            "198/198 [==============================] - 3s 14ms/step - loss: 0.4374 - accuracy: 0.7891 - val_loss: 0.4859 - val_accuracy: 0.7595\n",
            "Epoch 8/10\n",
            "198/198 [==============================] - 3s 14ms/step - loss: 0.4335 - accuracy: 0.7964 - val_loss: 0.4772 - val_accuracy: 0.7652\n",
            "Epoch 9/10\n",
            "198/198 [==============================] - 3s 16ms/step - loss: 0.4185 - accuracy: 0.8013 - val_loss: 0.4762 - val_accuracy: 0.7582\n",
            "Epoch 10/10\n",
            "198/198 [==============================] - 3s 13ms/step - loss: 0.4007 - accuracy: 0.8115 - val_loss: 0.4844 - val_accuracy: 0.7690\n",
            "50/50 [==============================] - 0s 6ms/step\n"
          ]
        }
      ]
    },
    {
      "cell_type": "code",
      "source": [
        "target_names = ['negative', 'positive']\n",
        "# 评估模型\n",
        "print(\"Classification Report (Word2Vec + DNN):\")\n",
        "print(classification_report(y_test, y_pred_w2v_dnn,target_names=target_names))\n",
        "conf_matrix_w2v_dnn = confusion_matrix(y_test, y_pred_w2v_dnn)\n",
        "print(\"Confusion Matrix (Word2Vec + DNN):\")\n",
        "disp_bert_dnn = ConfusionMatrixDisplay(confusion_matrix=conf_matrix_w2v_dnn, display_labels=target_names)\n",
        "disp_bert_dnn.plot(cmap=plt.cm.Blues)\n",
        "plt.show()\n",
        "\n",
        "# 评估模型\n",
        "print(\"Classification Report (BERT + DNN):\")\n",
        "print(classification_report(y_test, y_pred_bert_dnn,target_names=target_names))\n",
        "conf_matrix_bert_dnn = confusion_matrix(y_test, y_pred_bert_dnn)\n",
        "print(\"Confusion Matrix (BERT + DNN):\")\n",
        "disp_bert_dnn = ConfusionMatrixDisplay(confusion_matrix=conf_matrix_bert_dnn, display_labels=target_names)\n",
        "disp_bert_dnn.plot(cmap=plt.cm.Blues)\n",
        "plt.show()"
      ],
      "metadata": {
        "colab": {
          "base_uri": "https://localhost:8080/",
          "height": 1000
        },
        "id": "04M7np14Mimp",
        "outputId": "992f76b3-4433-4031-c6f1-5fa5028e02c9"
      },
      "execution_count": null,
      "outputs": [
        {
          "output_type": "stream",
          "name": "stdout",
          "text": [
            "Classification Report (Word2Vec + DNN):\n",
            "              precision    recall  f1-score   support\n",
            "\n",
            "    negative       0.51      1.00      0.67       801\n",
            "    positive       0.00      0.00      0.00       779\n",
            "\n",
            "    accuracy                           0.51      1580\n",
            "   macro avg       0.25      0.50      0.34      1580\n",
            "weighted avg       0.26      0.51      0.34      1580\n",
            "\n",
            "Confusion Matrix (Word2Vec + DNN):\n"
          ]
        },
        {
          "output_type": "stream",
          "name": "stderr",
          "text": [
            "/usr/local/lib/python3.10/dist-packages/sklearn/metrics/_classification.py:1344: UndefinedMetricWarning: Precision and F-score are ill-defined and being set to 0.0 in labels with no predicted samples. Use `zero_division` parameter to control this behavior.\n",
            "  _warn_prf(average, modifier, msg_start, len(result))\n",
            "/usr/local/lib/python3.10/dist-packages/sklearn/metrics/_classification.py:1344: UndefinedMetricWarning: Precision and F-score are ill-defined and being set to 0.0 in labels with no predicted samples. Use `zero_division` parameter to control this behavior.\n",
            "  _warn_prf(average, modifier, msg_start, len(result))\n",
            "/usr/local/lib/python3.10/dist-packages/sklearn/metrics/_classification.py:1344: UndefinedMetricWarning: Precision and F-score are ill-defined and being set to 0.0 in labels with no predicted samples. Use `zero_division` parameter to control this behavior.\n",
            "  _warn_prf(average, modifier, msg_start, len(result))\n"
          ]
        },
        {
          "output_type": "display_data",
          "data": {
            "text/plain": [
              "<Figure size 640x480 with 2 Axes>"
            ],
            "image/png": "[encoded data removed]"
          },
          "metadata": {}
        },
        {
          "output_type": "stream",
          "name": "stdout",
          "text": [
            "Classification Report (BERT + DNN):\n",
            "              precision    recall  f1-score   support\n",
            "\n",
            "    negative       0.76      0.80      0.78       801\n",
            "    positive       0.78      0.74      0.76       779\n",
            "\n",
            "    accuracy                           0.77      1580\n",
            "   macro avg       0.77      0.77      0.77      1580\n",
            "weighted avg       0.77      0.77      0.77      1580\n",
            "\n",
            "Confusion Matrix (BERT + DNN):\n"
          ]
        },
        {
          "output_type": "display_data",
          "data": {
            "text/plain": [
              "<Figure size 640x480 with 2 Axes>"
            ],
            "image/png": "[encoded data removed]"
          },
          "metadata": {}
        }
      ]
    }
  ]
}